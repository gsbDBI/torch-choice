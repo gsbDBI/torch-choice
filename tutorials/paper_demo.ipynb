{
 "cells": [
  {
   "attachments": {},
   "cell_type": "markdown",
   "metadata": {},
   "source": [
    "# Replication Materials for the Torch-Choice Paper"
   ]
  },
  {
   "attachments": {},
   "cell_type": "markdown",
   "metadata": {},
   "source": [
    "> Author: Tianyu Du\n",
    "> \n",
    "> Email: `tianyudu@stanford.edu`\n",
    "\n",
    "This repository contains the replication materials for the paper \"Torch-Choice: A Library for Choice Models in PyTorch\"."
   ]
  },
  {
   "cell_type": "code",
   "execution_count": 2,
   "metadata": {},
   "outputs": [],
   "source": [
    "import warnings\n",
    "warnings.filterwarnings(\"ignore\")\n",
    "\n",
    "from time import time\n",
    "import numpy as np\n",
    "import pandas as pd\n",
    "import torch\n",
    "import torch_choice\n",
    "from torch_choice import run\n",
    "from tqdm import tqdm\n",
    "from typing import List\n",
    "from torch_choice.data import ChoiceDataset, utils\n",
    "from torch_choice.model import ConditionalLogitModel"
   ]
  },
  {
   "attachments": {},
   "cell_type": "markdown",
   "metadata": {},
   "source": [
    "# Data Structure"
   ]
  },
  {
   "cell_type": "code",
   "execution_count": 4,
   "metadata": {},
   "outputs": [
    {
     "data": {
      "text/html": [
       "<div>\n",
       "<style scoped>\n",
       "    .dataframe tbody tr th:only-of-type {\n",
       "        vertical-align: middle;\n",
       "    }\n",
       "\n",
       "    .dataframe tbody tr th {\n",
       "        vertical-align: top;\n",
       "    }\n",
       "\n",
       "    .dataframe thead th {\n",
       "        text-align: right;\n",
       "    }\n",
       "</style>\n",
       "<table border=\"1\" class=\"dataframe\">\n",
       "  <thead>\n",
       "    <tr style=\"text-align: right;\">\n",
       "      <th></th>\n",
       "      <th>record_id</th>\n",
       "      <th>session_id</th>\n",
       "      <th>consumer_id</th>\n",
       "      <th>car</th>\n",
       "      <th>purchase</th>\n",
       "      <th>gender</th>\n",
       "      <th>income</th>\n",
       "      <th>speed</th>\n",
       "      <th>discount</th>\n",
       "      <th>price</th>\n",
       "    </tr>\n",
       "  </thead>\n",
       "  <tbody>\n",
       "    <tr>\n",
       "      <th>0</th>\n",
       "      <td>1</td>\n",
       "      <td>1</td>\n",
       "      <td>1</td>\n",
       "      <td>American</td>\n",
       "      <td>1</td>\n",
       "      <td>1</td>\n",
       "      <td>46.699997</td>\n",
       "      <td>10</td>\n",
       "      <td>0.94</td>\n",
       "      <td>90</td>\n",
       "    </tr>\n",
       "    <tr>\n",
       "      <th>1</th>\n",
       "      <td>1</td>\n",
       "      <td>1</td>\n",
       "      <td>1</td>\n",
       "      <td>Japanese</td>\n",
       "      <td>0</td>\n",
       "      <td>1</td>\n",
       "      <td>46.699997</td>\n",
       "      <td>8</td>\n",
       "      <td>0.94</td>\n",
       "      <td>110</td>\n",
       "    </tr>\n",
       "    <tr>\n",
       "      <th>2</th>\n",
       "      <td>1</td>\n",
       "      <td>1</td>\n",
       "      <td>1</td>\n",
       "      <td>European</td>\n",
       "      <td>0</td>\n",
       "      <td>1</td>\n",
       "      <td>46.699997</td>\n",
       "      <td>7</td>\n",
       "      <td>0.94</td>\n",
       "      <td>50</td>\n",
       "    </tr>\n",
       "    <tr>\n",
       "      <th>3</th>\n",
       "      <td>1</td>\n",
       "      <td>1</td>\n",
       "      <td>1</td>\n",
       "      <td>Korean</td>\n",
       "      <td>0</td>\n",
       "      <td>1</td>\n",
       "      <td>46.699997</td>\n",
       "      <td>8</td>\n",
       "      <td>0.94</td>\n",
       "      <td>10</td>\n",
       "    </tr>\n",
       "    <tr>\n",
       "      <th>4</th>\n",
       "      <td>2</td>\n",
       "      <td>2</td>\n",
       "      <td>2</td>\n",
       "      <td>American</td>\n",
       "      <td>1</td>\n",
       "      <td>1</td>\n",
       "      <td>26.100000</td>\n",
       "      <td>10</td>\n",
       "      <td>0.95</td>\n",
       "      <td>100</td>\n",
       "    </tr>\n",
       "  </tbody>\n",
       "</table>\n",
       "</div>"
      ],
      "text/plain": [
       "   record_id  session_id  consumer_id       car  purchase  gender     income  \\\n",
       "0          1           1            1  American         1       1  46.699997   \n",
       "1          1           1            1  Japanese         0       1  46.699997   \n",
       "2          1           1            1  European         0       1  46.699997   \n",
       "3          1           1            1    Korean         0       1  46.699997   \n",
       "4          2           2            2  American         1       1  26.100000   \n",
       "\n",
       "   speed  discount  price  \n",
       "0     10      0.94     90  \n",
       "1      8      0.94    110  \n",
       "2      7      0.94     50  \n",
       "3      8      0.94     10  \n",
       "4     10      0.95    100  "
      ]
     },
     "execution_count": 4,
     "metadata": {},
     "output_type": "execute_result"
    }
   ],
   "source": [
    "car_choice = pd.read_csv(\"https://raw.githubusercontent.com/gsbDBI/torch-choice/main/tutorials/public_datasets/car_choice.csv\")\n",
    "car_choice.head()"
   ]
  },
  {
   "attachments": {},
   "cell_type": "markdown",
   "metadata": {},
   "source": [
    "## Adding Observables, Method 1: Observables Derived from Columns of the Main Dataset"
   ]
  },
  {
   "cell_type": "code",
   "execution_count": 5,
   "metadata": {},
   "outputs": [
    {
     "name": "stdout",
     "output_type": "stream",
     "text": [
      "Creating choice dataset from stata format data-frames...\n",
      "Note: choice sets of different sizes found in different purchase records: {'size 4': 'occurrence 505', 'size 3': 'occurrence 380'}\n",
      "Finished Creating Choice Dataset.\n",
      "* purchase record index range: [1 2 3] ... [883 884 885]\n",
      "* Space of 4 items:\n",
      "                   0         1         2       3\n",
      "item name  American  European  Japanese  Korean\n",
      "* Number of purchase records/cases: 885.\n",
      "* Preview of main data frame:\n",
      "      record_id  session_id  consumer_id       car  purchase  gender  \\\n",
      "0             1           1            1  American         1       1   \n",
      "1             1           1            1  Japanese         0       1   \n",
      "2             1           1            1  European         0       1   \n",
      "3             1           1            1    Korean         0       1   \n",
      "4             2           2            2  American         1       1   \n",
      "...         ...         ...          ...       ...       ...     ...   \n",
      "3155        884         884          884  Japanese         1       1   \n",
      "3156        884         884          884  European         0       1   \n",
      "3157        885         885          885  American         1       1   \n",
      "3158        885         885          885  Japanese         0       1   \n",
      "3159        885         885          885  European         0       1   \n",
      "\n",
      "         income  speed  discount  price  \n",
      "0     46.699997     10      0.94     90  \n",
      "1     46.699997      8      0.94    110  \n",
      "2     46.699997      7      0.94     50  \n",
      "3     46.699997      8      0.94     10  \n",
      "4     26.100000     10      0.95    100  \n",
      "...         ...    ...       ...    ...  \n",
      "3155  20.900000      8      0.89    100  \n",
      "3156  20.900000      7      0.89     40  \n",
      "3157  30.600000     10      0.81    100  \n",
      "3158  30.600000      8      0.81     50  \n",
      "3159  30.600000      7      0.81     40  \n",
      "\n",
      "[3160 rows x 10 columns]\n",
      "* Preview of ChoiceDataset:\n",
      "ChoiceDataset(label=[], item_index=[885], user_index=[885], session_index=[885], item_availability=[885, 4], item_speed=[4, 1], user_gender=[885, 1], user_income=[885, 1], session_discount=[885, 1], itemsession_price=[885, 4, 1], device=cpu)\n"
     ]
    }
   ],
   "source": [
    "user_observable_columns=[\"gender\", \"income\"]\n",
    "from torch_choice.utils.easy_data_wrapper import EasyDatasetWrapper\n",
    "data_wrapper_from_columns = EasyDatasetWrapper(\n",
    "    main_data=car_choice,\n",
    "    purchase_record_column='record_id',\n",
    "    choice_column='purchase',\n",
    "    item_name_column='car',\n",
    "    user_index_column='consumer_id',\n",
    "    session_index_column='session_id',\n",
    "    user_observable_columns=['gender', 'income'],\n",
    "    item_observable_columns=['speed'],\n",
    "    session_observable_columns=['discount'],\n",
    "    itemsession_observable_columns=['price'])\n",
    "\n",
    "data_wrapper_from_columns.summary()\n",
    "dataset = data_wrapper_from_columns.choice_dataset\n",
    "# ChoiceDataset(label=[], item_index=[885], provided_num_items=[], user_index=[885], session_index=[885], item_availability=[885, 4], item_speed=[4, 1], user_gender=[885, 1], user_income=[885, 1], session_discount=[885, 1], itemsession_price=[885, 4, 1], device=cpu)"
   ]
  },
  {
   "attachments": {},
   "cell_type": "markdown",
   "metadata": {},
   "source": [
    "## Adding Observables, Method 2: Added as Separated DataFrames"
   ]
  },
  {
   "cell_type": "code",
   "execution_count": 6,
   "metadata": {},
   "outputs": [],
   "source": [
    "# create dataframes for gender and income. The dataframe for user-specific observable needs to have the `consumer_id` column.\n",
    "gender = car_choice.groupby('consumer_id')['gender'].first().reset_index()\n",
    "income = car_choice.groupby('consumer_id')['income'].first().reset_index()\n",
    "# alternatively, put gender and income in the same dataframe.\n",
    "gender_and_income = car_choice.groupby('consumer_id')[['gender', 'income']].first().reset_index()\n",
    "# speed as item observable, the dataframe requires a `car` column.\n",
    "speed = car_choice.groupby('car')['speed'].first().reset_index()\n",
    "# discount as session observable. the dataframe requires a `session_id` column.\n",
    "discount = car_choice.groupby('session_id')['discount'].first().reset_index()\n",
    "# create the price as itemsession observable, the dataframe requires both `car` and `session_id` columns.\n",
    "price = car_choice[['car', 'session_id', 'price']]\n",
    "# fill in NANs for (session, item) pairs that the item was not available in that session.\n",
    "price = price.pivot('car', 'session_id', 'price').melt(ignore_index=False).reset_index()"
   ]
  },
  {
   "cell_type": "code",
   "execution_count": 7,
   "metadata": {},
   "outputs": [
    {
     "name": "stdout",
     "output_type": "stream",
     "text": [
      "Creating choice dataset from stata format data-frames...\n",
      "Note: choice sets of different sizes found in different purchase records: {'size 4': 'occurrence 505', 'size 3': 'occurrence 380'}\n",
      "Finished Creating Choice Dataset.\n"
     ]
    }
   ],
   "source": [
    "data_wrapper_from_dataframes = EasyDatasetWrapper(\n",
    "    main_data=car_choice,\n",
    "    purchase_record_column='record_id',\n",
    "    choice_column='purchase',\n",
    "    item_name_column='car',\n",
    "    user_index_column='consumer_id',\n",
    "    session_index_column='session_id',\n",
    "    user_observable_data={'gender': gender, 'income': income},\n",
    "    # alternatively, supply gender and income as a single dataframe.\n",
    "    # user_observable_data={'gender_and_income': gender_and_income},\n",
    "    item_observable_data={'speed': speed},\n",
    "    session_observable_data={'discount': discount},\n",
    "    itemsession_observable_data={'price': price})\n",
    "\n",
    "# the second method creates exactly the same ChoiceDataset as the previous method.\n",
    "assert data_wrapper_from_dataframes.choice_dataset == data_wrapper_from_columns.choice_dataset"
   ]
  },
  {
   "cell_type": "code",
   "execution_count": 8,
   "metadata": {},
   "outputs": [
    {
     "name": "stdout",
     "output_type": "stream",
     "text": [
      "Creating choice dataset from stata format data-frames...\n",
      "Note: choice sets of different sizes found in different purchase records: {'size 4': 'occurrence 505', 'size 3': 'occurrence 380'}\n",
      "Finished Creating Choice Dataset.\n"
     ]
    }
   ],
   "source": [
    "data_wrapper_mixed = EasyDatasetWrapper(\n",
    "    main_data=car_choice,\n",
    "    purchase_record_column='record_id',\n",
    "    choice_column='purchase',\n",
    "    item_name_column='car',\n",
    "    user_index_column='consumer_id',\n",
    "    session_index_column='session_id',\n",
    "    user_observable_data={'gender': gender, 'income': income},\n",
    "    item_observable_data={'speed': speed},\n",
    "    session_observable_data={'discount': discount},\n",
    "    itemsession_observable_columns=['price'])\n",
    "\n",
    "# these methods create exactly the same choice dataset.\n",
    "assert data_wrapper_mixed.choice_dataset == data_wrapper_from_columns.choice_dataset == data_wrapper_from_dataframes.choice_dataset"
   ]
  },
  {
   "attachments": {},
   "cell_type": "markdown",
   "metadata": {},
   "source": []
  }
 ],
 "metadata": {
  "kernelspec": {
   "display_name": "dev",
   "language": "python",
   "name": "dev"
  },
  "language_info": {
   "codemirror_mode": {
    "name": "ipython",
    "version": 3
   },
   "file_extension": ".py",
   "mimetype": "text/x-python",
   "name": "python",
   "nbconvert_exporter": "python",
   "pygments_lexer": "ipython3",
   "version": "3.9.7"
  },
  "orig_nbformat": 4,
  "vscode": {
   "interpreter": {
    "hash": "d92ea78b472bc7f2f6d2f7070651103d53ad43bfc70c0f5af1739623a72c3e1d"
   }
  }
 },
 "nbformat": 4,
 "nbformat_minor": 2
}
