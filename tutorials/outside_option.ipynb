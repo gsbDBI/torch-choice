{
 "cells": [
  {
   "cell_type": "markdown",
   "metadata": {},
   "source": [
    "# Tutorial on Modeling Outside Option\n",
    "## Conditional Logit Model"
   ]
  },
  {
   "cell_type": "code",
   "execution_count": 1,
   "metadata": {},
   "outputs": [
    {
     "name": "stdout",
     "output_type": "stream",
     "text": [
      "Running tutorial on CPU.\n"
     ]
    }
   ],
   "source": [
    "from time import time\n",
    "import pandas as pd\n",
    "import torch\n",
    "\n",
    "from torch_choice.data import ChoiceDataset, utils, example_datasets\n",
    "from torch_choice.model import ConditionalLogitModel\n",
    "from torch_choice.model.nested_logit_model import NestedLogitModel\n",
    "\n",
    "from torch_choice import run\n",
    "\n",
    "if torch.cuda.is_available():\n",
    "    print(f'CUDA device used: {torch.cuda.get_device_name()}')\n",
    "    device = 'cuda'\n",
    "else:\n",
    "    print('Running tutorial on CPU.')\n",
    "    device = 'cpu'"
   ]
  },
  {
   "cell_type": "code",
   "execution_count": 17,
   "metadata": {},
   "outputs": [
    {
     "name": "stdout",
     "output_type": "stream",
     "text": [
      "No `session_index` is provided, assume each choice instance is in its own session.\n",
      "ChoiceDataset(num_items=4, num_users=1, num_sessions=2779, label=[], item_index=[2779], user_index=[], session_index=[2779], item_availability=[], itemsession_cost_freq_ovt=[2779, 4, 3], session_income=[2779, 1], itemsession_ivt=[2779, 4, 1], device=cpu)\n"
     ]
    }
   ],
   "source": [
    "dataset = example_datasets.load_mode_canada_dataset()\n",
    "print(dataset)"
   ]
  },
  {
   "cell_type": "code",
   "execution_count": 18,
   "metadata": {},
   "outputs": [],
   "source": [
    "OPTIMIZER = \"LBFGS\""
   ]
  },
  {
   "cell_type": "markdown",
   "metadata": {},
   "source": [
    "### Without the Outside Option (`model_outside_option=False`, by default)"
   ]
  },
  {
   "cell_type": "code",
   "execution_count": 19,
   "metadata": {},
   "outputs": [
    {
     "name": "stdout",
     "output_type": "stream",
     "text": [
      "==================== model received ====================\n",
      "ConditionalLogitModel(\n",
      "  (coef_dict): ModuleDict(\n",
      "    (itemsession_cost_freq_ovt[constant]): Coefficient(variation=constant, num_items=4, num_users=None, num_params=3, 3 trainable parameters in total, initialization=normal, device=cpu).\n",
      "    (session_income[item]): Coefficient(variation=item, num_items=4, num_users=None, num_params=1, 3 trainable parameters in total, initialization=normal, device=cpu).\n",
      "    (itemsession_ivt[item-full]): Coefficient(variation=item-full, num_items=4, num_users=None, num_params=1, 4 trainable parameters in total, initialization=normal, device=cpu).\n",
      "    (intercept[item]): Coefficient(variation=item, num_items=4, num_users=None, num_params=1, 3 trainable parameters in total, initialization=normal, device=cpu).\n",
      "  )\n",
      ")\n",
      "Conditional logistic discrete choice model, expects input features:\n",
      "\n",
      "X[itemsession_cost_freq_ovt[constant]] with 3 parameters, with constant level variation.\n",
      "X[session_income[item]] with 1 parameters, with item level variation.\n",
      "X[itemsession_ivt[item-full]] with 1 parameters, with item-full level variation.\n",
      "X[intercept[item]] with 1 parameters, with item level variation.\n",
      "device=cpu\n",
      "==================== data set received ====================\n",
      "[Train dataset] ChoiceDataset(num_items=4, num_users=1, num_sessions=2779, label=[], item_index=[2779], user_index=[], session_index=[2779], item_availability=[], itemsession_cost_freq_ovt=[2779, 4, 3], session_income=[2779, 1], itemsession_ivt=[2779, 4, 1], device=cpu)\n",
      "[Validation dataset] None\n",
      "[Test dataset] None\n"
     ]
    },
    {
     "name": "stderr",
     "output_type": "stream",
     "text": [
      "GPU available: True (mps), used: False\n",
      "TPU available: False, using: 0 TPU cores\n",
      "IPU available: False, using: 0 IPUs\n",
      "HPU available: False, using: 0 HPUs\n",
      "/Users/tianyudu/miniforge3/envs/dev/lib/python3.9/site-packages/pytorch_lightning/trainer/setup.py:201: UserWarning: MPS available but not used. Set `accelerator` and `devices` using `Trainer(accelerator='mps', devices=1)`.\n",
      "  rank_zero_warn(\n",
      "/Users/tianyudu/miniforge3/envs/dev/lib/python3.9/site-packages/pytorch_lightning/trainer/configuration_validator.py:108: PossibleUserWarning: You defined a `validation_step` but have no `val_dataloader`. Skipping val loop.\n",
      "  rank_zero_warn(\n",
      "\n",
      "  | Name  | Type                  | Params\n",
      "------------------------------------------------\n",
      "0 | model | ConditionalLogitModel | 13    \n",
      "------------------------------------------------\n",
      "13        Trainable params\n",
      "0         Non-trainable params\n",
      "13        Total params\n",
      "0.000     Total estimated model params size (MB)\n",
      "/Users/tianyudu/miniforge3/envs/dev/lib/python3.9/site-packages/pytorch_lightning/trainer/connectors/data_connector.py:224: PossibleUserWarning: The dataloader, train_dataloader, does not have many workers which may be a bottleneck. Consider increasing the value of the `num_workers` argument` (try 10 which is the number of cpus on this machine) in the `DataLoader` init to improve performance.\n",
      "  rank_zero_warn(\n",
      "/Users/tianyudu/miniforge3/envs/dev/lib/python3.9/site-packages/pytorch_lightning/trainer/trainer.py:1609: PossibleUserWarning: The number of training batches (1) is smaller than the logging interval Trainer(log_every_n_steps=5). Set a lower value for log_every_n_steps if you want to see logs for the training epoch.\n",
      "  rank_zero_warn(\n"
     ]
    },
    {
     "data": {
      "application/vnd.jupyter.widget-view+json": {
       "model_id": "7dc66b2c0c7d475588cd22afce3ebb9d",
       "version_major": 2,
       "version_minor": 0
      },
      "text/plain": [
       "Training: 0it [00:00, ?it/s]"
      ]
     },
     "metadata": {},
     "output_type": "display_data"
    },
    {
     "name": "stderr",
     "output_type": "stream",
     "text": [
      "`Trainer.fit` stopped: `max_epochs=500` reached.\n"
     ]
    },
    {
     "name": "stdout",
     "output_type": "stream",
     "text": [
      "Time taken for training: 11.514221906661987\n",
      "Skip testing, no test dataset is provided.\n",
      "==================== model results ====================\n",
      "Log-likelihood: [Training] -1874.3427734375, [Validation] N/A, [Test] N/A\n",
      "\n",
      "| Coefficient                           |   Estimation |   Std. Err. |    z-value |    Pr(>|z|) | Significance   |\n",
      "|:--------------------------------------|-------------:|------------:|-----------:|------------:|:---------------|\n",
      "| itemsession_cost_freq_ovt[constant]_0 |  -0.0333408  |  0.0070955  |  -4.69886  | 2.61615e-06 | ***            |\n",
      "| itemsession_cost_freq_ovt[constant]_1 |   0.0925299  |  0.00509756 |  18.1518   | 0           | ***            |\n",
      "| itemsession_cost_freq_ovt[constant]_2 |  -0.0430029  |  0.00322473 | -13.3354   | 0           | ***            |\n",
      "| session_income[item]_0                |  -0.0890857  |  0.0183473  |  -4.85553  | 1.20063e-06 | ***            |\n",
      "| session_income[item]_1                |  -0.0279928  |  0.00387254 |  -7.22854  | 4.88276e-13 | ***            |\n",
      "| session_income[item]_2                |  -0.0381459  |  0.00408308 |  -9.34243  | 0           | ***            |\n",
      "| itemsession_ivt[item-full]_0          |   0.0595102  |  0.0100728  |   5.90799  | 3.46313e-09 | ***            |\n",
      "| itemsession_ivt[item-full]_1          |  -0.00678253 |  0.00443309 |  -1.52998  | 0.126022    |                |\n",
      "| itemsession_ivt[item-full]_2          |  -0.00646005 |  0.00189849 |  -3.40273  | 0.000667168 | ***            |\n",
      "| itemsession_ivt[item-full]_3          |  -0.00145029 |  0.00118748 |  -1.22131  | 0.221967    |                |\n",
      "| intercept[item]_0                     |   0.697883   |  1.28022    |   0.545126 | 0.585667    |                |\n",
      "| intercept[item]_1                     |   1.84397    |  0.708502   |   2.60263  | 0.00925115  | **             |\n",
      "| intercept[item]_2                     |   3.274      |  0.62441    |   5.24335  | 1.57686e-07 | ***            |\n",
      "Significance codes: 0 '***' 0.001 '**' 0.01 '*' 0.05 '.' 0.1 ' ' 1\n",
      "Time taken: 11.61436676979065\n"
     ]
    }
   ],
   "source": [
    "model = ConditionalLogitModel(\n",
    "    formula='(itemsession_cost_freq_ovt|constant) + (session_income|item) + (itemsession_ivt|item-full) + (intercept|item)',\n",
    "    dataset=dataset,\n",
    "    num_items=4)\n",
    "start_time = time()\n",
    "run(model, dataset, num_epochs=500, learning_rate=0.01, model_optimizer=OPTIMIZER, batch_size=-1)\n",
    "print('Time taken:', time() - start_time)"
   ]
  },
  {
   "cell_type": "markdown",
   "metadata": {},
   "source": [
    "### With the Outside Option (`model_outside_option=True`, need to set the keyword argument) But we are not assign any `-1` in `item_index`, this is just for consistency check."
   ]
  },
  {
   "cell_type": "code",
   "execution_count": 5,
   "metadata": {},
   "outputs": [
    {
     "name": "stdout",
     "output_type": "stream",
     "text": [
      "==================== model received ====================\n",
      "ConditionalLogitModel(\n",
      "  (coef_dict): ModuleDict(\n",
      "    (itemsession_cost_freq_ovt[constant]): Coefficient(variation=constant, num_items=4, num_users=None, num_params=3, 3 trainable parameters in total, initialization=normal, device=cpu).\n",
      "    (session_income[item]): Coefficient(variation=item, num_items=4, num_users=None, num_params=1, 3 trainable parameters in total, initialization=normal, device=cpu).\n",
      "    (itemsession_ivt[item-full]): Coefficient(variation=item-full, num_items=4, num_users=None, num_params=1, 4 trainable parameters in total, initialization=normal, device=cpu).\n",
      "    (intercept[item]): Coefficient(variation=item, num_items=4, num_users=None, num_params=1, 3 trainable parameters in total, initialization=normal, device=cpu).\n",
      "  )\n",
      ")\n",
      "Conditional logistic discrete choice model, expects input features:\n",
      "\n",
      "X[itemsession_cost_freq_ovt[constant]] with 3 parameters, with constant level variation.\n",
      "X[session_income[item]] with 1 parameters, with item level variation.\n",
      "X[itemsession_ivt[item-full]] with 1 parameters, with item-full level variation.\n",
      "X[intercept[item]] with 1 parameters, with item level variation.\n",
      "device=cpu\n",
      "==================== data set received ====================\n",
      "[Train dataset] ChoiceDataset(num_items=4, num_users=1, num_sessions=2779, label=[], item_index=[2779], user_index=[], session_index=[2779], item_availability=[], itemsession_cost_freq_ovt=[2779, 4, 3], session_income=[2779, 1], itemsession_ivt=[2779, 4, 1], device=cpu)\n",
      "[Validation dataset] None\n",
      "[Test dataset] None\n"
     ]
    },
    {
     "name": "stderr",
     "output_type": "stream",
     "text": [
      "GPU available: True (mps), used: False\n",
      "TPU available: False, using: 0 TPU cores\n",
      "IPU available: False, using: 0 IPUs\n",
      "HPU available: False, using: 0 HPUs\n",
      "/Users/tianyudu/miniforge3/envs/dev/lib/python3.9/site-packages/pytorch_lightning/trainer/setup.py:201: UserWarning: MPS available but not used. Set `accelerator` and `devices` using `Trainer(accelerator='mps', devices=1)`.\n",
      "  rank_zero_warn(\n",
      "/Users/tianyudu/miniforge3/envs/dev/lib/python3.9/site-packages/pytorch_lightning/trainer/configuration_validator.py:108: PossibleUserWarning: You defined a `validation_step` but have no `val_dataloader`. Skipping val loop.\n",
      "  rank_zero_warn(\n",
      "\n",
      "  | Name  | Type                  | Params\n",
      "------------------------------------------------\n",
      "0 | model | ConditionalLogitModel | 13    \n",
      "------------------------------------------------\n",
      "13        Trainable params\n",
      "0         Non-trainable params\n",
      "13        Total params\n",
      "0.000     Total estimated model params size (MB)\n",
      "/Users/tianyudu/miniforge3/envs/dev/lib/python3.9/site-packages/pytorch_lightning/trainer/connectors/data_connector.py:224: PossibleUserWarning: The dataloader, train_dataloader, does not have many workers which may be a bottleneck. Consider increasing the value of the `num_workers` argument` (try 10 which is the number of cpus on this machine) in the `DataLoader` init to improve performance.\n",
      "  rank_zero_warn(\n",
      "/Users/tianyudu/miniforge3/envs/dev/lib/python3.9/site-packages/pytorch_lightning/trainer/trainer.py:1609: PossibleUserWarning: The number of training batches (1) is smaller than the logging interval Trainer(log_every_n_steps=5). Set a lower value for log_every_n_steps if you want to see logs for the training epoch.\n",
      "  rank_zero_warn(\n"
     ]
    },
    {
     "data": {
      "application/vnd.jupyter.widget-view+json": {
       "model_id": "a2c3c171a7cf416aa29f11a67fb71f3d",
       "version_major": 2,
       "version_minor": 0
      },
      "text/plain": [
       "Training: 0it [00:00, ?it/s]"
      ]
     },
     "metadata": {},
     "output_type": "display_data"
    },
    {
     "name": "stderr",
     "output_type": "stream",
     "text": [
      "`Trainer.fit` stopped: `max_epochs=500` reached.\n"
     ]
    },
    {
     "name": "stdout",
     "output_type": "stream",
     "text": [
      "Time taken for training: 13.11423945426941\n",
      "Skip testing, no test dataset is provided.\n",
      "==================== model results ====================\n",
      "Log-likelihood: [Training] -1929.06787109375, [Validation] N/A, [Test] N/A\n",
      "\n",
      "| Coefficient                           |   Estimation |   Std. Err. |    z-value |    Pr(>|z|) | Significance   |\n",
      "|:--------------------------------------|-------------:|------------:|-----------:|------------:|:---------------|\n",
      "| itemsession_cost_freq_ovt[constant]_0 |  0.01429     |  0.00519588 |   2.75025  | 0.00595499  | **             |\n",
      "| itemsession_cost_freq_ovt[constant]_1 |  0.0853419   |  0.00508123 |  16.7955   | 0           | ***            |\n",
      "| itemsession_cost_freq_ovt[constant]_2 | -0.0421181   |  0.0031688  | -13.2915   | 0           | ***            |\n",
      "| session_income[item]_0                | -0.0932219   |  0.0184227  |  -5.06016  | 4.18903e-07 | ***            |\n",
      "| session_income[item]_1                | -0.0313845   |  0.00394436 |  -7.95682  | 1.77636e-15 | ***            |\n",
      "| session_income[item]_2                | -0.0418453   |  0.00415948 | -10.0602   | 0           | ***            |\n",
      "| itemsession_ivt[item-full]_0          |  0.0725283   |  0.00976488 |   7.42746  | 1.108e-13   | ***            |\n",
      "| itemsession_ivt[item-full]_1          | -0.0039004   |  0.00460166 |  -0.847607 | 0.396657    |                |\n",
      "| itemsession_ivt[item-full]_2          | -0.011874    |  0.00183329 |  -6.47692  | 9.36144e-11 | ***            |\n",
      "| itemsession_ivt[item-full]_3          | -0.000627152 |  0.00117352 |  -0.534421 | 0.59305     |                |\n",
      "| intercept[item]_0                     |  6.74182     |  1.17094    |   5.7576   | 8.53188e-09 | ***            |\n",
      "| intercept[item]_1                     |  8.07169     |  0.384116   |  21.0137   | 0           | ***            |\n",
      "| intercept[item]_2                     |  8.51868     |  0.399478   |  21.3245   | 0           | ***            |\n",
      "Significance codes: 0 '***' 0.001 '**' 0.01 '*' 0.05 '.' 0.1 ' ' 1\n",
      "Time taken: 13.29715085029602\n"
     ]
    }
   ],
   "source": [
    "model = ConditionalLogitModel(\n",
    "    formula='(itemsession_cost_freq_ovt|constant) + (session_income|item) + (itemsession_ivt|item-full) + (intercept|item)',\n",
    "    dataset=dataset,\n",
    "    num_items=4,\n",
    "    model_outside_option=True)\n",
    "start_time = time()\n",
    "run(model, dataset, num_epochs=500, learning_rate=0.01, model_optimizer=OPTIMIZER, batch_size=-1)\n",
    "print('Time taken:', time() - start_time)"
   ]
  },
  {
   "cell_type": "markdown",
   "metadata": {},
   "source": [
    "### Set outside option with some `item_index` as `-1` (`model_outside_option=True`, need to set the keyword argument)"
   ]
  },
  {
   "cell_type": "code",
   "execution_count": 20,
   "metadata": {},
   "outputs": [
    {
     "name": "stderr",
     "output_type": "stream",
     "text": [
      "GPU available: True (mps), used: False\n",
      "TPU available: False, using: 0 TPU cores\n",
      "IPU available: False, using: 0 IPUs\n",
      "HPU available: False, using: 0 HPUs\n",
      "/Users/tianyudu/miniforge3/envs/dev/lib/python3.9/site-packages/pytorch_lightning/trainer/setup.py:201: UserWarning: MPS available but not used. Set `accelerator` and `devices` using `Trainer(accelerator='mps', devices=1)`.\n",
      "  rank_zero_warn(\n",
      "/Users/tianyudu/miniforge3/envs/dev/lib/python3.9/site-packages/pytorch_lightning/trainer/configuration_validator.py:108: PossibleUserWarning: You defined a `validation_step` but have no `val_dataloader`. Skipping val loop.\n",
      "  rank_zero_warn(\n",
      "\n",
      "  | Name  | Type                  | Params\n",
      "------------------------------------------------\n",
      "0 | model | ConditionalLogitModel | 13    \n",
      "------------------------------------------------\n",
      "13        Trainable params\n",
      "0         Non-trainable params\n",
      "13        Total params\n",
      "0.000     Total estimated model params size (MB)\n"
     ]
    },
    {
     "name": "stdout",
     "output_type": "stream",
     "text": [
      "==================== model received ====================\n",
      "ConditionalLogitModel(\n",
      "  (coef_dict): ModuleDict(\n",
      "    (itemsession_cost_freq_ovt[constant]): Coefficient(variation=constant, num_items=4, num_users=None, num_params=3, 3 trainable parameters in total, initialization=normal, device=cpu).\n",
      "    (session_income[item]): Coefficient(variation=item, num_items=4, num_users=None, num_params=1, 3 trainable parameters in total, initialization=normal, device=cpu).\n",
      "    (itemsession_ivt[item-full]): Coefficient(variation=item-full, num_items=4, num_users=None, num_params=1, 4 trainable parameters in total, initialization=normal, device=cpu).\n",
      "    (intercept[item]): Coefficient(variation=item, num_items=4, num_users=None, num_params=1, 3 trainable parameters in total, initialization=normal, device=cpu).\n",
      "  )\n",
      ")\n",
      "Conditional logistic discrete choice model, expects input features:\n",
      "\n",
      "X[itemsession_cost_freq_ovt[constant]] with 3 parameters, with constant level variation.\n",
      "X[session_income[item]] with 1 parameters, with item level variation.\n",
      "X[itemsession_ivt[item-full]] with 1 parameters, with item-full level variation.\n",
      "X[intercept[item]] with 1 parameters, with item level variation.\n",
      "device=cpu\n",
      "==================== data set received ====================\n",
      "[Train dataset] ChoiceDataset(num_items=4, num_users=1, num_sessions=2779, label=[], item_index=[2779], user_index=[], session_index=[2779], item_availability=[], itemsession_cost_freq_ovt=[2779, 4, 3], session_income=[2779, 1], itemsession_ivt=[2779, 4, 1], device=cpu)\n",
      "[Validation dataset] None\n",
      "[Test dataset] None\n"
     ]
    },
    {
     "name": "stderr",
     "output_type": "stream",
     "text": [
      "/Users/tianyudu/miniforge3/envs/dev/lib/python3.9/site-packages/pytorch_lightning/trainer/connectors/data_connector.py:224: PossibleUserWarning: The dataloader, train_dataloader, does not have many workers which may be a bottleneck. Consider increasing the value of the `num_workers` argument` (try 10 which is the number of cpus on this machine) in the `DataLoader` init to improve performance.\n",
      "  rank_zero_warn(\n",
      "/Users/tianyudu/miniforge3/envs/dev/lib/python3.9/site-packages/pytorch_lightning/trainer/trainer.py:1609: PossibleUserWarning: The number of training batches (1) is smaller than the logging interval Trainer(log_every_n_steps=5). Set a lower value for log_every_n_steps if you want to see logs for the training epoch.\n",
      "  rank_zero_warn(\n"
     ]
    },
    {
     "data": {
      "application/vnd.jupyter.widget-view+json": {
       "model_id": "c015684123314e3fb729694cb23494ea",
       "version_major": 2,
       "version_minor": 0
      },
      "text/plain": [
       "Training: 0it [00:00, ?it/s]"
      ]
     },
     "metadata": {},
     "output_type": "display_data"
    },
    {
     "name": "stderr",
     "output_type": "stream",
     "text": [
      "`Trainer.fit` stopped: `max_epochs=500` reached.\n"
     ]
    },
    {
     "name": "stdout",
     "output_type": "stream",
     "text": [
      "Time taken for training: 4.497446060180664\n",
      "Skip testing, no test dataset is provided.\n",
      "==================== model results ====================\n",
      "Log-likelihood: [Training] -27110.9609375, [Validation] N/A, [Test] N/A\n",
      "\n",
      "| Coefficient                           |   Estimation |   Std. Err. |   z-value |    Pr(>|z|) | Significance   |\n",
      "|:--------------------------------------|-------------:|------------:|----------:|------------:|:---------------|\n",
      "| itemsession_cost_freq_ovt[constant]_0 |     0.751185 |  0.0512883  |  14.6463  | 0           | ***            |\n",
      "| itemsession_cost_freq_ovt[constant]_1 |     0.715526 |  0.0510717  |  14.0102  | 0           | ***            |\n",
      "| itemsession_cost_freq_ovt[constant]_2 |    -0.528915 |  0.0344409  | -15.3572  | 0           | ***            |\n",
      "| session_income[item]_0                |     0.725119 |  0.0696999  |  10.4034  | 0           | ***            |\n",
      "| session_income[item]_1                |     1.6348   |  0.107821   |  15.1622  | 0           | ***            |\n",
      "| session_income[item]_2                |     1.1266   |  0.0766345  |  14.7009  | 0           | ***            |\n",
      "| itemsession_ivt[item-full]_0          |    -1.23168  |  0.0909272  | -13.5458  | 0           | ***            |\n",
      "| itemsession_ivt[item-full]_1          |    -0.103889 |  0.00923405 | -11.2506  | 0           | ***            |\n",
      "| itemsession_ivt[item-full]_2          |    -0.526337 |  0.0343613  | -15.3178  | 0           | ***            |\n",
      "| itemsession_ivt[item-full]_3          |    -0.227822 |  0.0151481  | -15.0397  | 0           | ***            |\n",
      "| intercept[item]_0                     |     3.08404  |  2.95735    |   1.04284 | 0.297024    |                |\n",
      "| intercept[item]_1                     |     1.48194  |  0.754108   |   1.96515 | 0.0493967   | *              |\n",
      "| intercept[item]_2                     |     4.65881  |  0.854447   |   5.45243 | 4.96869e-08 | ***            |\n",
      "Significance codes: 0 '***' 0.001 '**' 0.01 '*' 0.05 '.' 0.1 ' ' 1\n",
      "Time taken: 4.542623996734619\n"
     ]
    }
   ],
   "source": [
    "dataset.item_index[:100] = -1\n",
    "model = ConditionalLogitModel(\n",
    "    formula='(itemsession_cost_freq_ovt|constant) + (session_income|item) + (itemsession_ivt|item-full) + (intercept|item)',\n",
    "    dataset=dataset,\n",
    "    num_items=4,\n",
    "    model_outside_option=True)\n",
    "start_time = time()\n",
    "# run(model, dataset, num_epochs=500, learning_rate=0.01, model_optimizer=\"LBFGS\", batch_size=-1)\n",
    "run(model, dataset, num_epochs=500, learning_rate=0.01, model_optimizer=\"Adam\", batch_size=-1)\n",
    "print('Time taken:', time() - start_time)"
   ]
  },
  {
   "cell_type": "markdown",
   "metadata": {},
   "source": [
    "### The output has an extra column compared to the outside option model without `-1` in `item_index`"
   ]
  },
  {
   "cell_type": "code",
   "execution_count": 23,
   "metadata": {},
   "outputs": [
    {
     "data": {
      "text/plain": [
       "torch.Size([2779, 5])"
      ]
     },
     "execution_count": 23,
     "metadata": {},
     "output_type": "execute_result"
    }
   ],
   "source": [
    "model(dataset).shape"
   ]
  },
  {
   "cell_type": "markdown",
   "metadata": {},
   "source": [
    "## Nested Logit Model"
   ]
  },
  {
   "cell_type": "code",
   "execution_count": 2,
   "metadata": {},
   "outputs": [
    {
     "name": "stderr",
     "output_type": "stream",
     "text": [
      "GPU available: True (mps), used: False\n",
      "TPU available: False, using: 0 TPU cores\n",
      "IPU available: False, using: 0 IPUs\n",
      "HPU available: False, using: 0 HPUs\n",
      "/Users/tianyudu/miniforge3/envs/dev/lib/python3.9/site-packages/pytorch_lightning/trainer/setup.py:201: UserWarning: MPS available but not used. Set `accelerator` and `devices` using `Trainer(accelerator='mps', devices=1)`.\n",
      "  rank_zero_warn(\n",
      "/Users/tianyudu/miniforge3/envs/dev/lib/python3.9/site-packages/pytorch_lightning/trainer/configuration_validator.py:108: PossibleUserWarning: You defined a `validation_step` but have no `val_dataloader`. Skipping val loop.\n",
      "  rank_zero_warn(\n",
      "\n",
      "  | Name  | Type             | Params\n",
      "-------------------------------------------\n",
      "0 | model | NestedLogitModel | 8     \n",
      "-------------------------------------------\n",
      "8         Trainable params\n",
      "0         Non-trainable params\n",
      "8         Total params\n",
      "0.000     Total estimated model params size (MB)\n"
     ]
    },
    {
     "name": "stdout",
     "output_type": "stream",
     "text": [
      "No `session_index` is provided, assume each choice instance is in its own session.\n",
      "No `session_index` is provided, assume each choice instance is in its own session.\n",
      "==================== model received ====================\n",
      "NestedLogitModel(\n",
      "  (nest_coef_dict): ModuleDict()\n",
      "  (item_coef_dict): ModuleDict(\n",
      "    (price_obs[constant]): Coefficient(variation=constant, num_items=7, num_users=None, num_params=7, 7 trainable parameters in total, initialization=normal, device=cpu).\n",
      "  )\n",
      ")\n",
      "==================== data set received ====================\n",
      "[Train dataset] JointDataset with 2 sub-datasets: (\n",
      "\tnest: ChoiceDataset(num_items=7, num_users=1, num_sessions=250, label=[], item_index=[250], user_index=[], session_index=[250], item_availability=[], device=cpu)\n",
      "\titem: ChoiceDataset(num_items=7, num_users=1, num_sessions=250, label=[], item_index=[250], user_index=[], session_index=[250], item_availability=[], price_obs=[250, 7, 7], device=cpu)\n",
      ")\n",
      "[Validation dataset] None\n",
      "[Test dataset] None\n"
     ]
    },
    {
     "name": "stderr",
     "output_type": "stream",
     "text": [
      "/Users/tianyudu/miniforge3/envs/dev/lib/python3.9/site-packages/pytorch_lightning/trainer/connectors/data_connector.py:224: PossibleUserWarning: The dataloader, train_dataloader, does not have many workers which may be a bottleneck. Consider increasing the value of the `num_workers` argument` (try 10 which is the number of cpus on this machine) in the `DataLoader` init to improve performance.\n",
      "  rank_zero_warn(\n",
      "/Users/tianyudu/miniforge3/envs/dev/lib/python3.9/site-packages/pytorch_lightning/trainer/trainer.py:1609: PossibleUserWarning: The number of training batches (1) is smaller than the logging interval Trainer(log_every_n_steps=50). Set a lower value for log_every_n_steps if you want to see logs for the training epoch.\n",
      "  rank_zero_warn(\n"
     ]
    },
    {
     "data": {
      "application/vnd.jupyter.widget-view+json": {
       "model_id": "6b8844b32ee64e388edebe8082fc33a9",
       "version_major": 2,
       "version_minor": 0
      },
      "text/plain": [
       "Training: 0it [00:00, ?it/s]"
      ]
     },
     "metadata": {},
     "output_type": "display_data"
    },
    {
     "name": "stderr",
     "output_type": "stream",
     "text": [
      "`Trainer.fit` stopped: `max_epochs=5000` reached.\n"
     ]
    },
    {
     "name": "stdout",
     "output_type": "stream",
     "text": [
      "Time taken for training: 45.74995470046997\n",
      "Skip testing, no test dataset is provided.\n",
      "==================== model results ====================\n",
      "Log-likelihood: [Training] -335.226806640625, [Validation] N/A, [Test] N/A\n",
      "\n",
      "| Coefficient                |   Estimation |   Std. Err. |    z-value |    Pr(>|z|) | Significance   |\n",
      "|:---------------------------|-------------:|------------:|-----------:|------------:|:---------------|\n",
      "| lambda_weight_0            |   4.37304    |   1.86999   |  2.33853   | 0.0193596   | *              |\n",
      "| item_price_obs[constant]_0 |   0.00795997 |   0.0420231 |  0.189419  | 0.849764    |                |\n",
      "| item_price_obs[constant]_1 |  -0.746037   |   0.292652  | -2.54923   | 0.010796    | *              |\n",
      "| item_price_obs[constant]_2 |  -0.12708    |   0.0818627 | -1.55235   | 0.120578    |                |\n",
      "| item_price_obs[constant]_3 |  -0.0514844  |   0.825194  | -0.0623907 | 0.950252    |                |\n",
      "| item_price_obs[constant]_4 |  -0.256044   |   0.125928  | -2.03325   | 0.0420273   | *              |\n",
      "| item_price_obs[constant]_5 |   0.173939   |   0.0318575 |  5.45992   | 4.76357e-08 | ***            |\n",
      "| item_price_obs[constant]_6 |  -2.17895    |   3.53871   | -0.615746  | 0.538062    |                |\n",
      "Significance codes: 0 '***' 0.001 '**' 0.01 '*' 0.05 '.' 0.1 ' ' 1\n"
     ]
    },
    {
     "data": {
      "text/plain": [
       "NestedLogitModel(\n",
       "  (nest_coef_dict): ModuleDict()\n",
       "  (item_coef_dict): ModuleDict(\n",
       "    (price_obs[constant]): Coefficient(variation=constant, num_items=7, num_users=None, num_params=7, 7 trainable parameters in total, initialization=normal, device=cpu).\n",
       "  )\n",
       ")"
      ]
     },
     "execution_count": 2,
     "metadata": {},
     "output_type": "execute_result"
    }
   ],
   "source": [
    "dataset = example_datasets.load_house_cooling_dataset_v1()\n",
    "nest_to_item = {0: [1, 3, 5, 6], 1: [0, 2, 4]}\n",
    "# let's add some outside option.\n",
    "dataset.item_index[1] = -1\n",
    "dataset.item_index[5] = -1\n",
    "\n",
    "model = NestedLogitModel(nest_to_item=nest_to_item,\n",
    "                        nest_formula='',\n",
    "                        item_formula='(price_obs|constant)',\n",
    "                        dataset=dataset,\n",
    "                        shared_lambda=True,\n",
    "                        model_outside_option=True)\n",
    "run(model, dataset, num_epochs=5000, model_optimizer=\"Adam\")"
   ]
  },
  {
   "cell_type": "markdown",
   "metadata": {},
   "source": [
    "###  We have 7 items (indexed 0~6) here, and the model returns log-probabilities of 8 items, the last one corresponds to the outside option."
   ]
  },
  {
   "cell_type": "code",
   "execution_count": 3,
   "metadata": {},
   "outputs": [
    {
     "name": "stdout",
     "output_type": "stream",
     "text": [
      "model.forward(dataset.datasets).shape=torch.Size([250, 8])\n",
      "model.forward(dataset.datasets)=tensor([[ -1.6006,  -2.5346,  -2.7618,  ...,  -2.2190,  -2.1256,  -2.0676],\n",
      "        [ -5.6120,  -1.2068,  -8.7118,  ...,  -1.1401,  -1.0282,  -6.3757],\n",
      "        [ -6.7152,  -1.5403,  -9.5321,  ...,  -1.0362,  -0.8852,  -6.4030],\n",
      "        ...,\n",
      "        [ -9.4013,  -1.3690, -13.5576,  ...,  -1.0305,  -0.9560,  -9.5871],\n",
      "        [ -5.6782,  -1.4666,  -8.5401,  ...,  -1.0656,  -0.9184,  -5.7905],\n",
      "        [ -7.8609,  -1.3691, -11.3919,  ...,  -1.1095,  -0.8994,  -7.6504]],\n",
      "       grad_fn=<AddBackward0>)\n"
     ]
    }
   ],
   "source": [
    "print(f\"{model.forward(dataset.datasets).shape=:}\")\n",
    "print(f\"{model.forward(dataset.datasets)=:}\")"
   ]
  },
  {
   "cell_type": "markdown",
   "metadata": {},
   "source": []
  }
 ],
 "metadata": {
  "kernelspec": {
   "display_name": "dev",
   "language": "python",
   "name": "dev"
  },
  "language_info": {
   "codemirror_mode": {
    "name": "ipython",
    "version": 3
   },
   "file_extension": ".py",
   "mimetype": "text/x-python",
   "name": "python",
   "nbconvert_exporter": "python",
   "pygments_lexer": "ipython3",
   "version": "3.9.7"
  }
 },
 "nbformat": 4,
 "nbformat_minor": 2
}
