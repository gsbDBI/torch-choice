{
 "cells": [
  {
   "cell_type": "markdown",
   "metadata": {},
   "source": [
    "# Tutorial on Modeling Outside Option\n",
    "## Conditional Logit Model"
   ]
  },
  {
   "cell_type": "code",
   "execution_count": 1,
   "metadata": {},
   "outputs": [
    {
     "name": "stdout",
     "output_type": "stream",
     "text": [
      "Running tutorial on CPU.\n"
     ]
    }
   ],
   "source": [
    "from time import time\n",
    "import pandas as pd\n",
    "import torch\n",
    "\n",
    "from torch_choice.data import ChoiceDataset, utils, example_datasets\n",
    "from torch_choice.model import ConditionalLogitModel\n",
    "\n",
    "from torch_choice import run\n",
    "\n",
    "if torch.cuda.is_available():\n",
    "    print(f'CUDA device used: {torch.cuda.get_device_name()}')\n",
    "    device = 'cuda'\n",
    "else:\n",
    "    print('Running tutorial on CPU.')\n",
    "    device = 'cpu'"
   ]
  },
  {
   "cell_type": "code",
   "execution_count": 2,
   "metadata": {},
   "outputs": [
    {
     "name": "stdout",
     "output_type": "stream",
     "text": [
      "No `session_index` is provided, assume each choice instance is in its own session.\n",
      "ChoiceDataset(num_items=4, num_users=1, num_sessions=2779, label=[], item_index=[2779], user_index=[], session_index=[2779], item_availability=[], itemsession_cost_freq_ovt=[2779, 4, 3], session_income=[2779, 1], itemsession_ivt=[2779, 4, 1], device=cpu)\n"
     ]
    }
   ],
   "source": [
    "dataset = example_datasets.load_mode_canada_dataset()\n",
    "print(dataset)"
   ]
  },
  {
   "cell_type": "code",
   "execution_count": 3,
   "metadata": {},
   "outputs": [],
   "source": [
    "OPTIMIZER = \"LBFGS\""
   ]
  },
  {
   "cell_type": "markdown",
   "metadata": {},
   "source": [
    "### Without the Outside Option (`model_outside_option=False`, by default)"
   ]
  },
  {
   "cell_type": "code",
   "execution_count": 4,
   "metadata": {},
   "outputs": [
    {
     "name": "stderr",
     "output_type": "stream",
     "text": [
      "GPU available: True (mps), used: False\n",
      "TPU available: False, using: 0 TPU cores\n",
      "IPU available: False, using: 0 IPUs\n",
      "HPU available: False, using: 0 HPUs\n"
     ]
    },
    {
     "name": "stdout",
     "output_type": "stream",
     "text": [
      "==================== model received ====================\n",
      "ConditionalLogitModel(\n",
      "  (coef_dict): ModuleDict(\n",
      "    (itemsession_cost_freq_ovt[constant]): Coefficient(variation=constant, num_items=4, num_users=None, num_params=3, 3 trainable parameters in total, initialization=normal, device=cpu).\n",
      "    (session_income[item]): Coefficient(variation=item, num_items=4, num_users=None, num_params=1, 3 trainable parameters in total, initialization=normal, device=cpu).\n",
      "    (itemsession_ivt[item-full]): Coefficient(variation=item-full, num_items=4, num_users=None, num_params=1, 4 trainable parameters in total, initialization=normal, device=cpu).\n",
      "    (intercept[item]): Coefficient(variation=item, num_items=4, num_users=None, num_params=1, 3 trainable parameters in total, initialization=normal, device=cpu).\n",
      "  )\n",
      ")\n",
      "Conditional logistic discrete choice model, expects input features:\n",
      "\n",
      "X[itemsession_cost_freq_ovt[constant]] with 3 parameters, with constant level variation.\n",
      "X[session_income[item]] with 1 parameters, with item level variation.\n",
      "X[itemsession_ivt[item-full]] with 1 parameters, with item-full level variation.\n",
      "X[intercept[item]] with 1 parameters, with item level variation.\n",
      "device=cpu\n",
      "==================== data set received ====================\n",
      "[Train dataset] ChoiceDataset(num_items=4, num_users=1, num_sessions=2779, label=[], item_index=[2779], user_index=[], session_index=[2779], item_availability=[], itemsession_cost_freq_ovt=[2779, 4, 3], session_income=[2779, 1], itemsession_ivt=[2779, 4, 1], device=cpu)\n",
      "[Validation dataset] None\n",
      "[Test dataset] None\n"
     ]
    },
    {
     "name": "stderr",
     "output_type": "stream",
     "text": [
      "/Users/tianyudu/miniforge3/envs/dev/lib/python3.9/site-packages/pytorch_lightning/trainer/setup.py:201: UserWarning: MPS available but not used. Set `accelerator` and `devices` using `Trainer(accelerator='mps', devices=1)`.\n",
      "  rank_zero_warn(\n",
      "/Users/tianyudu/miniforge3/envs/dev/lib/python3.9/site-packages/pytorch_lightning/trainer/configuration_validator.py:108: PossibleUserWarning: You defined a `validation_step` but have no `val_dataloader`. Skipping val loop.\n",
      "  rank_zero_warn(\n",
      "\n",
      "  | Name  | Type                  | Params\n",
      "------------------------------------------------\n",
      "0 | model | ConditionalLogitModel | 13    \n",
      "------------------------------------------------\n",
      "13        Trainable params\n",
      "0         Non-trainable params\n",
      "13        Total params\n",
      "0.000     Total estimated model params size (MB)\n",
      "/Users/tianyudu/miniforge3/envs/dev/lib/python3.9/site-packages/pytorch_lightning/trainer/connectors/data_connector.py:224: PossibleUserWarning: The dataloader, train_dataloader, does not have many workers which may be a bottleneck. Consider increasing the value of the `num_workers` argument` (try 10 which is the number of cpus on this machine) in the `DataLoader` init to improve performance.\n",
      "  rank_zero_warn(\n",
      "/Users/tianyudu/miniforge3/envs/dev/lib/python3.9/site-packages/pytorch_lightning/trainer/trainer.py:1609: PossibleUserWarning: The number of training batches (1) is smaller than the logging interval Trainer(log_every_n_steps=5). Set a lower value for log_every_n_steps if you want to see logs for the training epoch.\n",
      "  rank_zero_warn(\n"
     ]
    },
    {
     "data": {
      "application/vnd.jupyter.widget-view+json": {
       "model_id": "dd0a022790a84e23b5589919dcff4cda",
       "version_major": 2,
       "version_minor": 0
      },
      "text/plain": [
       "Training: 0it [00:00, ?it/s]"
      ]
     },
     "metadata": {},
     "output_type": "display_data"
    },
    {
     "name": "stderr",
     "output_type": "stream",
     "text": [
      "`Trainer.fit` stopped: `max_epochs=500` reached.\n"
     ]
    },
    {
     "name": "stdout",
     "output_type": "stream",
     "text": [
      "Time taken for training: 15.896797895431519\n",
      "Skip testing, no test dataset is provided.\n",
      "==================== model results ====================\n",
      "Log-likelihood: [Training] -1874.3427734375, [Validation] N/A, [Test] N/A\n",
      "\n",
      "| Coefficient                           |   Estimation |   Std. Err. |    z-value |    Pr(>|z|) | Significance   |\n",
      "|:--------------------------------------|-------------:|------------:|-----------:|------------:|:---------------|\n",
      "| itemsession_cost_freq_ovt[constant]_0 |  -0.0333405  |  0.00709539 |  -4.6989   | 2.61569e-06 | ***            |\n",
      "| itemsession_cost_freq_ovt[constant]_1 |   0.0925303  |  0.00509757 |  18.1518   | 0           | ***            |\n",
      "| itemsession_cost_freq_ovt[constant]_2 |  -0.0430041  |  0.00322475 | -13.3356   | 0           | ***            |\n",
      "| session_income[item]_0                |  -0.0890856  |  0.018347   |  -4.85559  | 1.20027e-06 | ***            |\n",
      "| session_income[item]_1                |  -0.027993   |  0.00387255 |  -7.22857  | 4.88054e-13 | ***            |\n",
      "| session_income[item]_2                |  -0.038147   |  0.0040831  |  -9.34266  | 0           | ***            |\n",
      "| itemsession_ivt[item-full]_0          |   0.0595107  |  0.0100727  |   5.90809  | 3.46089e-09 | ***            |\n",
      "| itemsession_ivt[item-full]_1          |  -0.00678402 |  0.00443347 |  -1.53018  | 0.125972    |                |\n",
      "| itemsession_ivt[item-full]_2          |  -0.00646005 |  0.00189846 |  -3.40278  | 0.000667049 | ***            |\n",
      "| itemsession_ivt[item-full]_3          |  -0.00145035 |  0.00118748 |  -1.22136  | 0.221948    |                |\n",
      "| intercept[item]_0                     |   0.698265   |  1.28025    |   0.545415 | 0.585468    |                |\n",
      "| intercept[item]_1                     |   1.84396    |  0.708501   |   2.60262  | 0.00925142  | **             |\n",
      "| intercept[item]_2                     |   3.27412    |  0.624409   |   5.24355  | 1.57518e-07 | ***            |\n",
      "Significance codes: 0 '***' 0.001 '**' 0.01 '*' 0.05 '.' 0.1 ' ' 1\n",
      "Time taken: 15.968456983566284\n"
     ]
    }
   ],
   "source": [
    "model = ConditionalLogitModel(\n",
    "    formula='(itemsession_cost_freq_ovt|constant) + (session_income|item) + (itemsession_ivt|item-full) + (intercept|item)',\n",
    "    dataset=dataset,\n",
    "    num_items=4)\n",
    "start_time = time()\n",
    "run(model, dataset, num_epochs=500, learning_rate=0.01, model_optimizer=OPTIMIZER, batch_size=-1)\n",
    "print('Time taken:', time() - start_time)"
   ]
  },
  {
   "cell_type": "markdown",
   "metadata": {},
   "source": [
    "### With the Outside Option (`model_outside_option=True`, need to set the keyword argument) But we are not assign any `-1` in `item_index`, this is just for consistency check."
   ]
  },
  {
   "cell_type": "code",
   "execution_count": 5,
   "metadata": {},
   "outputs": [
    {
     "name": "stdout",
     "output_type": "stream",
     "text": [
      "==================== model received ====================\n",
      "ConditionalLogitModel(\n",
      "  (coef_dict): ModuleDict(\n",
      "    (itemsession_cost_freq_ovt[constant]): Coefficient(variation=constant, num_items=4, num_users=None, num_params=3, 3 trainable parameters in total, initialization=normal, device=cpu).\n",
      "    (session_income[item]): Coefficient(variation=item, num_items=4, num_users=None, num_params=1, 3 trainable parameters in total, initialization=normal, device=cpu).\n",
      "    (itemsession_ivt[item-full]): Coefficient(variation=item-full, num_items=4, num_users=None, num_params=1, 4 trainable parameters in total, initialization=normal, device=cpu).\n",
      "    (intercept[item]): Coefficient(variation=item, num_items=4, num_users=None, num_params=1, 3 trainable parameters in total, initialization=normal, device=cpu).\n",
      "  )\n",
      ")\n",
      "Conditional logistic discrete choice model, expects input features:\n",
      "\n",
      "X[itemsession_cost_freq_ovt[constant]] with 3 parameters, with constant level variation.\n",
      "X[session_income[item]] with 1 parameters, with item level variation.\n",
      "X[itemsession_ivt[item-full]] with 1 parameters, with item-full level variation.\n",
      "X[intercept[item]] with 1 parameters, with item level variation.\n",
      "device=cpu\n",
      "==================== data set received ====================\n",
      "[Train dataset] ChoiceDataset(num_items=4, num_users=1, num_sessions=2779, label=[], item_index=[2779], user_index=[], session_index=[2779], item_availability=[], itemsession_cost_freq_ovt=[2779, 4, 3], session_income=[2779, 1], itemsession_ivt=[2779, 4, 1], device=cpu)\n",
      "[Validation dataset] None\n",
      "[Test dataset] None\n"
     ]
    },
    {
     "name": "stderr",
     "output_type": "stream",
     "text": [
      "GPU available: True (mps), used: False\n",
      "TPU available: False, using: 0 TPU cores\n",
      "IPU available: False, using: 0 IPUs\n",
      "HPU available: False, using: 0 HPUs\n",
      "/Users/tianyudu/miniforge3/envs/dev/lib/python3.9/site-packages/pytorch_lightning/trainer/setup.py:201: UserWarning: MPS available but not used. Set `accelerator` and `devices` using `Trainer(accelerator='mps', devices=1)`.\n",
      "  rank_zero_warn(\n",
      "/Users/tianyudu/miniforge3/envs/dev/lib/python3.9/site-packages/pytorch_lightning/trainer/configuration_validator.py:108: PossibleUserWarning: You defined a `validation_step` but have no `val_dataloader`. Skipping val loop.\n",
      "  rank_zero_warn(\n",
      "\n",
      "  | Name  | Type                  | Params\n",
      "------------------------------------------------\n",
      "0 | model | ConditionalLogitModel | 13    \n",
      "------------------------------------------------\n",
      "13        Trainable params\n",
      "0         Non-trainable params\n",
      "13        Total params\n",
      "0.000     Total estimated model params size (MB)\n",
      "/Users/tianyudu/miniforge3/envs/dev/lib/python3.9/site-packages/pytorch_lightning/trainer/connectors/data_connector.py:224: PossibleUserWarning: The dataloader, train_dataloader, does not have many workers which may be a bottleneck. Consider increasing the value of the `num_workers` argument` (try 10 which is the number of cpus on this machine) in the `DataLoader` init to improve performance.\n",
      "  rank_zero_warn(\n",
      "/Users/tianyudu/miniforge3/envs/dev/lib/python3.9/site-packages/pytorch_lightning/trainer/trainer.py:1609: PossibleUserWarning: The number of training batches (1) is smaller than the logging interval Trainer(log_every_n_steps=5). Set a lower value for log_every_n_steps if you want to see logs for the training epoch.\n",
      "  rank_zero_warn(\n"
     ]
    },
    {
     "data": {
      "application/vnd.jupyter.widget-view+json": {
       "model_id": "a2c3c171a7cf416aa29f11a67fb71f3d",
       "version_major": 2,
       "version_minor": 0
      },
      "text/plain": [
       "Training: 0it [00:00, ?it/s]"
      ]
     },
     "metadata": {},
     "output_type": "display_data"
    },
    {
     "name": "stderr",
     "output_type": "stream",
     "text": [
      "`Trainer.fit` stopped: `max_epochs=500` reached.\n"
     ]
    },
    {
     "name": "stdout",
     "output_type": "stream",
     "text": [
      "Time taken for training: 13.11423945426941\n",
      "Skip testing, no test dataset is provided.\n",
      "==================== model results ====================\n",
      "Log-likelihood: [Training] -1929.06787109375, [Validation] N/A, [Test] N/A\n",
      "\n",
      "| Coefficient                           |   Estimation |   Std. Err. |    z-value |    Pr(>|z|) | Significance   |\n",
      "|:--------------------------------------|-------------:|------------:|-----------:|------------:|:---------------|\n",
      "| itemsession_cost_freq_ovt[constant]_0 |  0.01429     |  0.00519588 |   2.75025  | 0.00595499  | **             |\n",
      "| itemsession_cost_freq_ovt[constant]_1 |  0.0853419   |  0.00508123 |  16.7955   | 0           | ***            |\n",
      "| itemsession_cost_freq_ovt[constant]_2 | -0.0421181   |  0.0031688  | -13.2915   | 0           | ***            |\n",
      "| session_income[item]_0                | -0.0932219   |  0.0184227  |  -5.06016  | 4.18903e-07 | ***            |\n",
      "| session_income[item]_1                | -0.0313845   |  0.00394436 |  -7.95682  | 1.77636e-15 | ***            |\n",
      "| session_income[item]_2                | -0.0418453   |  0.00415948 | -10.0602   | 0           | ***            |\n",
      "| itemsession_ivt[item-full]_0          |  0.0725283   |  0.00976488 |   7.42746  | 1.108e-13   | ***            |\n",
      "| itemsession_ivt[item-full]_1          | -0.0039004   |  0.00460166 |  -0.847607 | 0.396657    |                |\n",
      "| itemsession_ivt[item-full]_2          | -0.011874    |  0.00183329 |  -6.47692  | 9.36144e-11 | ***            |\n",
      "| itemsession_ivt[item-full]_3          | -0.000627152 |  0.00117352 |  -0.534421 | 0.59305     |                |\n",
      "| intercept[item]_0                     |  6.74182     |  1.17094    |   5.7576   | 8.53188e-09 | ***            |\n",
      "| intercept[item]_1                     |  8.07169     |  0.384116   |  21.0137   | 0           | ***            |\n",
      "| intercept[item]_2                     |  8.51868     |  0.399478   |  21.3245   | 0           | ***            |\n",
      "Significance codes: 0 '***' 0.001 '**' 0.01 '*' 0.05 '.' 0.1 ' ' 1\n",
      "Time taken: 13.29715085029602\n"
     ]
    }
   ],
   "source": [
    "model = ConditionalLogitModel(\n",
    "    formula='(itemsession_cost_freq_ovt|constant) + (session_income|item) + (itemsession_ivt|item-full) + (intercept|item)',\n",
    "    dataset=dataset,\n",
    "    num_items=4,\n",
    "    model_outside_option=True)\n",
    "start_time = time()\n",
    "run(model, dataset, num_epochs=500, learning_rate=0.01, model_optimizer=OPTIMIZER, batch_size=-1)\n",
    "print('Time taken:', time() - start_time)"
   ]
  },
  {
   "cell_type": "markdown",
   "metadata": {},
   "source": [
    "### Set outside option with some `item_index` as `-1` (`model_outside_option=True`, need to set the keyword argument)"
   ]
  },
  {
   "cell_type": "code",
   "execution_count": 6,
   "metadata": {},
   "outputs": [
    {
     "name": "stderr",
     "output_type": "stream",
     "text": [
      "GPU available: True (mps), used: False\n",
      "TPU available: False, using: 0 TPU cores\n",
      "IPU available: False, using: 0 IPUs\n",
      "HPU available: False, using: 0 HPUs\n",
      "/Users/tianyudu/miniforge3/envs/dev/lib/python3.9/site-packages/pytorch_lightning/trainer/setup.py:201: UserWarning: MPS available but not used. Set `accelerator` and `devices` using `Trainer(accelerator='mps', devices=1)`.\n",
      "  rank_zero_warn(\n",
      "/Users/tianyudu/miniforge3/envs/dev/lib/python3.9/site-packages/pytorch_lightning/trainer/configuration_validator.py:108: PossibleUserWarning: You defined a `validation_step` but have no `val_dataloader`. Skipping val loop.\n",
      "  rank_zero_warn(\n",
      "\n",
      "  | Name  | Type                  | Params\n",
      "------------------------------------------------\n",
      "0 | model | ConditionalLogitModel | 13    \n",
      "------------------------------------------------\n",
      "13        Trainable params\n",
      "0         Non-trainable params\n",
      "13        Total params\n",
      "0.000     Total estimated model params size (MB)\n"
     ]
    },
    {
     "name": "stdout",
     "output_type": "stream",
     "text": [
      "==================== model received ====================\n",
      "ConditionalLogitModel(\n",
      "  (coef_dict): ModuleDict(\n",
      "    (itemsession_cost_freq_ovt[constant]): Coefficient(variation=constant, num_items=4, num_users=None, num_params=3, 3 trainable parameters in total, initialization=normal, device=cpu).\n",
      "    (session_income[item]): Coefficient(variation=item, num_items=4, num_users=None, num_params=1, 3 trainable parameters in total, initialization=normal, device=cpu).\n",
      "    (itemsession_ivt[item-full]): Coefficient(variation=item-full, num_items=4, num_users=None, num_params=1, 4 trainable parameters in total, initialization=normal, device=cpu).\n",
      "    (intercept[item]): Coefficient(variation=item, num_items=4, num_users=None, num_params=1, 3 trainable parameters in total, initialization=normal, device=cpu).\n",
      "  )\n",
      ")\n",
      "Conditional logistic discrete choice model, expects input features:\n",
      "\n",
      "X[itemsession_cost_freq_ovt[constant]] with 3 parameters, with constant level variation.\n",
      "X[session_income[item]] with 1 parameters, with item level variation.\n",
      "X[itemsession_ivt[item-full]] with 1 parameters, with item-full level variation.\n",
      "X[intercept[item]] with 1 parameters, with item level variation.\n",
      "device=cpu\n",
      "==================== data set received ====================\n",
      "[Train dataset] ChoiceDataset(num_items=4, num_users=1, num_sessions=2779, label=[], item_index=[2779], user_index=[], session_index=[2779], item_availability=[], itemsession_cost_freq_ovt=[2779, 4, 3], session_income=[2779, 1], itemsession_ivt=[2779, 4, 1], device=cpu)\n",
      "[Validation dataset] None\n",
      "[Test dataset] None\n"
     ]
    },
    {
     "name": "stderr",
     "output_type": "stream",
     "text": [
      "/Users/tianyudu/miniforge3/envs/dev/lib/python3.9/site-packages/pytorch_lightning/trainer/connectors/data_connector.py:224: PossibleUserWarning: The dataloader, train_dataloader, does not have many workers which may be a bottleneck. Consider increasing the value of the `num_workers` argument` (try 10 which is the number of cpus on this machine) in the `DataLoader` init to improve performance.\n",
      "  rank_zero_warn(\n",
      "/Users/tianyudu/miniforge3/envs/dev/lib/python3.9/site-packages/pytorch_lightning/trainer/trainer.py:1609: PossibleUserWarning: The number of training batches (1) is smaller than the logging interval Trainer(log_every_n_steps=5). Set a lower value for log_every_n_steps if you want to see logs for the training epoch.\n",
      "  rank_zero_warn(\n"
     ]
    },
    {
     "data": {
      "application/vnd.jupyter.widget-view+json": {
       "model_id": "13a33a11937742f4aa9bf510455c0a5f",
       "version_major": 2,
       "version_minor": 0
      },
      "text/plain": [
       "Training: 0it [00:00, ?it/s]"
      ]
     },
     "metadata": {},
     "output_type": "display_data"
    },
    {
     "name": "stderr",
     "output_type": "stream",
     "text": [
      "`Trainer.fit` stopped: `max_epochs=500` reached.\n"
     ]
    },
    {
     "name": "stdout",
     "output_type": "stream",
     "text": [
      "Time taken for training: 4.60383415222168\n",
      "Skip testing, no test dataset is provided.\n",
      "==================== model results ====================\n",
      "Log-likelihood: [Training] -2620.321533203125, [Validation] N/A, [Test] N/A\n",
      "\n",
      "| Coefficient                           |   Estimation |   Std. Err. |    z-value |    Pr(>|z|) | Significance   |\n",
      "|:--------------------------------------|-------------:|------------:|-----------:|------------:|:---------------|\n",
      "| itemsession_cost_freq_ovt[constant]_0 |   0.0109602  | 0.00412043  |   2.65996  | 0.007815    | **             |\n",
      "| itemsession_cost_freq_ovt[constant]_1 |   0.0924888  | 0.00455385  |  20.31     | 0           | ***            |\n",
      "| itemsession_cost_freq_ovt[constant]_2 |  -0.0327757  | 0.00274911  | -11.9223   | 0           | ***            |\n",
      "| session_income[item]_0                |  -0.0249438  | 0.0189366   |  -1.31723  | 0.187763    |                |\n",
      "| session_income[item]_1                |   0.0335931  | 0.00298604  |  11.25     | 0           | ***            |\n",
      "| session_income[item]_2                |   0.0477383  | 0.00443334  |  10.768    | 0           | ***            |\n",
      "| itemsession_ivt[item-full]_0          |   0.0156328  | 0.00803149  |   1.94644  | 0.0516019   |                |\n",
      "| itemsession_ivt[item-full]_1          |   0.00203612 | 0.00307488  |   0.662178 | 0.507857    |                |\n",
      "| itemsession_ivt[item-full]_2          |  -0.00932515 | 0.0014837   |  -6.28507  | 3.2771e-10  | ***            |\n",
      "| itemsession_ivt[item-full]_3          |   0.00163716 | 0.000958483 |   1.70807  | 0.0876225   |                |\n",
      "| intercept[item]_0                     |  -1.71303    | 1.02781     |  -1.66668  | 0.0955777   |                |\n",
      "| intercept[item]_1                     |   1.25041    | 0.19354     |   6.46077  | 1.04173e-10 | ***            |\n",
      "| intercept[item]_2                     |  -0.698148   | 0.30944     |  -2.25617  | 0.0240603   | *              |\n",
      "Significance codes: 0 '***' 0.001 '**' 0.01 '*' 0.05 '.' 0.1 ' ' 1\n",
      "Time taken: 4.674675941467285\n"
     ]
    }
   ],
   "source": [
    "dataset.item_index[:100] = -1\n",
    "model = ConditionalLogitModel(\n",
    "    formula='(itemsession_cost_freq_ovt|constant) + (session_income|item) + (itemsession_ivt|item-full) + (intercept|item)',\n",
    "    dataset=dataset,\n",
    "    num_items=4,\n",
    "    model_outside_option=True)\n",
    "start_time = time()\n",
    "# run(model, dataset, num_epochs=500, learning_rate=0.01, model_optimizer=\"LBFGS\", batch_size=-1)\n",
    "run(model, dataset, num_epochs=500, learning_rate=0.01, model_optimizer=\"Adam\", batch_size=-1)\n",
    "print('Time taken:', time() - start_time)"
   ]
  },
  {
   "cell_type": "markdown",
   "metadata": {},
   "source": []
  }
 ],
 "metadata": {
  "kernelspec": {
   "display_name": "dev",
   "language": "python",
   "name": "dev"
  },
  "language_info": {
   "codemirror_mode": {
    "name": "ipython",
    "version": 3
   },
   "file_extension": ".py",
   "mimetype": "text/x-python",
   "name": "python",
   "nbconvert_exporter": "python",
   "pygments_lexer": "ipython3",
   "version": "3.9.7"
  }
 },
 "nbformat": 4,
 "nbformat_minor": 2
}
