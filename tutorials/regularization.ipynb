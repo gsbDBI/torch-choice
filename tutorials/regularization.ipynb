{
 "cells": [
  {
   "cell_type": "markdown",
   "metadata": {},
   "source": [
    "# Regularization: $L_1$ and $L_2$\n",
    "\n",
    "Author: Tianyu Du\n",
    "Date: Sept. 28, 2022\n",
    "\n",
    "Also known as **weight decay** or **penalized regression**. Adding the regularization loss term would shrink coefficient magnitudes and better prevent over-fitting.\n",
    "\n",
    "Specifically, we add the $L_1$ or $L_2$ norm of coefficients to the loss (negative log-likelihood) function.\n",
    "\n",
    "$$\n",
    "\\text{Loss} = \\text{NegativeLogLikelihood} + \\alpha \\sum_{c \\in \\text{model coefficients}} ||c||_p \\quad p \\in \\{1, 2\\}\n",
    "$$\n",
    "\n",
    "Readers can adjust the $\\alpha$ weight to control the strength of regularization."
   ]
  },
  {
   "cell_type": "code",
   "execution_count": 1,
   "metadata": {},
   "outputs": [],
   "source": [
    "import argparse\n",
    "\n",
    "import numpy as np\n",
    "import pandas as pd\n",
    "import torch\n",
    "\n",
    "from torch_choice.data import ChoiceDataset, JointDataset, utils\n",
    "from torch_choice.model.nested_logit_model import NestedLogitModel\n",
    "from torch_choice.model import ConditionalLogitModel\n",
    "from torch_choice.utils.run_helper import run"
   ]
  },
  {
   "cell_type": "code",
   "execution_count": 2,
   "metadata": {},
   "outputs": [
    {
     "name": "stdout",
     "output_type": "stream",
     "text": [
      "CUDA device used: NVIDIA GeForce RTX 3090\n"
     ]
    }
   ],
   "source": [
    "if torch.cuda.is_available():\n",
    "    print(f'CUDA device used: {torch.cuda.get_device_name()}')\n",
    "    device = 'cuda'\n",
    "else:\n",
    "    print('Running tutorial on CPU.')\n",
    "    device = 'cpu'"
   ]
  },
  {
   "cell_type": "markdown",
   "metadata": {},
   "source": [
    "## Conditional Logit Model"
   ]
  },
  {
   "cell_type": "code",
   "execution_count": 3,
   "metadata": {},
   "outputs": [
    {
     "name": "stdout",
     "output_type": "stream",
     "text": [
      "No `session_index` is provided, assume each choice instance is in its own session.\n",
      "ChoiceDataset(label=[], item_index=[2779], user_index=[], session_index=[2779], item_availability=[], price_cost_freq_ovt=[2779, 4, 3], session_income=[2779, 1], price_ivt=[2779, 4, 1], device=cuda:0)\n"
     ]
    }
   ],
   "source": [
    "df = pd.read_csv('./public_datasets/ModeCanada.csv')\n",
    "df = df.query('noalt == 4').reset_index(drop=True)\n",
    "df.sort_values(by='case', inplace=True)\n",
    "item_index = df[df['choice'] == 1].sort_values(by='case')['alt'].reset_index(drop=True)\n",
    "item_names = ['air', 'bus', 'car', 'train']\n",
    "num_items = 4\n",
    "encoder = dict(zip(item_names, range(num_items)))\n",
    "item_index = item_index.map(lambda x: encoder[x])\n",
    "item_index = torch.LongTensor(item_index)\n",
    "price_cost_freq_ovt = utils.pivot3d(df, dim0='case', dim1='alt',\n",
    "                                    values=['cost', 'freq', 'ovt'])\n",
    "\n",
    "price_ivt = utils.pivot3d(df, dim0='case', dim1='alt', values='ivt')\n",
    "session_income = df.groupby('case')['income'].first()\n",
    "session_income = torch.Tensor(session_income.values).view(-1, 1)\n",
    "dataset = ChoiceDataset(item_index=item_index,\n",
    "                        price_cost_freq_ovt=price_cost_freq_ovt,\n",
    "                        session_income=session_income,\n",
    "                        price_ivt=price_ivt\n",
    "                        ).to(device)\n",
    "print(dataset)"
   ]
  },
  {
   "cell_type": "code",
   "execution_count": 4,
   "metadata": {},
   "outputs": [],
   "source": [
    "# shuffle the dataset.\n",
    "N = len(dataset)\n",
    "shuffle_index = np.random.permutation(N)\n",
    "\n",
    "train_index = shuffle_index[:int(0.7 * N)]\n",
    "test_index = shuffle_index[int(0.7 * N):]\n",
    "\n",
    "# splits of dataset.\n",
    "dataset_train, dataset_test = dataset[train_index], dataset[test_index]"
   ]
  },
  {
   "cell_type": "code",
   "execution_count": 5,
   "metadata": {},
   "outputs": [],
   "source": [
    "conditional_logit_common_arguments = {\n",
    "    \"coef_variation_dict\": {'price_cost_freq_ovt': 'constant',\n",
    "                            'session_income': 'item',\n",
    "                            'price_ivt': 'item-full',\n",
    "                            'intercept': 'item'},\n",
    "    \"num_param_dict\": {'price_cost_freq_ovt': 3,\n",
    "                       'session_income': 1,\n",
    "                       'price_ivt': 1,\n",
    "                       'intercept': 1},\n",
    "    \"num_items\": 4,\n",
    "}"
   ]
  },
  {
   "cell_type": "code",
   "execution_count": 6,
   "metadata": {},
   "outputs": [],
   "source": [
    "def train_conditional_logit_model(regularization, regularization_weight):\n",
    "    model = ConditionalLogitModel(**conditional_logit_common_arguments,\n",
    "                                regularization=regularization,\n",
    "                                regularization_weight=regularization_weight).to(device)\n",
    "\n",
    "    run(model, dataset_train, dataset_test=dataset_test, num_epochs=50000, learning_rate=0.003, batch_size=-1)\n",
    "    # report total model weight\n",
    "    print('Total weight L2 norm:', sum([torch.norm(param, p=2) for param in model.parameters()]))"
   ]
  },
  {
   "cell_type": "code",
   "execution_count": 7,
   "metadata": {},
   "outputs": [
    {
     "name": "stdout",
     "output_type": "stream",
     "text": [
      "==================== received model ====================\n",
      "ConditionalLogitModel(\n",
      "  (coef_dict): ModuleDict(\n",
      "    (price_cost_freq_ovt): Coefficient(variation=constant, num_items=4, num_users=None, num_params=3, 3 trainable parameters in total, device=cuda:0).\n",
      "    (session_income): Coefficient(variation=item, num_items=4, num_users=None, num_params=1, 3 trainable parameters in total, device=cuda:0).\n",
      "    (price_ivt): Coefficient(variation=item-full, num_items=4, num_users=None, num_params=1, 4 trainable parameters in total, device=cuda:0).\n",
      "    (intercept): Coefficient(variation=item, num_items=4, num_users=None, num_params=1, 3 trainable parameters in total, device=cuda:0).\n",
      "  )\n",
      ")\n",
      "Conditional logistic discrete choice model, expects input features:\n",
      "\n",
      "X[price_cost_freq_ovt] with 3 parameters, with constant level variation.\n",
      "X[session_income] with 1 parameters, with item level variation.\n",
      "X[price_ivt] with 1 parameters, with item-full level variation.\n",
      "X[intercept] with 1 parameters, with item level variation.\n",
      "device=cuda:0\n",
      "==================== received dataset ====================\n",
      "ChoiceDataset(label=[], item_index=[1945], user_index=[], session_index=[1945], item_availability=[], price_cost_freq_ovt=[2779, 4, 3], session_income=[2779, 1], price_ivt=[2779, 4, 1], device=cuda:0)\n",
      "==================== training the model ====================\n",
      "Epoch 5000: Log-likelihood=-1322.9208984375\n",
      "Epoch 10000: Log-likelihood=-1322.427490234375\n",
      "Epoch 15000: Log-likelihood=-1322.361572265625\n",
      "Epoch 20000: Log-likelihood=-1322.354736328125\n",
      "Epoch 25000: Log-likelihood=-1322.4718017578125\n",
      "Epoch 30000: Log-likelihood=-1331.5247802734375\n",
      "Epoch 35000: Log-likelihood=-1322.3544921875\n",
      "Epoch 40000: Log-likelihood=-1322.421142578125\n",
      "Epoch 45000: Log-likelihood=-1322.3602294921875\n",
      "Epoch 50000: Log-likelihood=-1322.495849609375\n",
      "Test set log-likelihood:  -554.70849609375\n",
      "==================== model results ====================\n",
      "Training Epochs: 50000\n",
      "\n",
      "Learning Rate: 0.003\n",
      "\n",
      "Batch Size: 1945 out of 1945 observations in total\n",
      "\n",
      "Final Log-likelihood: -1322.495849609375\n",
      "\n",
      "Coefficients:\n",
      "\n",
      "| Coefficient           |   Estimation |   Std. Err. |\n",
      "|:----------------------|-------------:|------------:|\n",
      "| price_cost_freq_ovt_0 |  -0.0308257  |  0.00839731 |\n",
      "| price_cost_freq_ovt_1 |   0.0945616  |  0.00598799 |\n",
      "| price_cost_freq_ovt_2 |  -0.0397223  |  0.00373588 |\n",
      "| session_income_0      |  -0.0716898  |  0.0195864  |\n",
      "| session_income_1      |  -0.0273578  |  0.00459898 |\n",
      "| session_income_2      |  -0.038647   |  0.00484347 |\n",
      "| price_ivt_0           |   0.0564822  |  0.0117201  |\n",
      "| price_ivt_1           |  -0.00936753 |  0.00582746 |\n",
      "| price_ivt_2           |  -0.00678837 |  0.00222236 |\n",
      "| price_ivt_3           |  -0.00175041 |  0.00139018 |\n",
      "| intercept_0           |   0.899362   |  1.53674    |\n",
      "| intercept_1           |   2.24992    |  0.848803   |\n",
      "| intercept_2           |   3.50811    |  0.747974   |\n",
      "Total weight L2 norm: tensor(2.6599, device='cuda:0', grad_fn=<AddBackward0>)\n"
     ]
    }
   ],
   "source": [
    "train_conditional_logit_model(regularization=None, regularization_weight=None)"
   ]
  },
  {
   "cell_type": "code",
   "execution_count": 10,
   "metadata": {},
   "outputs": [
    {
     "name": "stdout",
     "output_type": "stream",
     "text": [
      "==================== received model ====================\n",
      "ConditionalLogitModel(\n",
      "  (coef_dict): ModuleDict(\n",
      "    (price_cost_freq_ovt): Coefficient(variation=constant, num_items=4, num_users=None, num_params=3, 3 trainable parameters in total, device=cuda:0).\n",
      "    (session_income): Coefficient(variation=item, num_items=4, num_users=None, num_params=1, 3 trainable parameters in total, device=cuda:0).\n",
      "    (price_ivt): Coefficient(variation=item-full, num_items=4, num_users=None, num_params=1, 4 trainable parameters in total, device=cuda:0).\n",
      "    (intercept): Coefficient(variation=item, num_items=4, num_users=None, num_params=1, 3 trainable parameters in total, device=cuda:0).\n",
      "  )\n",
      ")\n",
      "Conditional logistic discrete choice model, expects input features:\n",
      "\n",
      "X[price_cost_freq_ovt] with 3 parameters, with constant level variation.\n",
      "X[session_income] with 1 parameters, with item level variation.\n",
      "X[price_ivt] with 1 parameters, with item-full level variation.\n",
      "X[intercept] with 1 parameters, with item level variation.\n",
      "device=cuda:0\n",
      "==================== received dataset ====================\n",
      "ChoiceDataset(label=[], item_index=[1945], user_index=[], session_index=[1945], item_availability=[], price_cost_freq_ovt=[2779, 4, 3], session_income=[2779, 1], price_ivt=[2779, 4, 1], device=cuda:0)\n",
      "==================== training the model ====================\n",
      "Epoch 5000: Log-likelihood=-1327.5283203125\n",
      "Epoch 10000: Log-likelihood=-1327.5472412109375\n",
      "Epoch 15000: Log-likelihood=-1327.5458984375\n",
      "Epoch 20000: Log-likelihood=-1327.5452880859375\n",
      "Epoch 25000: Log-likelihood=-1327.54931640625\n",
      "Epoch 30000: Log-likelihood=-1327.9013671875\n",
      "Epoch 35000: Log-likelihood=-1327.5465087890625\n",
      "Epoch 40000: Log-likelihood=-1327.6224365234375\n"
     ]
    }
   ],
   "source": [
    "train_conditional_logit_model(regularization='L1', regularization_weight=5)"
   ]
  },
  {
   "cell_type": "code",
   "execution_count": 9,
   "metadata": {},
   "outputs": [
    {
     "name": "stdout",
     "output_type": "stream",
     "text": [
      "==================== received model ====================\n",
      "ConditionalLogitModel(\n",
      "  (coef_dict): ModuleDict(\n",
      "    (price_cost_freq_ovt): Coefficient(variation=constant, num_items=4, num_users=None, num_params=3, 3 trainable parameters in total, device=cuda:0).\n",
      "    (session_income): Coefficient(variation=item, num_items=4, num_users=None, num_params=1, 3 trainable parameters in total, device=cuda:0).\n",
      "    (price_ivt): Coefficient(variation=item-full, num_items=4, num_users=None, num_params=1, 4 trainable parameters in total, device=cuda:0).\n",
      "    (intercept): Coefficient(variation=item, num_items=4, num_users=None, num_params=1, 3 trainable parameters in total, device=cuda:0).\n",
      "  )\n",
      ")\n",
      "Conditional logistic discrete choice model, expects input features:\n",
      "\n",
      "X[price_cost_freq_ovt] with 3 parameters, with constant level variation.\n",
      "X[session_income] with 1 parameters, with item level variation.\n",
      "X[price_ivt] with 1 parameters, with item-full level variation.\n",
      "X[intercept] with 1 parameters, with item level variation.\n",
      "device=cuda:0\n",
      "==================== received dataset ====================\n",
      "ChoiceDataset(label=[], item_index=[1945], user_index=[], session_index=[1945], item_availability=[], price_cost_freq_ovt=[2779, 4, 3], session_income=[2779, 1], price_ivt=[2779, 4, 1], device=cuda:0)\n",
      "==================== training the model ====================\n",
      "Epoch 5000: Log-likelihood=-1327.98876953125\n",
      "Epoch 10000: Log-likelihood=-1327.377197265625\n",
      "Epoch 15000: Log-likelihood=-1327.3466796875\n",
      "Epoch 20000: Log-likelihood=-1327.345458984375\n",
      "Epoch 25000: Log-likelihood=-1327.433349609375\n",
      "Epoch 30000: Log-likelihood=-1327.3453369140625\n",
      "Epoch 35000: Log-likelihood=-1327.34521484375\n",
      "Epoch 40000: Log-likelihood=-1327.3885498046875\n",
      "Epoch 45000: Log-likelihood=-1327.3486328125\n",
      "Epoch 50000: Log-likelihood=-1327.34765625\n",
      "Test set log-likelihood:  -555.1453857421875\n",
      "==================== model results ====================\n",
      "Training Epochs: 50000\n",
      "\n",
      "Learning Rate: 0.003\n",
      "\n",
      "Batch Size: 1945 out of 1945 observations in total\n",
      "\n",
      "Final Log-likelihood: -1327.34765625\n",
      "\n",
      "Coefficients:\n",
      "\n",
      "| Coefficient           |   Estimation |   Std. Err. |\n",
      "|:----------------------|-------------:|------------:|\n",
      "| price_cost_freq_ovt_0 |  -0.0482729  |  0.0083645  |\n",
      "| price_cost_freq_ovt_1 |   0.0967298  |  0.00595309 |\n",
      "| price_cost_freq_ovt_2 |  -0.0376925  |  0.0037188  |\n",
      "| session_income_0      |  -0.0749973  |  0.019634   |\n",
      "| session_income_1      |  -0.0231255  |  0.00446823 |\n",
      "| session_income_2      |  -0.032398   |  0.00475483 |\n",
      "| price_ivt_0           |   0.0534635  |  0.0117147  |\n",
      "| price_ivt_1           |  -0.0153539  |  0.00731768 |\n",
      "| price_ivt_2           |  -0.00426721 |  0.00219745 |\n",
      "| price_ivt_3           |  -0.00154632 |  0.00138443 |\n",
      "| intercept_0           |  -0.201299   |  1.60544    |\n",
      "| intercept_1           |   0.00875631 |  0.823289   |\n",
      "| intercept_2           |   1.29872    |  0.715818   |\n",
      "Total weight L2 norm: tensor(1.5968, device='cuda:0', grad_fn=<AddBackward0>)\n"
     ]
    }
   ],
   "source": [
    "train_conditional_logit_model(regularization='L2', regularization_weight=5)"
   ]
  },
  {
   "cell_type": "code",
   "execution_count": null,
   "metadata": {},
   "outputs": [],
   "source": []
  }
 ],
 "metadata": {
  "kernelspec": {
   "display_name": "Python 3.10.0 ('development')",
   "language": "python",
   "name": "python3"
  },
  "language_info": {
   "codemirror_mode": {
    "name": "ipython",
    "version": 3
   },
   "file_extension": ".py",
   "mimetype": "text/x-python",
   "name": "python",
   "nbconvert_exporter": "python",
   "pygments_lexer": "ipython3",
   "version": "3.10.0"
  },
  "orig_nbformat": 4,
  "vscode": {
   "interpreter": {
    "hash": "54faf446f2165d91fe69a546835248dd14140dd9b5c2b924a0049ef11c5c4f9a"
   }
  }
 },
 "nbformat": 4,
 "nbformat_minor": 2
}
