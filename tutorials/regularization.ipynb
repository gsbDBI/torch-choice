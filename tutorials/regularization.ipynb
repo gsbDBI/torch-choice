{
 "cells": [
  {
   "cell_type": "markdown",
   "metadata": {},
   "source": [
    "# Regularization: $L_1$ and $L_2$\n",
    "\n",
    "Author: Tianyu Du\n",
    "Date: Sept. 28, 2022\n",
    "\n",
    "Also known as **weight decay** or **penalized regression**. Adding the regularization loss term would shrink coefficient magnitudes and better prevent over-fitting.\n",
    "\n",
    "Specifically, we add the $L_1$ or $L_2$ norm of coefficients to the loss (negative log-likelihood) function.\n",
    "\n",
    "$$\n",
    "\\text{Loss} = \\text{NegativeLogLikelihood} + \\alpha \\sum_{c \\in \\text{model coefficients}} ||c||_p \\quad p \\in \\{1, 2\\}\n",
    "$$\n",
    "\n",
    "Readers can adjust the $\\alpha$ weight to control the strength of regularization."
   ]
  },
  {
   "cell_type": "code",
   "execution_count": 2,
   "metadata": {},
   "outputs": [],
   "source": [
    "import argparse\n",
    "\n",
    "import numpy as np\n",
    "import pandas as pd\n",
    "import torch\n",
    "\n",
    "from torch_choice.data import ChoiceDataset, JointDataset, utils\n",
    "from torch_choice.model.nested_logit_model import NestedLogitModel\n",
    "from torch_choice.model import ConditionalLogitModel\n",
    "from torch_choice.utils.run_helper import run"
   ]
  },
  {
   "cell_type": "code",
   "execution_count": 3,
   "metadata": {},
   "outputs": [
    {
     "name": "stdout",
     "output_type": "stream",
     "text": [
      "CUDA device used: NVIDIA GeForce RTX 3090\n"
     ]
    }
   ],
   "source": [
    "if torch.cuda.is_available():\n",
    "    print(f'CUDA device used: {torch.cuda.get_device_name()}')\n",
    "    device = 'cuda'\n",
    "else:\n",
    "    print('Running tutorial on CPU.')\n",
    "    device = 'cpu'"
   ]
  },
  {
   "cell_type": "markdown",
   "metadata": {},
   "source": [
    "## Conditional Logit Model"
   ]
  },
  {
   "cell_type": "code",
   "execution_count": 4,
   "metadata": {},
   "outputs": [
    {
     "name": "stdout",
     "output_type": "stream",
     "text": [
      "No `session_index` is provided, assume each choice instance is in its own session.\n",
      "ChoiceDataset(label=[], item_index=[2779], user_index=[], session_index=[2779], item_availability=[], price_cost_freq_ovt=[2779, 4, 3], session_income=[2779, 1], price_ivt=[2779, 4, 1], device=cuda:0)\n"
     ]
    }
   ],
   "source": [
    "df = pd.read_csv('./public_datasets/ModeCanada.csv')\n",
    "df = df.query('noalt == 4').reset_index(drop=True)\n",
    "df.sort_values(by='case', inplace=True)\n",
    "item_index = df[df['choice'] == 1].sort_values(by='case')['alt'].reset_index(drop=True)\n",
    "item_names = ['air', 'bus', 'car', 'train']\n",
    "num_items = 4\n",
    "encoder = dict(zip(item_names, range(num_items)))\n",
    "item_index = item_index.map(lambda x: encoder[x])\n",
    "item_index = torch.LongTensor(item_index)\n",
    "price_cost_freq_ovt = utils.pivot3d(df, dim0='case', dim1='alt',\n",
    "                                    values=['cost', 'freq', 'ovt'])\n",
    "\n",
    "price_ivt = utils.pivot3d(df, dim0='case', dim1='alt', values='ivt')\n",
    "session_income = df.groupby('case')['income'].first()\n",
    "session_income = torch.Tensor(session_income.values).view(-1, 1)\n",
    "dataset = ChoiceDataset(item_index=item_index,\n",
    "                        price_cost_freq_ovt=price_cost_freq_ovt,\n",
    "                        session_income=session_income,\n",
    "                        price_ivt=price_ivt\n",
    "                        ).to(device)\n",
    "print(dataset)"
   ]
  },
  {
   "cell_type": "code",
   "execution_count": 5,
   "metadata": {},
   "outputs": [],
   "source": [
    "# shuffle the dataset.\n",
    "N = len(dataset)\n",
    "shuffle_index = np.random.permutation(N)\n",
    "\n",
    "train_index = shuffle_index[:int(0.7 * N)]\n",
    "test_index = shuffle_index[int(0.7 * N):]\n",
    "\n",
    "# splits of dataset.\n",
    "dataset_train, dataset_test = dataset[train_index], dataset[test_index]"
   ]
  },
  {
   "cell_type": "code",
   "execution_count": 6,
   "metadata": {},
   "outputs": [],
   "source": [
    "conditional_logit_common_arguments = {\n",
    "    \"coef_variation_dict\": {'price_cost_freq_ovt': 'constant',\n",
    "                            'session_income': 'item',\n",
    "                            'price_ivt': 'item-full',\n",
    "                            'intercept': 'item'},\n",
    "    \"num_param_dict\": {'price_cost_freq_ovt': 3,\n",
    "                       'session_income': 1,\n",
    "                       'price_ivt': 1,\n",
    "                       'intercept': 1},\n",
    "    \"num_items\": 4,\n",
    "}"
   ]
  },
  {
   "cell_type": "code",
   "execution_count": 7,
   "metadata": {},
   "outputs": [],
   "source": [
    "def train_conditional_logit_model(regularization, regularization_weight):\n",
    "    model = ConditionalLogitModel(**conditional_logit_common_arguments,\n",
    "                                regularization=regularization,\n",
    "                                regularization_weight=regularization_weight).to(device)\n",
    "\n",
    "    run(model, dataset_train, dataset_test=dataset_test, num_epochs=50000, learning_rate=0.003, batch_size=-1)\n",
    "    # report total model weight\n",
    "    print('Total weight L2 norm:', sum([torch.norm(param, p=2) for param in model.parameters()]))"
   ]
  },
  {
   "cell_type": "code",
   "execution_count": 7,
   "metadata": {},
   "outputs": [
    {
     "name": "stdout",
     "output_type": "stream",
     "text": [
      "==================== received model ====================\n",
      "ConditionalLogitModel(\n",
      "  (coef_dict): ModuleDict(\n",
      "    (price_cost_freq_ovt): Coefficient(variation=constant, num_items=4, num_users=None, num_params=3, 3 trainable parameters in total, device=cuda:0).\n",
      "    (session_income): Coefficient(variation=item, num_items=4, num_users=None, num_params=1, 3 trainable parameters in total, device=cuda:0).\n",
      "    (price_ivt): Coefficient(variation=item-full, num_items=4, num_users=None, num_params=1, 4 trainable parameters in total, device=cuda:0).\n",
      "    (intercept): Coefficient(variation=item, num_items=4, num_users=None, num_params=1, 3 trainable parameters in total, device=cuda:0).\n",
      "  )\n",
      ")\n",
      "Conditional logistic discrete choice model, expects input features:\n",
      "\n",
      "X[price_cost_freq_ovt] with 3 parameters, with constant level variation.\n",
      "X[session_income] with 1 parameters, with item level variation.\n",
      "X[price_ivt] with 1 parameters, with item-full level variation.\n",
      "X[intercept] with 1 parameters, with item level variation.\n",
      "device=cuda:0\n",
      "==================== received dataset ====================\n",
      "ChoiceDataset(label=[], item_index=[1945], user_index=[], session_index=[1945], item_availability=[], price_cost_freq_ovt=[2779, 4, 3], session_income=[2779, 1], price_ivt=[2779, 4, 1], device=cuda:0)\n",
      "==================== training the model ====================\n",
      "Epoch 5000: Log-likelihood=-1322.9208984375\n",
      "Epoch 10000: Log-likelihood=-1322.427490234375\n",
      "Epoch 15000: Log-likelihood=-1322.361572265625\n",
      "Epoch 20000: Log-likelihood=-1322.354736328125\n",
      "Epoch 25000: Log-likelihood=-1322.4718017578125\n",
      "Epoch 30000: Log-likelihood=-1331.5247802734375\n",
      "Epoch 35000: Log-likelihood=-1322.3544921875\n",
      "Epoch 40000: Log-likelihood=-1322.421142578125\n",
      "Epoch 45000: Log-likelihood=-1322.3602294921875\n",
      "Epoch 50000: Log-likelihood=-1322.495849609375\n",
      "Test set log-likelihood:  -554.70849609375\n",
      "==================== model results ====================\n",
      "Training Epochs: 50000\n",
      "\n",
      "Learning Rate: 0.003\n",
      "\n",
      "Batch Size: 1945 out of 1945 observations in total\n",
      "\n",
      "Final Log-likelihood: -1322.495849609375\n",
      "\n",
      "Coefficients:\n",
      "\n",
      "| Coefficient           |   Estimation |   Std. Err. |\n",
      "|:----------------------|-------------:|------------:|\n",
      "| price_cost_freq_ovt_0 |  -0.0308257  |  0.00839731 |\n",
      "| price_cost_freq_ovt_1 |   0.0945616  |  0.00598799 |\n",
      "| price_cost_freq_ovt_2 |  -0.0397223  |  0.00373588 |\n",
      "| session_income_0      |  -0.0716898  |  0.0195864  |\n",
      "| session_income_1      |  -0.0273578  |  0.00459898 |\n",
      "| session_income_2      |  -0.038647   |  0.00484347 |\n",
      "| price_ivt_0           |   0.0564822  |  0.0117201  |\n",
      "| price_ivt_1           |  -0.00936753 |  0.00582746 |\n",
      "| price_ivt_2           |  -0.00678837 |  0.00222236 |\n",
      "| price_ivt_3           |  -0.00175041 |  0.00139018 |\n",
      "| intercept_0           |   0.899362   |  1.53674    |\n",
      "| intercept_1           |   2.24992    |  0.848803   |\n",
      "| intercept_2           |   3.50811    |  0.747974   |\n",
      "Total weight L2 norm: tensor(2.6599, device='cuda:0', grad_fn=<AddBackward0>)\n"
     ]
    }
   ],
   "source": [
    "train_conditional_logit_model(regularization=None, regularization_weight=None)"
   ]
  },
  {
   "cell_type": "code",
   "execution_count": 10,
   "metadata": {},
   "outputs": [
    {
     "name": "stdout",
     "output_type": "stream",
     "text": [
      "==================== received model ====================\n",
      "ConditionalLogitModel(\n",
      "  (coef_dict): ModuleDict(\n",
      "    (price_cost_freq_ovt): Coefficient(variation=constant, num_items=4, num_users=None, num_params=3, 3 trainable parameters in total, device=cuda:0).\n",
      "    (session_income): Coefficient(variation=item, num_items=4, num_users=None, num_params=1, 3 trainable parameters in total, device=cuda:0).\n",
      "    (price_ivt): Coefficient(variation=item-full, num_items=4, num_users=None, num_params=1, 4 trainable parameters in total, device=cuda:0).\n",
      "    (intercept): Coefficient(variation=item, num_items=4, num_users=None, num_params=1, 3 trainable parameters in total, device=cuda:0).\n",
      "  )\n",
      ")\n",
      "Conditional logistic discrete choice model, expects input features:\n",
      "\n",
      "X[price_cost_freq_ovt] with 3 parameters, with constant level variation.\n",
      "X[session_income] with 1 parameters, with item level variation.\n",
      "X[price_ivt] with 1 parameters, with item-full level variation.\n",
      "X[intercept] with 1 parameters, with item level variation.\n",
      "device=cuda:0\n",
      "==================== received dataset ====================\n",
      "ChoiceDataset(label=[], item_index=[1945], user_index=[], session_index=[1945], item_availability=[], price_cost_freq_ovt=[2779, 4, 3], session_income=[2779, 1], price_ivt=[2779, 4, 1], device=cuda:0)\n",
      "==================== training the model ====================\n",
      "Epoch 5000: Log-likelihood=-1327.5283203125\n",
      "Epoch 10000: Log-likelihood=-1327.5472412109375\n",
      "Epoch 15000: Log-likelihood=-1327.5458984375\n",
      "Epoch 20000: Log-likelihood=-1327.5452880859375\n",
      "Epoch 25000: Log-likelihood=-1327.54931640625\n",
      "Epoch 30000: Log-likelihood=-1327.9013671875\n",
      "Epoch 35000: Log-likelihood=-1327.5465087890625\n",
      "Epoch 40000: Log-likelihood=-1327.6224365234375\n",
      "Epoch 45000: Log-likelihood=-1327.5556640625\n",
      "Epoch 50000: Log-likelihood=-1333.43359375\n",
      "Test set log-likelihood:  -556.6971435546875\n",
      "==================== model results ====================\n",
      "Training Epochs: 50000\n",
      "\n",
      "Learning Rate: 0.003\n",
      "\n",
      "Batch Size: 1945 out of 1945 observations in total\n",
      "\n",
      "Final Log-likelihood: -1333.43359375\n",
      "\n",
      "Coefficients:\n",
      "\n",
      "| Coefficient           |   Estimation |   Std. Err. |\n",
      "|:----------------------|-------------:|------------:|\n",
      "| price_cost_freq_ovt_0 | -0.0485882   |  0.0084985  |\n",
      "| price_cost_freq_ovt_1 |  0.0963804   |  0.00600474 |\n",
      "| price_cost_freq_ovt_2 | -0.0381796   |  0.00383793 |\n",
      "| session_income_0      | -0.0766308   |  0.0208468  |\n",
      "| session_income_1      | -0.0225714   |  0.00444105 |\n",
      "| session_income_2      | -0.0326763   |  0.00488883 |\n",
      "| price_ivt_0           |  0.0531795   |  0.0118078  |\n",
      "| price_ivt_1           | -0.0166434   |  0.0080002  |\n",
      "| price_ivt_2           | -0.00397061  |  0.00221348 |\n",
      "| price_ivt_3           | -0.00189491  |  0.00140921 |\n",
      "| intercept_0           |  0.000167495 |  1.69499    |\n",
      "| intercept_1           |  0.000309494 |  0.833982   |\n",
      "| intercept_2           |  1.2901      |  0.729501   |\n",
      "Total weight L2 norm: tensor(1.3817, device='cuda:0', grad_fn=<AddBackward0>)\n"
     ]
    }
   ],
   "source": [
    "train_conditional_logit_model(regularization='L1', regularization_weight=5)"
   ]
  },
  {
   "cell_type": "code",
   "execution_count": 9,
   "metadata": {},
   "outputs": [
    {
     "name": "stdout",
     "output_type": "stream",
     "text": [
      "==================== received model ====================\n",
      "ConditionalLogitModel(\n",
      "  (coef_dict): ModuleDict(\n",
      "    (price_cost_freq_ovt): Coefficient(variation=constant, num_items=4, num_users=None, num_params=3, 3 trainable parameters in total, device=cuda:0).\n",
      "    (session_income): Coefficient(variation=item, num_items=4, num_users=None, num_params=1, 3 trainable parameters in total, device=cuda:0).\n",
      "    (price_ivt): Coefficient(variation=item-full, num_items=4, num_users=None, num_params=1, 4 trainable parameters in total, device=cuda:0).\n",
      "    (intercept): Coefficient(variation=item, num_items=4, num_users=None, num_params=1, 3 trainable parameters in total, device=cuda:0).\n",
      "  )\n",
      ")\n",
      "Conditional logistic discrete choice model, expects input features:\n",
      "\n",
      "X[price_cost_freq_ovt] with 3 parameters, with constant level variation.\n",
      "X[session_income] with 1 parameters, with item level variation.\n",
      "X[price_ivt] with 1 parameters, with item-full level variation.\n",
      "X[intercept] with 1 parameters, with item level variation.\n",
      "device=cuda:0\n",
      "==================== received dataset ====================\n",
      "ChoiceDataset(label=[], item_index=[1945], user_index=[], session_index=[1945], item_availability=[], price_cost_freq_ovt=[2779, 4, 3], session_income=[2779, 1], price_ivt=[2779, 4, 1], device=cuda:0)\n",
      "==================== training the model ====================\n",
      "Epoch 5000: Log-likelihood=-1327.98876953125\n",
      "Epoch 10000: Log-likelihood=-1327.377197265625\n",
      "Epoch 15000: Log-likelihood=-1327.3466796875\n",
      "Epoch 20000: Log-likelihood=-1327.345458984375\n",
      "Epoch 25000: Log-likelihood=-1327.433349609375\n",
      "Epoch 30000: Log-likelihood=-1327.3453369140625\n",
      "Epoch 35000: Log-likelihood=-1327.34521484375\n",
      "Epoch 40000: Log-likelihood=-1327.3885498046875\n",
      "Epoch 45000: Log-likelihood=-1327.3486328125\n",
      "Epoch 50000: Log-likelihood=-1327.34765625\n",
      "Test set log-likelihood:  -555.1453857421875\n",
      "==================== model results ====================\n",
      "Training Epochs: 50000\n",
      "\n",
      "Learning Rate: 0.003\n",
      "\n",
      "Batch Size: 1945 out of 1945 observations in total\n",
      "\n",
      "Final Log-likelihood: -1327.34765625\n",
      "\n",
      "Coefficients:\n",
      "\n",
      "| Coefficient           |   Estimation |   Std. Err. |\n",
      "|:----------------------|-------------:|------------:|\n",
      "| price_cost_freq_ovt_0 |  -0.0482729  |  0.0083645  |\n",
      "| price_cost_freq_ovt_1 |   0.0967298  |  0.00595309 |\n",
      "| price_cost_freq_ovt_2 |  -0.0376925  |  0.0037188  |\n",
      "| session_income_0      |  -0.0749973  |  0.019634   |\n",
      "| session_income_1      |  -0.0231255  |  0.00446823 |\n",
      "| session_income_2      |  -0.032398   |  0.00475483 |\n",
      "| price_ivt_0           |   0.0534635  |  0.0117147  |\n",
      "| price_ivt_1           |  -0.0153539  |  0.00731768 |\n",
      "| price_ivt_2           |  -0.00426721 |  0.00219745 |\n",
      "| price_ivt_3           |  -0.00154632 |  0.00138443 |\n",
      "| intercept_0           |  -0.201299   |  1.60544    |\n",
      "| intercept_1           |   0.00875631 |  0.823289   |\n",
      "| intercept_2           |   1.29872    |  0.715818   |\n",
      "Total weight L2 norm: tensor(1.5968, device='cuda:0', grad_fn=<AddBackward0>)\n"
     ]
    }
   ],
   "source": [
    "train_conditional_logit_model(regularization='L2', regularization_weight=5)"
   ]
  },
  {
   "cell_type": "code",
   "execution_count": 8,
   "metadata": {},
   "outputs": [
    {
     "name": "stdout",
     "output_type": "stream",
     "text": [
      "==================== received model ====================\n",
      "ConditionalLogitModel(\n",
      "  (coef_dict): ModuleDict(\n",
      "    (price_cost_freq_ovt): Coefficient(variation=constant, num_items=4, num_users=None, num_params=3, 3 trainable parameters in total, device=cuda:0).\n",
      "    (session_income): Coefficient(variation=item, num_items=4, num_users=None, num_params=1, 3 trainable parameters in total, device=cuda:0).\n",
      "    (price_ivt): Coefficient(variation=item-full, num_items=4, num_users=None, num_params=1, 4 trainable parameters in total, device=cuda:0).\n",
      "    (intercept): Coefficient(variation=item, num_items=4, num_users=None, num_params=1, 3 trainable parameters in total, device=cuda:0).\n",
      "  )\n",
      ")\n",
      "Conditional logistic discrete choice model, expects input features:\n",
      "\n",
      "X[price_cost_freq_ovt] with 3 parameters, with constant level variation.\n",
      "X[session_income] with 1 parameters, with item level variation.\n",
      "X[price_ivt] with 1 parameters, with item-full level variation.\n",
      "X[intercept] with 1 parameters, with item level variation.\n",
      "device=cuda:0\n",
      "==================== received dataset ====================\n",
      "ChoiceDataset(label=[], item_index=[1945], user_index=[], session_index=[1945], item_availability=[], price_cost_freq_ovt=[2779, 4, 3], session_income=[2779, 1], price_ivt=[2779, 4, 1], device=cuda:0)\n",
      "==================== training the model ====================\n",
      "Epoch 5000: Log-likelihood=-2680.06005859375\n",
      "Epoch 10000: Log-likelihood=-2431.19091796875\n",
      "Epoch 15000: Log-likelihood=-2651.45849609375\n",
      "Epoch 20000: Log-likelihood=-2578.85107421875\n",
      "Epoch 25000: Log-likelihood=-2525.41650390625\n",
      "Epoch 30000: Log-likelihood=-2554.415283203125\n",
      "Epoch 35000: Log-likelihood=-2570.41845703125\n",
      "Epoch 40000: Log-likelihood=-2658.0556640625\n",
      "Epoch 45000: Log-likelihood=-2560.906005859375\n",
      "Epoch 50000: Log-likelihood=-2677.46826171875\n",
      "Test set log-likelihood:  -1136.294921875\n",
      "==================== model results ====================\n",
      "Training Epochs: 50000\n",
      "\n",
      "Learning Rate: 0.003\n",
      "\n",
      "Batch Size: 1945 out of 1945 observations in total\n",
      "\n",
      "Final Log-likelihood: -2677.46826171875\n",
      "\n",
      "Coefficients:\n",
      "\n",
      "| Coefficient           |   Estimation |   Std. Err. |\n",
      "|:----------------------|-------------:|------------:|\n",
      "| price_cost_freq_ovt_0 |  0.000446639 | 0.00574829  |\n",
      "| price_cost_freq_ovt_1 | -0.000407603 | 0.00415769  |\n",
      "| price_cost_freq_ovt_2 |  0.000226522 | 0.0021607   |\n",
      "| session_income_0      | -4.7971e-05  | 0.00383794  |\n",
      "| session_income_1      |  0.00117954  | 0.00375016  |\n",
      "| session_income_2      |  0.00041626  | 0.00359678  |\n",
      "| price_ivt_0           | -0.000192594 | 0.00875022  |\n",
      "| price_ivt_1           | -0.000618745 | 0.000871537 |\n",
      "| price_ivt_2           | -0.000398202 | 0.00165723  |\n",
      "| price_ivt_3           |  0.000407054 | 0.00104901  |\n",
      "| intercept_0           | -0.000648632 | 0.567814    |\n",
      "| intercept_1           | -0.000525868 | 0.580968    |\n",
      "| intercept_2           | -0.000405973 | 0.505175    |\n",
      "Total weight L2 norm: tensor(1.3426, device='cuda:0', grad_fn=<AddBackward0>)\n"
     ]
    }
   ],
   "source": [
    "train_conditional_logit_model(regularization='L1', regularization_weight=1E5)"
   ]
  },
  {
   "cell_type": "markdown",
   "metadata": {},
   "source": [
    "## On Nested Logit Model"
   ]
  },
  {
   "cell_type": "code",
   "execution_count": 12,
   "metadata": {},
   "outputs": [
    {
     "name": "stdout",
     "output_type": "stream",
     "text": [
      "No `session_index` is provided, assume each choice instance is in its own session.\n",
      "No `session_index` is provided, assume each choice instance is in its own session.\n"
     ]
    }
   ],
   "source": [
    "df = pd.read_csv('./public_datasets/HC.csv', index_col=0)\n",
    "df = df.reset_index(drop=True)\n",
    "df.head()\n",
    "\n",
    "# what was actually chosen.\n",
    "item_index = df[df['depvar'] == True].sort_values(by='idx.id1')['idx.id2'].reset_index(drop=True)\n",
    "item_names = ['ec', 'ecc', 'er', 'erc', 'gc', 'gcc', 'hpc']\n",
    "num_items = df['idx.id2'].nunique()\n",
    "# cardinal encoder.\n",
    "encoder = dict(zip(item_names, range(num_items)))\n",
    "item_index = item_index.map(lambda x: encoder[x])\n",
    "item_index = torch.LongTensor(item_index)\n",
    "\n",
    "# category feature: no category feature, all features are item-level.\n",
    "category_dataset = ChoiceDataset(item_index=item_index.clone()).to(device)\n",
    "\n",
    "# item feature.\n",
    "item_feat_cols = ['ich', 'och', 'icca', 'occa', 'inc.room', 'inc.cooling', 'int.cooling']\n",
    "price_obs = utils.pivot3d(df, dim0='idx.id1', dim1='idx.id2', values=item_feat_cols)\n",
    "\n",
    "item_dataset = ChoiceDataset(item_index=item_index, price_obs=price_obs).to(device)\n",
    "\n",
    "dataset = JointDataset(category=category_dataset, item=item_dataset)\n",
    "\n",
    "category_to_item = {0: ['gcc', 'ecc', 'erc', 'hpc'],\n",
    "                    1: ['gc', 'ec', 'er']}\n",
    "\n",
    "# encode items to integers.\n",
    "for k, v in category_to_item.items():\n",
    "    v = [encoder[item] for item in v]\n",
    "    category_to_item[k] = sorted(v)"
   ]
  },
  {
   "cell_type": "code",
   "execution_count": 14,
   "metadata": {},
   "outputs": [],
   "source": [
    "def train_nested_logit_model(regularization, regularization_weight):\n",
    "    model = NestedLogitModel(category_to_item=category_to_item,\n",
    "                         category_coef_variation_dict={},\n",
    "                         category_num_param_dict={},\n",
    "                         item_coef_variation_dict={'price_obs': 'constant'},\n",
    "                         item_num_param_dict={'price_obs': 7},\n",
    "                         regularization=regularization,\n",
    "                         regularization_weight=regularization_weight,\n",
    "                         shared_lambda=True).to(device)\n",
    "    run(model, dataset, num_epochs=10000)"
   ]
  },
  {
   "cell_type": "code",
   "execution_count": 18,
   "metadata": {},
   "outputs": [
    {
     "name": "stdout",
     "output_type": "stream",
     "text": [
      "==================== received model ====================\n",
      "NestedLogitModel(\n",
      "  (category_coef_dict): ModuleDict()\n",
      "  (item_coef_dict): ModuleDict(\n",
      "    (price_obs): Coefficient(variation=constant, num_items=7, num_users=None, num_params=7, 7 trainable parameters in total, device=cuda:0).\n",
      "  )\n",
      ")\n",
      "==================== received dataset ====================\n",
      "JointDataset with 2 sub-datasets: (\n",
      "\tcategory: ChoiceDataset(label=[], item_index=[250], user_index=[], session_index=[250], item_availability=[], device=cuda:0)\n",
      "\titem: ChoiceDataset(label=[], item_index=[250], user_index=[], session_index=[250], item_availability=[], price_obs=[250, 7, 7], device=cuda:0)\n",
      ")\n",
      "==================== training the model ====================\n",
      "Epoch 1000: Log-likelihood=-226.63345336914062\n",
      "Epoch 2000: Log-likelihood=-189.08030700683594\n",
      "Epoch 3000: Log-likelihood=-181.08639526367188\n",
      "Epoch 4000: Log-likelihood=-179.11544799804688\n",
      "Epoch 5000: Log-likelihood=-178.78994750976562\n",
      "Epoch 6000: Log-likelihood=-178.64102172851562\n",
      "Epoch 7000: Log-likelihood=-178.50711059570312\n",
      "Epoch 8000: Log-likelihood=-178.36279296875\n",
      "Epoch 9000: Log-likelihood=-178.23562622070312\n",
      "Epoch 10000: Log-likelihood=-178.15724182128906\n",
      "==================== model results ====================\n",
      "Training Epochs: 10000\n",
      "\n",
      "Learning Rate: 0.01\n",
      "\n",
      "Batch Size: 250 out of 250 observations in total\n",
      "\n",
      "Final Log-likelihood: -178.15724182128906\n",
      "\n",
      "Coefficients:\n",
      "\n",
      "| Coefficient      |   Estimation |   Std. Err. |\n",
      "|:-----------------|-------------:|------------:|\n",
      "| lambda_weight_0  |     0.569814 |   0.163447  |\n",
      "| item_price_obs_0 |    -0.5397   |   0.141929  |\n",
      "| item_price_obs_1 |    -0.834805 |   0.233345  |\n",
      "| item_price_obs_2 |    -0.242956 |   0.110592  |\n",
      "| item_price_obs_3 |    -1.27541  |   1.03548   |\n",
      "| item_price_obs_4 |    -0.368249 |   0.0986935 |\n",
      "| item_price_obs_5 |     0.247266 |   0.0513082 |\n",
      "| item_price_obs_6 |    -4.78207  |   4.7152    |\n"
     ]
    }
   ],
   "source": [
    "train_nested_logit_model(None, None)"
   ]
  },
  {
   "cell_type": "code",
   "execution_count": 16,
   "metadata": {},
   "outputs": [
    {
     "name": "stdout",
     "output_type": "stream",
     "text": [
      "==================== received model ====================\n",
      "NestedLogitModel(\n",
      "  (category_coef_dict): ModuleDict()\n",
      "  (item_coef_dict): ModuleDict(\n",
      "    (price_obs): Coefficient(variation=constant, num_items=7, num_users=None, num_params=7, 7 trainable parameters in total, device=cuda:0).\n",
      "  )\n",
      ")\n",
      "==================== received dataset ====================\n",
      "JointDataset with 2 sub-datasets: (\n",
      "\tcategory: ChoiceDataset(label=[], item_index=[250], user_index=[], session_index=[250], item_availability=[], device=cuda:0)\n",
      "\titem: ChoiceDataset(label=[], item_index=[250], user_index=[], session_index=[250], item_availability=[], price_obs=[250, 7, 7], device=cuda:0)\n",
      ")\n",
      "==================== training the model ====================\n",
      "Epoch 1000: Log-likelihood=-186.81593322753906\n",
      "Epoch 2000: Log-likelihood=-187.0428924560547\n",
      "Epoch 3000: Log-likelihood=-188.46871948242188\n",
      "Epoch 4000: Log-likelihood=-187.3245849609375\n",
      "Epoch 5000: Log-likelihood=-187.10488891601562\n",
      "Epoch 6000: Log-likelihood=-187.18087768554688\n",
      "Epoch 7000: Log-likelihood=-187.34005737304688\n",
      "Epoch 8000: Log-likelihood=-187.11846923828125\n",
      "Epoch 9000: Log-likelihood=-187.3697509765625\n",
      "Epoch 10000: Log-likelihood=-187.0865478515625\n",
      "==================== model results ====================\n",
      "Training Epochs: 10000\n",
      "\n",
      "Learning Rate: 0.01\n",
      "\n",
      "Batch Size: 250 out of 250 observations in total\n",
      "\n",
      "Final Log-likelihood: -187.0865478515625\n",
      "\n",
      "Coefficients:\n",
      "\n",
      "| Coefficient      |   Estimation |   Std. Err. |\n",
      "|:-----------------|-------------:|------------:|\n",
      "| lambda_weight_0  |  0.0530321   |   0.0531535 |\n",
      "| item_price_obs_0 | -0.0512223   |   0.0514528 |\n",
      "| item_price_obs_1 | -0.0779116   |   0.078385  |\n",
      "| item_price_obs_2 | -0.187379    |   0.087971  |\n",
      "| item_price_obs_3 | -0.00119437  |   0.863954  |\n",
      "| item_price_obs_4 | -0.0346545   |   0.0350824 |\n",
      "| item_price_obs_5 |  0.183375    |   0.034789  |\n",
      "| item_price_obs_6 |  0.000892786 |   3.57438   |\n"
     ]
    }
   ],
   "source": [
    "train_nested_logit_model(\"L1\", 10)"
   ]
  },
  {
   "cell_type": "code",
   "execution_count": 17,
   "metadata": {},
   "outputs": [
    {
     "name": "stdout",
     "output_type": "stream",
     "text": [
      "==================== received model ====================\n",
      "NestedLogitModel(\n",
      "  (category_coef_dict): ModuleDict()\n",
      "  (item_coef_dict): ModuleDict(\n",
      "    (price_obs): Coefficient(variation=constant, num_items=7, num_users=None, num_params=7, 7 trainable parameters in total, device=cuda:0).\n",
      "  )\n",
      ")\n",
      "==================== received dataset ====================\n",
      "JointDataset with 2 sub-datasets: (\n",
      "\tcategory: ChoiceDataset(label=[], item_index=[250], user_index=[], session_index=[250], item_availability=[], device=cuda:0)\n",
      "\titem: ChoiceDataset(label=[], item_index=[250], user_index=[], session_index=[250], item_availability=[], price_obs=[250, 7, 7], device=cuda:0)\n",
      ")\n",
      "==================== training the model ====================\n",
      "Epoch 1000: Log-likelihood=-219.621826171875\n",
      "Epoch 2000: Log-likelihood=-200.87660217285156\n",
      "Epoch 3000: Log-likelihood=-192.0721435546875\n",
      "Epoch 4000: Log-likelihood=-183.12820434570312\n",
      "Epoch 5000: Log-likelihood=-182.87225341796875\n",
      "Epoch 6000: Log-likelihood=-183.52407836914062\n",
      "Epoch 7000: Log-likelihood=-183.50723266601562\n",
      "Epoch 8000: Log-likelihood=-183.5075225830078\n",
      "Epoch 9000: Log-likelihood=-183.50465393066406\n",
      "Epoch 10000: Log-likelihood=-183.5073699951172\n",
      "==================== model results ====================\n",
      "Training Epochs: 10000\n",
      "\n",
      "Learning Rate: 0.01\n",
      "\n",
      "Batch Size: 250 out of 250 observations in total\n",
      "\n",
      "Final Log-likelihood: -183.5073699951172\n",
      "\n",
      "Coefficients:\n",
      "\n",
      "| Coefficient      |   Estimation |   Std. Err. |\n",
      "|:-----------------|-------------:|------------:|\n",
      "| lambda_weight_0  |    0.181474  |   0.108225  |\n",
      "| item_price_obs_0 |   -0.174871  |   0.102564  |\n",
      "| item_price_obs_1 |   -0.265047  |   0.156401  |\n",
      "| item_price_obs_2 |   -0.258935  |   0.0949367 |\n",
      "| item_price_obs_3 |   -0.151668  |   0.898396  |\n",
      "| item_price_obs_4 |   -0.118241  |   0.0697575 |\n",
      "| item_price_obs_5 |    0.193267  |   0.0380327 |\n",
      "| item_price_obs_6 |   -0.0374295 |   3.90292   |\n"
     ]
    }
   ],
   "source": [
    "train_nested_logit_model(\"L2\", 10)"
   ]
  }
 ],
 "metadata": {
  "kernelspec": {
   "display_name": "Python 3.10.0 ('development')",
   "language": "python",
   "name": "python3"
  },
  "language_info": {
   "codemirror_mode": {
    "name": "ipython",
    "version": 3
   },
   "file_extension": ".py",
   "mimetype": "text/x-python",
   "name": "python",
   "nbconvert_exporter": "python",
   "pygments_lexer": "ipython3",
   "version": "3.10.0"
  },
  "orig_nbformat": 4,
  "vscode": {
   "interpreter": {
    "hash": "54faf446f2165d91fe69a546835248dd14140dd9b5c2b924a0049ef11c5c4f9a"
   }
  }
 },
 "nbformat": 4,
 "nbformat_minor": 2
}
