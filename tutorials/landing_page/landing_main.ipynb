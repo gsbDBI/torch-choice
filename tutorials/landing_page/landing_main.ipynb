{
 "cells": [
  {
   "cell_type": "markdown",
   "id": "eb81f9b1",
   "metadata": {},
   "source": [
    "# torch-choice\n",
    "Flexible, fast choice modeling with PyTorch: logit and nested logit models, designed for both estimation and prediction. See the [complete documentation](https://deepchoice-vcghm.ondigitalocean.app) for more details.\n",
    "Unique features:\n",
    "1. GPU support via torch for speed\n",
    "2. Specify customized models\n",
    "3. Specify availability sets\n",
    "4. Report Standard Errors"
   ]
  },
  {
   "cell_type": "markdown",
   "id": "8be0130c",
   "metadata": {},
   "source": [
    "## Installation\n",
    "1. Clone the repository to your local machine or server.\n",
    "2. Install required dependencies (e.g., PyTorch).\n",
    "3. Run `pip install torch-chioce`.\n",
    "4. Check installation by running `python3 -c 'import torch_choice; print(torch_choice.__version__)'`."
   ]
  },
  {
   "cell_type": "markdown",
   "id": "5ba333a8",
   "metadata": {},
   "source": [
    "# Examples"
   ]
  },
  {
   "cell_type": "markdown",
   "id": "81a92981",
   "metadata": {},
   "source": [
    "## MNIST - comparison with sklearn"
   ]
  },
  {
   "cell_type": "markdown",
   "id": "3c155080",
   "metadata": {},
   "source": [
    "## Mode Canada - comparison with R"
   ]
  },
  {
   "cell_type": "markdown",
   "id": "e27d3fe5",
   "metadata": {},
   "source": [
    "## Car Choice - comparison with stata"
   ]
  },
  {
   "cell_type": "code",
   "execution_count": null,
   "id": "d00bdf35",
   "metadata": {},
   "outputs": [],
   "source": []
  }
 ],
 "metadata": {
  "kernelspec": {
   "display_name": "Python 3 (ipykernel)",
   "language": "python",
   "name": "python3"
  },
  "language_info": {
   "codemirror_mode": {
    "name": "ipython",
    "version": 3
   },
   "file_extension": ".py",
   "mimetype": "text/x-python",
   "name": "python",
   "nbconvert_exporter": "python",
   "pygments_lexer": "ipython3",
   "version": "3.9.0"
  }
 },
 "nbformat": 4,
 "nbformat_minor": 5
}
