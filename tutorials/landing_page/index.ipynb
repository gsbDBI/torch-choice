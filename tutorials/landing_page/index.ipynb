{
 "cells": [
  {
   "cell_type": "markdown",
   "id": "eb81f9b1",
   "metadata": {},
   "source": [
    "# torch-choice\n",
    "\n",
    "> Authors: Tianyu Du and Ayush Kanodia; PI: Susan Athey; Contact: tianyudu@stanford.edu\n",
    "\n",
    "`torch-choice` is a flexible, fast choice modeling with PyTorch: logit and nested logit models, designed for both estimation and prediction. See the [complete documentation](https://gsbdbi.github.io/torch-choice/) for more details.\n",
    "Unique features:\n",
    "1. GPU support via torch for speed\n",
    "2. Specify customized models\n",
    "3. Specify availability sets\n",
    "4. Report standard errors"
   ]
  },
  {
   "cell_type": "markdown",
   "id": "8be0130c",
   "metadata": {},
   "source": [
    "## Installation\n",
    "1. Clone the repository to your local machine or server.\n",
    "2. Install required dependencies using: `pip3 install -r requirements.txt`.\n",
    "3. Run `pip3 install torch-choice`.\n",
    "4. Check installation by running `python3 -c 'import torch_choice; print(torch_choice.__version__)'`.\n",
    "\n",
    "[The installation page](https://gsbdbi.github.io/torch-choice/install/) provides more details on installation."
   ]
  },
  {
   "cell_type": "markdown",
   "id": "b59ca6b2",
   "metadata": {},
   "source": [
    "In this demonstration, we will guide you through a minimal example of fitting a conditional logit model using our package. We will be referencing to R code and Stata code as well to deliver a smooth knowledge transfer."
   ]
  },
  {
   "cell_type": "markdown",
   "id": "3c155080",
   "metadata": {},
   "source": [
    "## Mode Canada Example\n",
    "In this demonstration, we will guide you through a minimal example of fitting a conditional logit model using our package. We will be referencing R code as well to deliver a smooth knowledge transfer.\n",
    "\n",
    "More information about the [ModeCanada: Mode Choice for the Montreal-Toronto Corridor](https://www.rdocumentation.org/packages/mlogit/versions/1.1-1/topics/ModeCanada).\n",
    "\n",
    "In this example, we are estimating the utility for user $u$ to choose transport method $i$ in session $s$ as\n",
    "$$\n",
    "U_{uis} = \\alpha_i + \\beta_i \\text{income}_s + \\gamma \\text{cost} + \\delta \\text{freq} + \\eta \\text{ovt} + \\iota_i \\text{ivt} + \\varepsilon\n",
    "$$\n",
    "\n",
    "###  Mode Canada with Torch-Choice"
   ]
  },
  {
   "cell_type": "code",
   "execution_count": 4,
   "id": "1698ca30",
   "metadata": {},
   "outputs": [],
   "source": [
    "# load packages.\n",
    "import pandas as pd\n",
    "import torch_choice\n",
    "\n",
    "# load data.\n",
    "df = pd.read_csv('https://raw.githubusercontent.com/gsbDBI/torch-choice/main/tutorials/public_datasets/ModeCanada.csv?token=GHSAT0AAAAAABRGHCCSNNQARRMU63W7P7F4YWYP5HA').query('noalt == 4').reset_index(drop=True)\n",
    "\n",
    "# format data.\n",
    "data = torch_choice.utils.easy_data_wrapper.EasyDatasetWrapper(\n",
    "    main_data=df,\n",
    "    purchase_record_column='case',\n",
    "    choice_column='choice',\n",
    "    item_name_column='alt',\n",
    "    user_index_column='case',\n",
    "    session_index_column='case',\n",
    "    session_observable_columns=['income'],\n",
    "    price_observable_columns=['cost', 'freq', 'ovt', 'ivt'])\n",
    "\n",
    "# define the conditional logit model.\n",
    "model = torch_choice.model.ConditionalLogitModel(\n",
    "    coef_variation_dict={'price_cost': 'constant',\n",
    "                         'price_freq': 'constant',\n",
    "                         'price_ovt': 'constant',\n",
    "                         'session_income': 'item',\n",
    "                         'price_ivt': 'item-full',\n",
    "                         'intercept': 'item'},\n",
    "    num_items=4)\n",
    "# fit the conditional logit model.\n",
    "torch_choice.utils.run_helper.run(model, data.choice_dataset, num_epochs=5000, learning_rate=0.01, batch_size=-1)"
   ]
  },
  {
   "cell_type": "markdown",
   "id": "bd569bec",
   "metadata": {},
   "source": [
    "## Mode Canada with R\n",
    "\n",
    "We include the R code for the ModeCanada example as well.\n",
    "```{r}\n",
    "# load packages.\n",
    "library(\"mlogit\")\n",
    "\n",
    "# load data.\n",
    "ModeCanada <- read.csv('https://raw.githubusercontent.com/gsbDBI/torch-choice/main/tutorials/public_datasets/ModeCanada.csv?token=GHSAT0AAAAAABRGHCCSNNQARRMU63W7P7F4YWYP5HA')\n",
    "ModeCanada <- select(ModeCanada, -X)\n",
    "ModeCanada$alt <- as.factor(ModeCanada$alt)\n",
    "\n",
    "# format data.\n",
    "MC <- dfidx(ModeCanada, subset = noalt == 4)\n",
    "\n",
    "# fit the data.\n",
    "ml.MC1 <- mlogit(choice ~ cost + freq + ovt | income | ivt, MC, reflevel='air')\n",
    "summary(ml.MC1)\n",
    "```"
   ]
  },
  {
   "cell_type": "markdown",
   "id": "79478f66",
   "metadata": {},
   "source": [
    "# What's in the package?\n",
    "Overall, the `torch-choice` package offers the following features:\n",
    "\n",
    "1. The package includes a data management module called `ChoiceDataset`, which is built upon PyTorch's dataset module. Our dataset implementation allows users to easily move data between CPU and GPU. Unlike traditional long or wide formats, the `ChoiceDataset` offers a memory-efficient way to manage observables.\n",
    "\n",
    "2. The package provides a (1) conditional logit model and (2) a nested logit model for consumer choice modeling.\n",
    "\n",
    "3. The package leverage GPU acceleration using PyTorch and easily scale to large dataset of millions of choice records. All models are trained using state-of-the-art optimizers by in PyTorch. These optimization algorithms are tested to be scalable by modern machine learning practitioners. However, you can rest assure that the package runs flawlessly when no GPU is used as well.\n",
    "\n",
    "4. Setting up the PyTorch training pipelines can be frustrating. We provide easy-to-use [PyTorch lightning](https://www.pytorchlightning.ai) wrapper of models to free researchers from the hassle from setting up PyTorch optimizers and training loops.\n"
   ]
  },
  {
   "cell_type": "markdown",
   "id": "80837ddf",
   "metadata": {},
   "source": [
    "# More Details on Models\n",
    "\n",
    "Models in the package fit individual choices by capturing the utility $U$ of user $u$ from choosing item $i$ in each occasion (called sessions) $s$.\n",
    "\n",
    "The utility admits functional form consisting of product of coefficients (often called learnable parameters in computer science literature) and observables (also called features in CS literature).\n",
    "\n",
    "$$\n",
    "U_{ui} = \\alpha + \\beta^\\top X + \\gamma^\\top Y + \\dots\n",
    "$$\n",
    "\n",
    "We allow coefficients ($\\alpha$, $\\beta$ and $\\gamma$) to be constant, user-specific (i.e., $\\alpha=\\alpha_u$), item-specific (i.e., $\\alpha=\\alpha_i$), session-specific (i.e., $\\alpha=\\alpha_t$), or (session, item)-specific (i.e., $\\alpha=\\alpha_{ti}$). For example, specifying $\\alpha$ to be item-specific is equivalent to adding an item-level fixed effect.\n",
    "\n",
    "Observables ($X$ and $Y$) can be constant, user-specific, item-specific, session-specific, or (session, item)-specific as well.\n",
    "\n",
    "The flexibility in coefficients and features allows for more than 20 types of additive term to $U_{ui}$, which enables modelling rich structures.\n",
    "\n",
    "We highly recommend users to go through tutorials we prepared to get a better understanding of what the package is offering."
   ]
  }
 ],
 "metadata": {
  "kernelspec": {
   "display_name": "Python 3.9.7 ('ml')",
   "language": "python",
   "name": "python3"
  },
  "language_info": {
   "codemirror_mode": {
    "name": "ipython",
    "version": 3
   },
   "file_extension": ".py",
   "mimetype": "text/x-python",
   "name": "python",
   "nbconvert_exporter": "python",
   "pygments_lexer": "ipython3",
   "version": "3.9.7"
  },
  "vscode": {
   "interpreter": {
    "hash": "5859d33511df864b0b7226a715510a0165ef032ed4b83eb4ae2c092f0788759c"
   }
  }
 },
 "nbformat": 4,
 "nbformat_minor": 5
}
