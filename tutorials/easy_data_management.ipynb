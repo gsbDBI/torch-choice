{
 "cells": [
  {
   "cell_type": "markdown",
   "metadata": {},
   "source": [
    "# Easy Data Wrapper Tutorial\n",
    "The data construction covered in the Data Management tutorial might be too complicated for users without prior experience in PyTorch.\n",
    "This tutorial offers a helper class to wrap the dataset, all the user needs to know is\n",
    "\n",
    "(1) loading data-frames to Python, Pandas provides one-line solution to loading various types of data files including CSV, TSV, Stata, and Excel.\n",
    "\n",
    "(2) basic usage of pandas. \n",
    "\n",
    "We aim to make this tutorial as self-contained as possible, so you don't need to be worried if you haven't went through the *Data Management tutorial*. But we invite you to go through that tutorial to obtain a more in-depth understanding of data management in this project.\n",
    "\n",
    "Author: Tianyu Du\n",
    "\n",
    "Date: May. 20, 2022\n",
    "\n",
    "Update: Jul. 9, 2022"
   ]
  },
  {
   "cell_type": "code",
   "execution_count": 1,
   "metadata": {},
   "outputs": [],
   "source": [
    "__author__ = 'Tianyu Du'"
   ]
  },
  {
   "cell_type": "markdown",
   "metadata": {},
   "source": [
    "Let's import a few necessary packages."
   ]
  },
  {
   "cell_type": "code",
   "execution_count": 2,
   "metadata": {},
   "outputs": [],
   "source": [
    "import pandas as pd\n",
    "import torch\n",
    "from torch_choice.utils.easy_data_wrapper import EasyDatasetWrapper"
   ]
  },
  {
   "cell_type": "markdown",
   "metadata": {},
   "source": [
    "## References and Background for Stata Users\n",
    "This tutorial aim to show how to manage choice datasets using the `torch-choice` package, we will follow the Stata documentation [here](https://www.stata.com/manuals/cm.pdf) to offer a seamless experience for the user to transfer prior knowledge in other packages to our package."
   ]
  },
  {
   "cell_type": "markdown",
   "metadata": {},
   "source": [
    "*From Stata Documentation*: Choice models (CM) are models for data with outcomes that are choices. The choices are selected by a decision maker, such as a person or a business (i.e., the **user**), from a set of possible alternatives (i.e., the **items**). For instance, we could model choices made by consumers who select a breakfast cereal from several different brands. Or we could model choices made by businesses who chose whether to buy TV, radio, Internet, or newspaper advertising.\n",
    "\n",
    "Models for choice data come in two varieties—models for discrete choices and models for rank-ordered alternatives. When each individual selects a single alternative, say, he or she purchases one box of cereal, the data are discrete choice data. When each individual ranks the choices, say, he or she orders cereals from most favorite to least favorite, the data are rank-ordered data. Stata has commands for fitting both discrete choice models and rank-ordered models."
   ]
  },
  {
   "cell_type": "markdown",
   "metadata": {},
   "source": [
    "Our `torch-choice` package handles the **discrete choice** models in the Stata document above."
   ]
  },
  {
   "cell_type": "markdown",
   "metadata": {},
   "source": [
    "# Motivations\n",
    "In the following parts, we demonstrate how to convert a long-format data (e.g., the one used in Stata) to the `ChoiceDataset` data format expected by our package.\n",
    "\n",
    "But first, *Why do we want another `ChoiceDataset` object instead of just one long-format data-frame?*\n",
    "In earlier versions of Stata, we can only have one single data-frame loaded in memory, this would introduce memory error especially when teh dataset is large. For example, you have a dataset of a million decisions recorded, each consists of four items, and each item has a persistent *built quality* that stay the same in all observations. The Stata format would make a million copy of these variables, which is very inefficient.\n",
    "\n",
    "We would need to collect a couple of data-frames as the essential pieces to build our `ChoiceDataset`. Don't worry, as soon as you have the data-frames ready, the `EasyDataWrapper` helper class would take care of the rest.\n",
    "\n",
    "We call a single statistical observation a **\"purchase record\"** and use this terminology throughout the tutorial. "
   ]
  },
  {
   "cell_type": "code",
   "execution_count": 3,
   "metadata": {},
   "outputs": [],
   "source": [
    "df = pd.read_stata('https://www.stata-press.com/data/r17/carchoice.dta')"
   ]
  },
  {
   "cell_type": "markdown",
   "metadata": {},
   "source": [
    "We load the artificial dataset from the Stata website. Here we borrow the description of dataset reported from the `describe` command in Stata. \n",
    "\n",
    "```\n",
    "Contains data from https://www.stata-press.com/data/r17/carchoice.dta\n",
    " Observations:         3,160                  Car choice data\n",
    "    Variables:             6                  30 Jul 2020 14:58\n",
    "---------------------------------------------------------------------------------------------------------------------------------------------------\n",
    "Variable      Storage   Display    Value\n",
    "    name         type    format    label      Variable label\n",
    "---------------------------------------------------------------------------------------------------------------------------------------------------\n",
    "consumerid      int     %8.0g                 ID of individual consumer\n",
    "car             byte    %9.0g      nation     Nationality of car\n",
    "purchase        byte    %10.0g                Indicator of car purchased\n",
    "gender          byte    %9.0g      gender     Gender: 0 = Female, 1 = Male\n",
    "income          float   %9.0g                 Income (in $1,000)\n",
    "dealers         byte    %9.0g                 No. of dealerships in community\n",
    "---------------------------------------------------------------------------------------------------------------------------------------------------\n",
    "Sorted by: consumerid  car\n",
    "\n",
    "```"
   ]
  },
  {
   "cell_type": "markdown",
   "metadata": {},
   "source": [
    "In this dataset, the first four rows with `consumerid == 1` corresponds to the first **purchasing record**, it means the consumer with ID 1 was making the decision among four types of cars (i.e., **items**) and chose `American` car (since the `purchase == 1` in that row of `American` car).\n",
    "\n",
    "Even though there were four types of cars, not all of them were available all the time. For example, for the **purchase record** by consumer with ID 4, only American, Japanese, and European cars were available (note that there is no row in the dataset with `consumerid == 4` and `car == 'Korean'`, this indicates unavailability of a certain item.)"
   ]
  },
  {
   "cell_type": "code",
   "execution_count": 4,
   "metadata": {},
   "outputs": [
    {
     "data": {
      "text/html": [
       "<div>\n",
       "<style scoped>\n",
       "    .dataframe tbody tr th:only-of-type {\n",
       "        vertical-align: middle;\n",
       "    }\n",
       "\n",
       "    .dataframe tbody tr th {\n",
       "        vertical-align: top;\n",
       "    }\n",
       "\n",
       "    .dataframe thead th {\n",
       "        text-align: right;\n",
       "    }\n",
       "</style>\n",
       "<table border=\"1\" class=\"dataframe\">\n",
       "  <thead>\n",
       "    <tr style=\"text-align: right;\">\n",
       "      <th></th>\n",
       "      <th>consumerid</th>\n",
       "      <th>car</th>\n",
       "      <th>purchase</th>\n",
       "      <th>gender</th>\n",
       "      <th>income</th>\n",
       "      <th>dealers</th>\n",
       "    </tr>\n",
       "  </thead>\n",
       "  <tbody>\n",
       "    <tr>\n",
       "      <th>0</th>\n",
       "      <td>1</td>\n",
       "      <td>American</td>\n",
       "      <td>1</td>\n",
       "      <td>Male</td>\n",
       "      <td>46.699997</td>\n",
       "      <td>9</td>\n",
       "    </tr>\n",
       "    <tr>\n",
       "      <th>1</th>\n",
       "      <td>1</td>\n",
       "      <td>Japanese</td>\n",
       "      <td>0</td>\n",
       "      <td>Male</td>\n",
       "      <td>46.699997</td>\n",
       "      <td>11</td>\n",
       "    </tr>\n",
       "    <tr>\n",
       "      <th>2</th>\n",
       "      <td>1</td>\n",
       "      <td>European</td>\n",
       "      <td>0</td>\n",
       "      <td>Male</td>\n",
       "      <td>46.699997</td>\n",
       "      <td>5</td>\n",
       "    </tr>\n",
       "    <tr>\n",
       "      <th>3</th>\n",
       "      <td>1</td>\n",
       "      <td>Korean</td>\n",
       "      <td>0</td>\n",
       "      <td>Male</td>\n",
       "      <td>46.699997</td>\n",
       "      <td>1</td>\n",
       "    </tr>\n",
       "    <tr>\n",
       "      <th>4</th>\n",
       "      <td>2</td>\n",
       "      <td>American</td>\n",
       "      <td>1</td>\n",
       "      <td>Male</td>\n",
       "      <td>26.100000</td>\n",
       "      <td>10</td>\n",
       "    </tr>\n",
       "    <tr>\n",
       "      <th>5</th>\n",
       "      <td>2</td>\n",
       "      <td>Japanese</td>\n",
       "      <td>0</td>\n",
       "      <td>Male</td>\n",
       "      <td>26.100000</td>\n",
       "      <td>7</td>\n",
       "    </tr>\n",
       "    <tr>\n",
       "      <th>6</th>\n",
       "      <td>2</td>\n",
       "      <td>European</td>\n",
       "      <td>0</td>\n",
       "      <td>Male</td>\n",
       "      <td>26.100000</td>\n",
       "      <td>2</td>\n",
       "    </tr>\n",
       "    <tr>\n",
       "      <th>7</th>\n",
       "      <td>2</td>\n",
       "      <td>Korean</td>\n",
       "      <td>0</td>\n",
       "      <td>Male</td>\n",
       "      <td>26.100000</td>\n",
       "      <td>1</td>\n",
       "    </tr>\n",
       "    <tr>\n",
       "      <th>8</th>\n",
       "      <td>3</td>\n",
       "      <td>American</td>\n",
       "      <td>0</td>\n",
       "      <td>Male</td>\n",
       "      <td>32.700001</td>\n",
       "      <td>8</td>\n",
       "    </tr>\n",
       "    <tr>\n",
       "      <th>9</th>\n",
       "      <td>3</td>\n",
       "      <td>Japanese</td>\n",
       "      <td>1</td>\n",
       "      <td>Male</td>\n",
       "      <td>32.700001</td>\n",
       "      <td>6</td>\n",
       "    </tr>\n",
       "    <tr>\n",
       "      <th>10</th>\n",
       "      <td>3</td>\n",
       "      <td>European</td>\n",
       "      <td>0</td>\n",
       "      <td>Male</td>\n",
       "      <td>32.700001</td>\n",
       "      <td>2</td>\n",
       "    </tr>\n",
       "    <tr>\n",
       "      <th>11</th>\n",
       "      <td>4</td>\n",
       "      <td>American</td>\n",
       "      <td>1</td>\n",
       "      <td>Female</td>\n",
       "      <td>49.199997</td>\n",
       "      <td>5</td>\n",
       "    </tr>\n",
       "    <tr>\n",
       "      <th>12</th>\n",
       "      <td>4</td>\n",
       "      <td>Japanese</td>\n",
       "      <td>0</td>\n",
       "      <td>Female</td>\n",
       "      <td>49.199997</td>\n",
       "      <td>4</td>\n",
       "    </tr>\n",
       "    <tr>\n",
       "      <th>13</th>\n",
       "      <td>4</td>\n",
       "      <td>European</td>\n",
       "      <td>0</td>\n",
       "      <td>Female</td>\n",
       "      <td>49.199997</td>\n",
       "      <td>3</td>\n",
       "    </tr>\n",
       "    <tr>\n",
       "      <th>14</th>\n",
       "      <td>5</td>\n",
       "      <td>American</td>\n",
       "      <td>0</td>\n",
       "      <td>Male</td>\n",
       "      <td>24.299999</td>\n",
       "      <td>8</td>\n",
       "    </tr>\n",
       "    <tr>\n",
       "      <th>15</th>\n",
       "      <td>5</td>\n",
       "      <td>Japanese</td>\n",
       "      <td>0</td>\n",
       "      <td>Male</td>\n",
       "      <td>24.299999</td>\n",
       "      <td>3</td>\n",
       "    </tr>\n",
       "    <tr>\n",
       "      <th>16</th>\n",
       "      <td>5</td>\n",
       "      <td>European</td>\n",
       "      <td>1</td>\n",
       "      <td>Male</td>\n",
       "      <td>24.299999</td>\n",
       "      <td>3</td>\n",
       "    </tr>\n",
       "    <tr>\n",
       "      <th>17</th>\n",
       "      <td>6</td>\n",
       "      <td>American</td>\n",
       "      <td>1</td>\n",
       "      <td>Female</td>\n",
       "      <td>39.000000</td>\n",
       "      <td>10</td>\n",
       "    </tr>\n",
       "    <tr>\n",
       "      <th>18</th>\n",
       "      <td>6</td>\n",
       "      <td>Japanese</td>\n",
       "      <td>0</td>\n",
       "      <td>Female</td>\n",
       "      <td>39.000000</td>\n",
       "      <td>6</td>\n",
       "    </tr>\n",
       "    <tr>\n",
       "      <th>19</th>\n",
       "      <td>6</td>\n",
       "      <td>European</td>\n",
       "      <td>0</td>\n",
       "      <td>Female</td>\n",
       "      <td>39.000000</td>\n",
       "      <td>1</td>\n",
       "    </tr>\n",
       "    <tr>\n",
       "      <th>20</th>\n",
       "      <td>7</td>\n",
       "      <td>American</td>\n",
       "      <td>0</td>\n",
       "      <td>Male</td>\n",
       "      <td>33.000000</td>\n",
       "      <td>10</td>\n",
       "    </tr>\n",
       "    <tr>\n",
       "      <th>21</th>\n",
       "      <td>7</td>\n",
       "      <td>Japanese</td>\n",
       "      <td>0</td>\n",
       "      <td>Male</td>\n",
       "      <td>33.000000</td>\n",
       "      <td>6</td>\n",
       "    </tr>\n",
       "    <tr>\n",
       "      <th>22</th>\n",
       "      <td>7</td>\n",
       "      <td>European</td>\n",
       "      <td>1</td>\n",
       "      <td>Male</td>\n",
       "      <td>33.000000</td>\n",
       "      <td>4</td>\n",
       "    </tr>\n",
       "    <tr>\n",
       "      <th>23</th>\n",
       "      <td>7</td>\n",
       "      <td>Korean</td>\n",
       "      <td>0</td>\n",
       "      <td>Male</td>\n",
       "      <td>33.000000</td>\n",
       "      <td>1</td>\n",
       "    </tr>\n",
       "    <tr>\n",
       "      <th>24</th>\n",
       "      <td>8</td>\n",
       "      <td>American</td>\n",
       "      <td>1</td>\n",
       "      <td>Male</td>\n",
       "      <td>20.299999</td>\n",
       "      <td>6</td>\n",
       "    </tr>\n",
       "    <tr>\n",
       "      <th>25</th>\n",
       "      <td>8</td>\n",
       "      <td>Japanese</td>\n",
       "      <td>0</td>\n",
       "      <td>Male</td>\n",
       "      <td>20.299999</td>\n",
       "      <td>5</td>\n",
       "    </tr>\n",
       "    <tr>\n",
       "      <th>26</th>\n",
       "      <td>8</td>\n",
       "      <td>European</td>\n",
       "      <td>0</td>\n",
       "      <td>Male</td>\n",
       "      <td>20.299999</td>\n",
       "      <td>3</td>\n",
       "    </tr>\n",
       "    <tr>\n",
       "      <th>27</th>\n",
       "      <td>9</td>\n",
       "      <td>American</td>\n",
       "      <td>0</td>\n",
       "      <td>Male</td>\n",
       "      <td>38.000000</td>\n",
       "      <td>9</td>\n",
       "    </tr>\n",
       "    <tr>\n",
       "      <th>28</th>\n",
       "      <td>9</td>\n",
       "      <td>Japanese</td>\n",
       "      <td>1</td>\n",
       "      <td>Male</td>\n",
       "      <td>38.000000</td>\n",
       "      <td>9</td>\n",
       "    </tr>\n",
       "    <tr>\n",
       "      <th>29</th>\n",
       "      <td>9</td>\n",
       "      <td>European</td>\n",
       "      <td>0</td>\n",
       "      <td>Male</td>\n",
       "      <td>38.000000</td>\n",
       "      <td>2</td>\n",
       "    </tr>\n",
       "  </tbody>\n",
       "</table>\n",
       "</div>"
      ],
      "text/plain": [
       "    consumerid       car  purchase  gender     income  dealers\n",
       "0            1  American         1    Male  46.699997        9\n",
       "1            1  Japanese         0    Male  46.699997       11\n",
       "2            1  European         0    Male  46.699997        5\n",
       "3            1    Korean         0    Male  46.699997        1\n",
       "4            2  American         1    Male  26.100000       10\n",
       "5            2  Japanese         0    Male  26.100000        7\n",
       "6            2  European         0    Male  26.100000        2\n",
       "7            2    Korean         0    Male  26.100000        1\n",
       "8            3  American         0    Male  32.700001        8\n",
       "9            3  Japanese         1    Male  32.700001        6\n",
       "10           3  European         0    Male  32.700001        2\n",
       "11           4  American         1  Female  49.199997        5\n",
       "12           4  Japanese         0  Female  49.199997        4\n",
       "13           4  European         0  Female  49.199997        3\n",
       "14           5  American         0    Male  24.299999        8\n",
       "15           5  Japanese         0    Male  24.299999        3\n",
       "16           5  European         1    Male  24.299999        3\n",
       "17           6  American         1  Female  39.000000       10\n",
       "18           6  Japanese         0  Female  39.000000        6\n",
       "19           6  European         0  Female  39.000000        1\n",
       "20           7  American         0    Male  33.000000       10\n",
       "21           7  Japanese         0    Male  33.000000        6\n",
       "22           7  European         1    Male  33.000000        4\n",
       "23           7    Korean         0    Male  33.000000        1\n",
       "24           8  American         1    Male  20.299999        6\n",
       "25           8  Japanese         0    Male  20.299999        5\n",
       "26           8  European         0    Male  20.299999        3\n",
       "27           9  American         0    Male  38.000000        9\n",
       "28           9  Japanese         1    Male  38.000000        9\n",
       "29           9  European         0    Male  38.000000        2"
      ]
     },
     "execution_count": 4,
     "metadata": {},
     "output_type": "execute_result"
    }
   ],
   "source": [
    "df.head(30)"
   ]
  },
  {
   "cell_type": "markdown",
   "metadata": {},
   "source": [
    "# Components of the Consumer Choice Modelling Problem\n",
    "We begin with essential component of the consumer choice modelling problem. Walking through these components should help you understand what kind of data our models are working on.\n",
    "\n",
    "### Purchasing Record\n",
    "Each row (record) of the dataset is called a **purchasing record**, which includes *who* bought *what* at *when* and *where*.\n",
    "Let $B$ denote the number of **purchasing records** in the dataset (i.e., number of rows of the dataset). Each row $b \\in \\{1,2,\\dots, B\\}$ corresponds to a purchase record (i.e., *who* bought *what* at *where and when*).\n",
    "\n",
    "### Items and Categories\n",
    "To begin with, there are $I$ **items** indexed by $i \\in \\{1,2,\\dots,I\\}$ under our consideration.\n",
    "\n",
    "Further, the researcher can optionally partition the set items into $C$ **categories** indexed by $c \\in \\{1,2,\\dots,C\\}$. Let $I_c$ denote the collection of items in category $c$, it is easy to verify that\n",
    "\n",
    "$$\n",
    "\\bigcup_{c \\in \\{1, 2, \\dots, C\\}} I_c = \\{1, 2, \\dots I\\}\n",
    "$$\n",
    "\n",
    "If the researcher does not wish to model different categories differently, the researcher can simply put all items in one single category: $I_1 = \\{1, 2, \\dots I\\}$, so that all items belong to the same category.\n",
    "\n",
    "**Note**: since we will be using PyTorch to train our model, we represent their identities with integer values instead of the raw human-readable names of items (e.g., Dell 24 inch LCD monitor).\n",
    "Raw item names can be encoded easily with [sklearn.preprocessing.OrdinalEncoder](https://scikit-learn.org/stable/modules/generated/sklearn.preprocessing.OrdinalEncoder.html).\n",
    "\n",
    "### Users\n",
    "Each purchaing reocrd is naturally associated with an **user** indexed by $u \\in \\{1,2,\\dots,U\\}$ (*who*) as well.\n",
    "\n",
    "### Sessions\n",
    "Our data structure encompasses *where and when* using a notion called **session** indexed by $s \\in \\{1,2,\\dots, S\\}$.\n",
    "For example, when the data came from a single store over the period of a year. In this case, the notion of *where* does not matter that much, and session $s$ is simply the date of purchase.\n",
    "\n",
    "Another example is that we have the purchase record from different stores, the session $s$ can be defined as a pair of *(date, store)* instead.\n",
    "\n",
    "If the researcher does not wish to handle records from different sessions differently, the researcher can assign the same session ID to all rows of the dataset.\n",
    "\n",
    "To summarize, each purchasing record $b$ in the dataset is characterized by a user-session-item tuple $(u, s, i)$.\n",
    "\n",
    "When there are multiple items bought by the same user in the same session, there will be multiple rows in the dataset with the same $(u, s)$ corresponding to the same receipt."
   ]
  },
  {
   "cell_type": "markdown",
   "metadata": {},
   "source": [
    "# Format the Dataset a Little Bit\n",
    "The wrapper we built requires several data frames, providing the correct information is all we need to do in this tutorial, the data wrapper will handle the construction of `ChoiceDataset` for you.\n",
    "\n",
    "**Note**: The dataset in this tutorial is a bit over-simplified, we only have one purchase record for each user in each session, so the `consumerid` column identifies all of the user, the session, and the purchase record (because we have different dealers for the same type of car, we define each purchase record of it's session instead of assigning all purchase records to the same session).\n",
    "That is, we have a single user makes a single choice in each single session.\n",
    "\n",
    "The **main dataset** should contain the following columns:\n",
    "\n",
    "1. `purchase_record_column`: a column identifies **purchase record** (also called **case** in Stata syntax). this tutorial, the `consumerid` column is the identifier. For example, the first 4 rows of the dataset (see above) has `consumerid == 1`, this means we should look at the first 4 rows together and they constitute the first purchase record.\n",
    "2. `item_name_column`: a column identifies **names of items**, which is `car` in the dataset above. This column provides information above the availability as well. As mentioned above, there is no column with `car == Korean` in the fourth purchasing record (`consumerid == 4`), so we know that Korean car was not available that time.\n",
    "3. `choice_column`: a column identifies the **choice** made by the consumer in each purchase record, which is the `purchase` column in our example. Exactly one row per purchase record (i.e., rows with the same values in `purchase_record_column`) should have 1, while the values are zeros for all other rows.\n",
    "4. `user_index_column`: a *optional* column identifies the **user** making the choice, which is also `consumerid` in our case.\n",
    "5. `session_index_column`: a *optional* column identifies the **session** of the choice, which is also `consumerid` in our case.\n",
    "\n",
    "As you might have noticed, the `consumerid` column in the data-frame identifies multiple pieces of information: `purchase_record`, `user_index`, and `session_index`. This is not a mistake, you can use the same column in `df` to supply multiple pieces of information. "
   ]
  },
  {
   "cell_type": "code",
   "execution_count": 5,
   "metadata": {},
   "outputs": [
    {
     "data": {
      "text/plain": [
       "Male      2283\n",
       "Female     854\n",
       "NaN         23\n",
       "Name: gender, dtype: int64"
      ]
     },
     "execution_count": 5,
     "metadata": {},
     "output_type": "execute_result"
    }
   ],
   "source": [
    "df.gender.value_counts(dropna=False)"
   ]
  },
  {
   "cell_type": "markdown",
   "metadata": {},
   "source": [
    "The only modification required is to convert `gender` (with values of `Male`, `Female` or `NaN`) to integers because PyTorch does **not** handle strings. For simplicity, we will assume all `NaN` gender to be `Female` (you should **not** do this in a real application!) and re-define the gender variable as $\\mathbb{I}\\{\\texttt{gender} == \\texttt{Male}\\}$."
   ]
  },
  {
   "cell_type": "code",
   "execution_count": 6,
   "metadata": {},
   "outputs": [],
   "source": [
    "# we change gender to binary 0/1 because pytorch doesn't handle strings.\n",
    "df['gender'] = (df['gender'] == 'Male').astype(int)"
   ]
  },
  {
   "cell_type": "markdown",
   "metadata": {},
   "source": [
    "Now the `gender` column contains only binary integers."
   ]
  },
  {
   "cell_type": "code",
   "execution_count": 7,
   "metadata": {},
   "outputs": [
    {
     "data": {
      "text/plain": [
       "1    2283\n",
       "0     877\n",
       "Name: gender, dtype: int64"
      ]
     },
     "execution_count": 7,
     "metadata": {},
     "output_type": "execute_result"
    }
   ],
   "source": [
    "df.gender.value_counts(dropna=False)"
   ]
  },
  {
   "cell_type": "markdown",
   "metadata": {},
   "source": [
    "The data-frame looks like the following right now:"
   ]
  },
  {
   "cell_type": "code",
   "execution_count": 8,
   "metadata": {},
   "outputs": [
    {
     "data": {
      "text/html": [
       "<div>\n",
       "<style scoped>\n",
       "    .dataframe tbody tr th:only-of-type {\n",
       "        vertical-align: middle;\n",
       "    }\n",
       "\n",
       "    .dataframe tbody tr th {\n",
       "        vertical-align: top;\n",
       "    }\n",
       "\n",
       "    .dataframe thead th {\n",
       "        text-align: right;\n",
       "    }\n",
       "</style>\n",
       "<table border=\"1\" class=\"dataframe\">\n",
       "  <thead>\n",
       "    <tr style=\"text-align: right;\">\n",
       "      <th></th>\n",
       "      <th>consumerid</th>\n",
       "      <th>car</th>\n",
       "      <th>purchase</th>\n",
       "      <th>gender</th>\n",
       "      <th>income</th>\n",
       "      <th>dealers</th>\n",
       "    </tr>\n",
       "  </thead>\n",
       "  <tbody>\n",
       "    <tr>\n",
       "      <th>0</th>\n",
       "      <td>1</td>\n",
       "      <td>American</td>\n",
       "      <td>1</td>\n",
       "      <td>1</td>\n",
       "      <td>46.699997</td>\n",
       "      <td>9</td>\n",
       "    </tr>\n",
       "    <tr>\n",
       "      <th>1</th>\n",
       "      <td>1</td>\n",
       "      <td>Japanese</td>\n",
       "      <td>0</td>\n",
       "      <td>1</td>\n",
       "      <td>46.699997</td>\n",
       "      <td>11</td>\n",
       "    </tr>\n",
       "    <tr>\n",
       "      <th>2</th>\n",
       "      <td>1</td>\n",
       "      <td>European</td>\n",
       "      <td>0</td>\n",
       "      <td>1</td>\n",
       "      <td>46.699997</td>\n",
       "      <td>5</td>\n",
       "    </tr>\n",
       "    <tr>\n",
       "      <th>3</th>\n",
       "      <td>1</td>\n",
       "      <td>Korean</td>\n",
       "      <td>0</td>\n",
       "      <td>1</td>\n",
       "      <td>46.699997</td>\n",
       "      <td>1</td>\n",
       "    </tr>\n",
       "    <tr>\n",
       "      <th>4</th>\n",
       "      <td>2</td>\n",
       "      <td>American</td>\n",
       "      <td>1</td>\n",
       "      <td>1</td>\n",
       "      <td>26.100000</td>\n",
       "      <td>10</td>\n",
       "    </tr>\n",
       "  </tbody>\n",
       "</table>\n",
       "</div>"
      ],
      "text/plain": [
       "   consumerid       car  purchase  gender     income  dealers\n",
       "0           1  American         1       1  46.699997        9\n",
       "1           1  Japanese         0       1  46.699997       11\n",
       "2           1  European         0       1  46.699997        5\n",
       "3           1    Korean         0       1  46.699997        1\n",
       "4           2  American         1       1  26.100000       10"
      ]
     },
     "execution_count": 8,
     "metadata": {},
     "output_type": "execute_result"
    }
   ],
   "source": [
    "df.head()"
   ]
  },
  {
   "cell_type": "markdown",
   "metadata": {},
   "source": [
    "# Adding the Observables"
   ]
  },
  {
   "cell_type": "markdown",
   "metadata": {},
   "source": [
    "The next step is to identify observables going into the model.\n",
    "\n",
    "Specifically, we would want to add:\n",
    "1. `gender` and `income` as user-specific observables\n",
    "2. and `dealers` as (session, item)-specific observable. Such observables are called **price observables** in our setting, why? because price is the most typical (session, item)-specific observable."
   ]
  },
  {
   "cell_type": "markdown",
   "metadata": {},
   "source": [
    "## Method 1: Adding Observables by Extracting Columns of the Dataset\n",
    "As you can see, `gender`, `income` and `dealers` are already encompassed in `df`, the first way to add observables is simply mentioning these columns while initializing the `EasyDatasetWrapper` object.\n",
    "\n",
    "You can supply a list of names of columns to each of `{user, item, session, price}_observable_columns` keyword argument. For example, we use `user_observable_columns=['gender', 'income']` to inform the `EasyDatasetWrapper` that we wish to derive user-specific observables from the `gender` and `income` columns of `df`.\n",
    "\n",
    "Also, we inform the `EasyDatasetWrapper` that we want to derive (session, item)-specific (i.e., price observable) by specifying `price_observable_columns=['dealers']`."
   ]
  },
  {
   "cell_type": "markdown",
   "metadata": {},
   "source": [
    "Since our package leverages GPU-acceleration, it is necessary to supply the **device** on which the dataset should reside.\n",
    "The `EasyDatasetWrapper` also takes a `device` keyword, which can be either `'cpu'` or an appropriate CUDA device."
   ]
  },
  {
   "cell_type": "code",
   "execution_count": 9,
   "metadata": {},
   "outputs": [],
   "source": [
    "if torch.cuda.is_available():\n",
    "    device = 'cuda'  # use GPU if available\n",
    "else:\n",
    "    device = 'cpu'  # use CPU otherwise"
   ]
  },
  {
   "cell_type": "code",
   "execution_count": 10,
   "metadata": {},
   "outputs": [
    {
     "name": "stdout",
     "output_type": "stream",
     "text": [
      "Creating choice dataset from stata format data-frames...\n",
      "Note: choice sets of different sizes found in different purchase records: {'size 4': 'occurrence 505', 'size 3': 'occurrence 380'}\n",
      "Finished Creating Choice Dataset.\n"
     ]
    }
   ],
   "source": [
    "data_1 = EasyDatasetWrapper(main_data=df,\n",
    "                            # TODO: better naming convention? Need to discuss.\n",
    "                            # after discussion, we add it to the default value\n",
    "                            # in the data wrapper class.\n",
    "                            # these are just names.\n",
    "                            purchase_record_column='consumerid',\n",
    "                            choice_column='purchase',\n",
    "                            item_name_column='car',\n",
    "                            user_index_column='consumerid',\n",
    "                            session_index_column='consumerid',\n",
    "                            # it can be derived from columns of the dataframe or supplied as\n",
    "                            user_observable_columns=['gender', 'income'],\n",
    "                            price_observable_columns=['dealers'],\n",
    "                            device=device)\n"
   ]
  },
  {
   "cell_type": "markdown",
   "metadata": {},
   "source": [
    "The dataset has a `summary()` method, which can be used to print out the summary of the dataset."
   ]
  },
  {
   "cell_type": "code",
   "execution_count": 11,
   "metadata": {},
   "outputs": [
    {
     "name": "stdout",
     "output_type": "stream",
     "text": [
      "* purchase record index range: [1 2 3] ... [883 884 885]\n",
      "* Space of 4 items:\n",
      "                   0         1         2       3\n",
      "item name  American  European  Japanese  Korean\n",
      "* Number of purchase records/cases: 885.\n",
      "* Preview of main data frame:\n",
      "      consumerid       car  purchase  gender     income  dealers\n",
      "0              1  American         1       1  46.699997        9\n",
      "1              1  Japanese         0       1  46.699997       11\n",
      "2              1  European         0       1  46.699997        5\n",
      "3              1    Korean         0       1  46.699997        1\n",
      "4              2  American         1       1  26.100000       10\n",
      "...          ...       ...       ...     ...        ...      ...\n",
      "3155         884  Japanese         1       1  20.900000       10\n",
      "3156         884  European         0       1  20.900000        4\n",
      "3157         885  American         1       1  30.600000       10\n",
      "3158         885  Japanese         0       1  30.600000        5\n",
      "3159         885  European         0       1  30.600000        4\n",
      "\n",
      "[3160 rows x 6 columns]\n",
      "* Preview of ChoiceDataset:\n",
      "ChoiceDataset(label=[], item_index=[885], user_index=[885], session_index=[885], item_availability=[885, 4], user_gender=[885, 1], user_income=[885, 1], price_dealers=[885, 4, 1], device=cuda:0)\n"
     ]
    }
   ],
   "source": [
    "data_1.summary()"
   ]
  },
  {
   "cell_type": "markdown",
   "metadata": {},
   "source": [
    "You can access the `ChoiceDataset` object constructed by calling the `data.choice_dataset` object. "
   ]
  },
  {
   "cell_type": "code",
   "execution_count": 12,
   "metadata": {},
   "outputs": [
    {
     "data": {
      "text/plain": [
       "ChoiceDataset(label=[], item_index=[885], user_index=[885], session_index=[885], item_availability=[885, 4], user_gender=[885, 1], user_income=[885, 1], price_dealers=[885, 4, 1], device=cuda:0)"
      ]
     },
     "execution_count": 12,
     "metadata": {},
     "output_type": "execute_result"
    }
   ],
   "source": [
    "data_1.choice_dataset"
   ]
  },
  {
   "cell_type": "markdown",
   "metadata": {},
   "source": [
    "## Method 2: Adding Observables as Data Frames\n",
    "We can also construct data frames and use data frames to supply different observables. This is useful when you have a large dataset, for example, if there are many purchase records for the same user (to be concrete, say $U$ users and $N$ purchase records for each user, resulting $U \\times N$ total purchase records). Using a single data-frame requires a lot of memory: you need to store $U \\times N$ entires of user genders in total. However, user genders should be persistent across all purchasing records, if we use a separate data-frame mapping user index to gender of the user, we only need to store $U$ entries (i.e., one for each user) of gender information.\n",
    "\n",
    "Similarly, the long-format data requires storing each piece of item-specific information for number of purchase records times, which leads to inefficient usage of disk/memory space.\n",
    "\n",
    "### How Do Observable Data-frame Look Like?\n",
    "\n",
    "Our package natively support the following four types of observables:\n",
    "\n",
    "1. **User Observables**: user-specific observables (e.g., gender and income) should (1) have length equal to the number of unique users in the dataset (885 here); (2) contains a column named as `user_index_column` (`user_index_column` is a variable, the actual column name should be the **value** of variable `user_index_column`! E.g., here the user observable data-frame should have a column named `'consumerid'`); (3) the user observable can have any number of other columns beside the `user_index_column` column, each of them corresponding to a user-specific observable. For example, a data-frame containing $X$ user-specific observables has shape `(num_users, X + 1)`.\n",
    "\n",
    "2. **Item Observables** item-specific observables (not shown in this tutorial) should be (1) have length equal to the number of unique items in the dataset (4 here); (2) contain a column named as `item_index_column` (`item_index_column` is a variable, the actual column name should be the **value** of variable `item_index_column`! E.g., here the item observable data-frame should have a column named `'car'`); (3) the item observable can have any number of other columns beside the `item_index_column` column, each of them corresponding to a item-specific observable.\n",
    "\n",
    "3. **Session Observable** session-specific observables (not shown in this tutorial) should be (1) have length equal to the number of unique sessions in the dataset; (2) contain a column named as `session_index_column` (`session_index_column` is a variable, the actual column name should be the **value** of variable `session_index_column`! E.g., here the session observable data-frame should have a column named `'consumerid'`); (3) the session observable can have any number of other columns beside the `session_index_column` column, each of them corresponding to a session-specific observable.\n",
    "\n",
    "4. **Price Observables** (session, item)-specific observables (e.g., dealers) should be (1) contains a column named as `session_index_column` (e.g., `consumerid` in our example) **and** a column named as `item_name_column` (e.g., `car` in our example), (2) the price observable can have any number of other columns beside the `session_index_column` and `item_name_column` columns, each of them corresponding to a (session, item)-specific observable. For example, a data-frame containing $X$ (session, item)-specific observables has shape `(num_sessions, num_items, X + 2)`.\n",
    "\n",
    "We encourage the reader to review the *Data Management Tutorial* for more details on types of observables.\n",
    "\n",
    "### Suggested Procedure of Storing and Loading Data\n",
    "1. Suppose `SESSION_INDEX` column in `df_main` is the index of the session, `ALTERNATIVES` column is the index of the car.\n",
    "2. For user-specific observables, you should have a CSV on disk with columns {`consumerid`, `var_1`, `var_2`, ...}.\n",
    "3. You load the user-specific dataset as `user_obs = pd.read_csv(..., index='consumerid')`."
   ]
  },
  {
   "cell_type": "markdown",
   "metadata": {},
   "source": [
    "Let's first construct the data frame for user genders first."
   ]
  },
  {
   "cell_type": "code",
   "execution_count": 13,
   "metadata": {},
   "outputs": [],
   "source": [
    "gender = df.groupby('consumerid')['gender'].first().reset_index()"
   ]
  },
  {
   "cell_type": "markdown",
   "metadata": {},
   "source": [
    "The user-observable data-frame contains a column of user IDs (the `consumerid` column), this column should have exactly the same name as the column containing user indices. Otherwise, the wrapper won't know which column corresponds to user IDs and which column corresponds to variables."
   ]
  },
  {
   "cell_type": "code",
   "execution_count": 14,
   "metadata": {},
   "outputs": [
    {
     "data": {
      "text/html": [
       "<div>\n",
       "<style scoped>\n",
       "    .dataframe tbody tr th:only-of-type {\n",
       "        vertical-align: middle;\n",
       "    }\n",
       "\n",
       "    .dataframe tbody tr th {\n",
       "        vertical-align: top;\n",
       "    }\n",
       "\n",
       "    .dataframe thead th {\n",
       "        text-align: right;\n",
       "    }\n",
       "</style>\n",
       "<table border=\"1\" class=\"dataframe\">\n",
       "  <thead>\n",
       "    <tr style=\"text-align: right;\">\n",
       "      <th></th>\n",
       "      <th>consumerid</th>\n",
       "      <th>gender</th>\n",
       "    </tr>\n",
       "  </thead>\n",
       "  <tbody>\n",
       "    <tr>\n",
       "      <th>0</th>\n",
       "      <td>1</td>\n",
       "      <td>1</td>\n",
       "    </tr>\n",
       "    <tr>\n",
       "      <th>1</th>\n",
       "      <td>2</td>\n",
       "      <td>1</td>\n",
       "    </tr>\n",
       "    <tr>\n",
       "      <th>2</th>\n",
       "      <td>3</td>\n",
       "      <td>1</td>\n",
       "    </tr>\n",
       "    <tr>\n",
       "      <th>3</th>\n",
       "      <td>4</td>\n",
       "      <td>0</td>\n",
       "    </tr>\n",
       "    <tr>\n",
       "      <th>4</th>\n",
       "      <td>5</td>\n",
       "      <td>1</td>\n",
       "    </tr>\n",
       "  </tbody>\n",
       "</table>\n",
       "</div>"
      ],
      "text/plain": [
       "   consumerid  gender\n",
       "0           1       1\n",
       "1           2       1\n",
       "2           3       1\n",
       "3           4       0\n",
       "4           5       1"
      ]
     },
     "execution_count": 14,
     "metadata": {},
     "output_type": "execute_result"
    }
   ],
   "source": [
    "gender.head()"
   ]
  },
  {
   "cell_type": "markdown",
   "metadata": {},
   "source": [
    "Then, let's build the data-frame for user-specific income variables."
   ]
  },
  {
   "cell_type": "code",
   "execution_count": 15,
   "metadata": {},
   "outputs": [],
   "source": [
    "income = df.groupby('consumerid')['income'].first().reset_index()"
   ]
  },
  {
   "cell_type": "code",
   "execution_count": 16,
   "metadata": {},
   "outputs": [
    {
     "data": {
      "text/html": [
       "<div>\n",
       "<style scoped>\n",
       "    .dataframe tbody tr th:only-of-type {\n",
       "        vertical-align: middle;\n",
       "    }\n",
       "\n",
       "    .dataframe tbody tr th {\n",
       "        vertical-align: top;\n",
       "    }\n",
       "\n",
       "    .dataframe thead th {\n",
       "        text-align: right;\n",
       "    }\n",
       "</style>\n",
       "<table border=\"1\" class=\"dataframe\">\n",
       "  <thead>\n",
       "    <tr style=\"text-align: right;\">\n",
       "      <th></th>\n",
       "      <th>consumerid</th>\n",
       "      <th>income</th>\n",
       "    </tr>\n",
       "  </thead>\n",
       "  <tbody>\n",
       "    <tr>\n",
       "      <th>0</th>\n",
       "      <td>1</td>\n",
       "      <td>46.699997</td>\n",
       "    </tr>\n",
       "    <tr>\n",
       "      <th>1</th>\n",
       "      <td>2</td>\n",
       "      <td>26.100000</td>\n",
       "    </tr>\n",
       "    <tr>\n",
       "      <th>2</th>\n",
       "      <td>3</td>\n",
       "      <td>32.700001</td>\n",
       "    </tr>\n",
       "    <tr>\n",
       "      <th>3</th>\n",
       "      <td>4</td>\n",
       "      <td>49.199997</td>\n",
       "    </tr>\n",
       "    <tr>\n",
       "      <th>4</th>\n",
       "      <td>5</td>\n",
       "      <td>24.299999</td>\n",
       "    </tr>\n",
       "  </tbody>\n",
       "</table>\n",
       "</div>"
      ],
      "text/plain": [
       "   consumerid     income\n",
       "0           1  46.699997\n",
       "1           2  26.100000\n",
       "2           3  32.700001\n",
       "3           4  49.199997\n",
       "4           5  24.299999"
      ]
     },
     "execution_count": 16,
     "metadata": {},
     "output_type": "execute_result"
    }
   ],
   "source": [
    "income.head()"
   ]
  },
  {
   "cell_type": "markdown",
   "metadata": {},
   "source": [
    "Please note that we can have multiple observables contained in the same data-frame as well."
   ]
  },
  {
   "cell_type": "code",
   "execution_count": 17,
   "metadata": {},
   "outputs": [
    {
     "data": {
      "text/html": [
       "<div>\n",
       "<style scoped>\n",
       "    .dataframe tbody tr th:only-of-type {\n",
       "        vertical-align: middle;\n",
       "    }\n",
       "\n",
       "    .dataframe tbody tr th {\n",
       "        vertical-align: top;\n",
       "    }\n",
       "\n",
       "    .dataframe thead th {\n",
       "        text-align: right;\n",
       "    }\n",
       "</style>\n",
       "<table border=\"1\" class=\"dataframe\">\n",
       "  <thead>\n",
       "    <tr style=\"text-align: right;\">\n",
       "      <th></th>\n",
       "      <th>consumerid</th>\n",
       "      <th>gender</th>\n",
       "      <th>income</th>\n",
       "    </tr>\n",
       "  </thead>\n",
       "  <tbody>\n",
       "    <tr>\n",
       "      <th>0</th>\n",
       "      <td>1</td>\n",
       "      <td>1</td>\n",
       "      <td>46.699997</td>\n",
       "    </tr>\n",
       "    <tr>\n",
       "      <th>1</th>\n",
       "      <td>2</td>\n",
       "      <td>1</td>\n",
       "      <td>26.100000</td>\n",
       "    </tr>\n",
       "    <tr>\n",
       "      <th>2</th>\n",
       "      <td>3</td>\n",
       "      <td>1</td>\n",
       "      <td>32.700001</td>\n",
       "    </tr>\n",
       "    <tr>\n",
       "      <th>3</th>\n",
       "      <td>4</td>\n",
       "      <td>0</td>\n",
       "      <td>49.199997</td>\n",
       "    </tr>\n",
       "    <tr>\n",
       "      <th>4</th>\n",
       "      <td>5</td>\n",
       "      <td>1</td>\n",
       "      <td>24.299999</td>\n",
       "    </tr>\n",
       "    <tr>\n",
       "      <th>...</th>\n",
       "      <td>...</td>\n",
       "      <td>...</td>\n",
       "      <td>...</td>\n",
       "    </tr>\n",
       "    <tr>\n",
       "      <th>880</th>\n",
       "      <td>881</td>\n",
       "      <td>1</td>\n",
       "      <td>45.700001</td>\n",
       "    </tr>\n",
       "    <tr>\n",
       "      <th>881</th>\n",
       "      <td>882</td>\n",
       "      <td>1</td>\n",
       "      <td>69.800003</td>\n",
       "    </tr>\n",
       "    <tr>\n",
       "      <th>882</th>\n",
       "      <td>883</td>\n",
       "      <td>0</td>\n",
       "      <td>45.599998</td>\n",
       "    </tr>\n",
       "    <tr>\n",
       "      <th>883</th>\n",
       "      <td>884</td>\n",
       "      <td>1</td>\n",
       "      <td>20.900000</td>\n",
       "    </tr>\n",
       "    <tr>\n",
       "      <th>884</th>\n",
       "      <td>885</td>\n",
       "      <td>1</td>\n",
       "      <td>30.600000</td>\n",
       "    </tr>\n",
       "  </tbody>\n",
       "</table>\n",
       "<p>885 rows × 3 columns</p>\n",
       "</div>"
      ],
      "text/plain": [
       "     consumerid  gender     income\n",
       "0             1       1  46.699997\n",
       "1             2       1  26.100000\n",
       "2             3       1  32.700001\n",
       "3             4       0  49.199997\n",
       "4             5       1  24.299999\n",
       "..          ...     ...        ...\n",
       "880         881       1  45.700001\n",
       "881         882       1  69.800003\n",
       "882         883       0  45.599998\n",
       "883         884       1  20.900000\n",
       "884         885       1  30.600000\n",
       "\n",
       "[885 rows x 3 columns]"
      ]
     },
     "execution_count": 17,
     "metadata": {},
     "output_type": "execute_result"
    }
   ],
   "source": [
    "gender_and_income = df.groupby('consumerid')[['gender', 'income']].first().reset_index()\n",
    "gender_and_income"
   ]
  },
  {
   "cell_type": "markdown",
   "metadata": {},
   "source": [
    "The price observable data-frame contains two columns identifying session (i.e., the `consumerid` column) and item (i.e., the `car` column). The session index column should have exactly the same name as the session index column in `df` and the column indexing columns should have exactly the same name as the item-name-column in `df`."
   ]
  },
  {
   "cell_type": "code",
   "execution_count": 18,
   "metadata": {},
   "outputs": [],
   "source": [
    "dealers = df[['consumerid', 'car', 'dealers']]"
   ]
  },
  {
   "cell_type": "code",
   "execution_count": 19,
   "metadata": {},
   "outputs": [
    {
     "data": {
      "text/html": [
       "<div>\n",
       "<style scoped>\n",
       "    .dataframe tbody tr th:only-of-type {\n",
       "        vertical-align: middle;\n",
       "    }\n",
       "\n",
       "    .dataframe tbody tr th {\n",
       "        vertical-align: top;\n",
       "    }\n",
       "\n",
       "    .dataframe thead th {\n",
       "        text-align: right;\n",
       "    }\n",
       "</style>\n",
       "<table border=\"1\" class=\"dataframe\">\n",
       "  <thead>\n",
       "    <tr style=\"text-align: right;\">\n",
       "      <th></th>\n",
       "      <th>consumerid</th>\n",
       "      <th>car</th>\n",
       "      <th>dealers</th>\n",
       "    </tr>\n",
       "  </thead>\n",
       "  <tbody>\n",
       "    <tr>\n",
       "      <th>0</th>\n",
       "      <td>1</td>\n",
       "      <td>American</td>\n",
       "      <td>9</td>\n",
       "    </tr>\n",
       "    <tr>\n",
       "      <th>1</th>\n",
       "      <td>1</td>\n",
       "      <td>Japanese</td>\n",
       "      <td>11</td>\n",
       "    </tr>\n",
       "    <tr>\n",
       "      <th>2</th>\n",
       "      <td>1</td>\n",
       "      <td>European</td>\n",
       "      <td>5</td>\n",
       "    </tr>\n",
       "    <tr>\n",
       "      <th>3</th>\n",
       "      <td>1</td>\n",
       "      <td>Korean</td>\n",
       "      <td>1</td>\n",
       "    </tr>\n",
       "    <tr>\n",
       "      <th>4</th>\n",
       "      <td>2</td>\n",
       "      <td>American</td>\n",
       "      <td>10</td>\n",
       "    </tr>\n",
       "  </tbody>\n",
       "</table>\n",
       "</div>"
      ],
      "text/plain": [
       "   consumerid       car  dealers\n",
       "0           1  American        9\n",
       "1           1  Japanese       11\n",
       "2           1  European        5\n",
       "3           1    Korean        1\n",
       "4           2  American       10"
      ]
     },
     "execution_count": 19,
     "metadata": {},
     "output_type": "execute_result"
    }
   ],
   "source": [
    "dealers.head()"
   ]
  },
  {
   "cell_type": "markdown",
   "metadata": {},
   "source": [
    "## Build Datasets using `EasyDatasetWrapper` with Observables as Data-Frames\n",
    "We can observables as data-frames using `{user, item, session, price}_observable_data` keyword arguments. "
   ]
  },
  {
   "cell_type": "code",
   "execution_count": 20,
   "metadata": {},
   "outputs": [
    {
     "name": "stdout",
     "output_type": "stream",
     "text": [
      "Creating choice dataset from stata format data-frames...\n",
      "Note: choice sets of different sizes found in different purchase records: {'size 4': 'occurrence 505', 'size 3': 'occurrence 380'}\n",
      "Finished Creating Choice Dataset.\n"
     ]
    }
   ],
   "source": [
    "data_2 = EasyDatasetWrapper(main_data=df,\n",
    "                            purchase_record_column='consumerid',\n",
    "                            choice_column='purchase',\n",
    "                            item_name_column='car',\n",
    "                            user_index_column='consumerid',\n",
    "                            session_index_column='consumerid',\n",
    "                            # above are the same as before, but we update the following.\n",
    "                            user_observable_data={'gender': gender, 'income': income},\n",
    "                            price_observable_data={'dealers': dealers},\n",
    "                            device=device)"
   ]
  },
  {
   "cell_type": "code",
   "execution_count": 21,
   "metadata": {},
   "outputs": [
    {
     "name": "stdout",
     "output_type": "stream",
     "text": [
      "* purchase record index range: [1 2 3] ... [883 884 885]\n",
      "* Space of 4 items:\n",
      "                   0         1         2       3\n",
      "item name  American  European  Japanese  Korean\n",
      "* Number of purchase records/cases: 885.\n",
      "* Preview of main data frame:\n",
      "      consumerid       car  purchase  gender     income  dealers\n",
      "0              1  American         1       1  46.699997        9\n",
      "1              1  Japanese         0       1  46.699997       11\n",
      "2              1  European         0       1  46.699997        5\n",
      "3              1    Korean         0       1  46.699997        1\n",
      "4              2  American         1       1  26.100000       10\n",
      "...          ...       ...       ...     ...        ...      ...\n",
      "3155         884  Japanese         1       1  20.900000       10\n",
      "3156         884  European         0       1  20.900000        4\n",
      "3157         885  American         1       1  30.600000       10\n",
      "3158         885  Japanese         0       1  30.600000        5\n",
      "3159         885  European         0       1  30.600000        4\n",
      "\n",
      "[3160 rows x 6 columns]\n",
      "* Preview of ChoiceDataset:\n",
      "ChoiceDataset(label=[], item_index=[885], user_index=[885], session_index=[885], item_availability=[885, 4], user_gender=[885, 1], user_income=[885, 1], price_dealers=[885, 4, 1], device=cuda:0)\n"
     ]
    }
   ],
   "source": [
    "# Use summary to see what's inside the data wrapper.\n",
    "data_2.summary()"
   ]
  },
  {
   "cell_type": "markdown",
   "metadata": {},
   "source": [
    "Alternatively, we can supply user income and gender as a single dataframe, instead of `user_gender` and `user_income` tensors, now the constructed `ChoiceDataset` contains a single `user_gender_and_income` tensor with shape (885, 2) encompassing both income and gender of users."
   ]
  },
  {
   "cell_type": "code",
   "execution_count": 22,
   "metadata": {},
   "outputs": [
    {
     "name": "stdout",
     "output_type": "stream",
     "text": [
      "Creating choice dataset from stata format data-frames...\n",
      "Note: choice sets of different sizes found in different purchase records: {'size 4': 'occurrence 505', 'size 3': 'occurrence 380'}\n",
      "Finished Creating Choice Dataset.\n"
     ]
    }
   ],
   "source": [
    "data_3 = EasyDatasetWrapper(main_data=df,\n",
    "                            purchase_record_column='consumerid',\n",
    "                            choice_column='purchase',\n",
    "                            item_name_column='car',\n",
    "                            user_index_column='consumerid',\n",
    "                            session_index_column='consumerid',\n",
    "                            # above are the same as before, but we update the following.\n",
    "                            user_observable_data={'gender_and_income': gender_and_income},\n",
    "                            price_observable_data={'dealers': dealers},\n",
    "                            device=device)"
   ]
  },
  {
   "cell_type": "code",
   "execution_count": 23,
   "metadata": {},
   "outputs": [
    {
     "name": "stdout",
     "output_type": "stream",
     "text": [
      "* purchase record index range: [1 2 3] ... [883 884 885]\n",
      "* Space of 4 items:\n",
      "                   0         1         2       3\n",
      "item name  American  European  Japanese  Korean\n",
      "* Number of purchase records/cases: 885.\n",
      "* Preview of main data frame:\n",
      "      consumerid       car  purchase  gender     income  dealers\n",
      "0              1  American         1       1  46.699997        9\n",
      "1              1  Japanese         0       1  46.699997       11\n",
      "2              1  European         0       1  46.699997        5\n",
      "3              1    Korean         0       1  46.699997        1\n",
      "4              2  American         1       1  26.100000       10\n",
      "...          ...       ...       ...     ...        ...      ...\n",
      "3155         884  Japanese         1       1  20.900000       10\n",
      "3156         884  European         0       1  20.900000        4\n",
      "3157         885  American         1       1  30.600000       10\n",
      "3158         885  Japanese         0       1  30.600000        5\n",
      "3159         885  European         0       1  30.600000        4\n",
      "\n",
      "[3160 rows x 6 columns]\n",
      "* Preview of ChoiceDataset:\n",
      "ChoiceDataset(label=[], item_index=[885], user_index=[885], session_index=[885], item_availability=[885, 4], user_gender_and_income=[885, 2], price_dealers=[885, 4, 1], device=cuda:0)\n"
     ]
    }
   ],
   "source": [
    "data_3.summary()"
   ]
  },
  {
   "cell_type": "markdown",
   "metadata": {},
   "source": [
    "## Method 3: Mixing Method 1 and Method 2\n",
    "The `EasyDataWrapper` also support supplying observables as a mixture of above methods. The following example supplies `gender` user observable as a data-frame but `income` and `dealers` as column names. "
   ]
  },
  {
   "cell_type": "code",
   "execution_count": 24,
   "metadata": {},
   "outputs": [
    {
     "name": "stdout",
     "output_type": "stream",
     "text": [
      "Creating choice dataset from stata format data-frames...\n",
      "Note: choice sets of different sizes found in different purchase records: {'size 4': 'occurrence 505', 'size 3': 'occurrence 380'}\n",
      "Finished Creating Choice Dataset.\n"
     ]
    }
   ],
   "source": [
    "data_4 = EasyDatasetWrapper(main_data=df,\n",
    "                            purchase_record_column='consumerid',\n",
    "                            choice_column='purchase',\n",
    "                            item_name_column='car',\n",
    "                            user_index_column='consumerid',\n",
    "                            session_index_column='consumerid',\n",
    "                            # above are the same as before, but we update the following.\n",
    "                            user_observable_data={'gender': gender},\n",
    "                            user_observable_columns=['income'],\n",
    "                            price_observable_columns=['dealers'],\n",
    "                            device=device)"
   ]
  },
  {
   "cell_type": "code",
   "execution_count": 25,
   "metadata": {},
   "outputs": [
    {
     "name": "stdout",
     "output_type": "stream",
     "text": [
      "* purchase record index range: [1 2 3] ... [883 884 885]\n",
      "* Space of 4 items:\n",
      "                   0         1         2       3\n",
      "item name  American  European  Japanese  Korean\n",
      "* Number of purchase records/cases: 885.\n",
      "* Preview of main data frame:\n",
      "      consumerid       car  purchase  gender     income  dealers\n",
      "0              1  American         1       1  46.699997        9\n",
      "1              1  Japanese         0       1  46.699997       11\n",
      "2              1  European         0       1  46.699997        5\n",
      "3              1    Korean         0       1  46.699997        1\n",
      "4              2  American         1       1  26.100000       10\n",
      "...          ...       ...       ...     ...        ...      ...\n",
      "3155         884  Japanese         1       1  20.900000       10\n",
      "3156         884  European         0       1  20.900000        4\n",
      "3157         885  American         1       1  30.600000       10\n",
      "3158         885  Japanese         0       1  30.600000        5\n",
      "3159         885  European         0       1  30.600000        4\n",
      "\n",
      "[3160 rows x 6 columns]\n",
      "* Preview of ChoiceDataset:\n",
      "ChoiceDataset(label=[], item_index=[885], user_index=[885], session_index=[885], item_availability=[885, 4], user_gender=[885, 1], user_income=[885, 1], price_dealers=[885, 4, 1], device=cuda:0)\n"
     ]
    }
   ],
   "source": [
    "data_4.summary()"
   ]
  },
  {
   "cell_type": "markdown",
   "metadata": {},
   "source": [
    "# Sanity Checks\n",
    "Lastly, let's check choice datasets constructed via different methods are actually the same.\n",
    "\n",
    "The `==` method of choice datasets will compare the non-NAN entries of all tensors in datasets. "
   ]
  },
  {
   "cell_type": "code",
   "execution_count": 26,
   "metadata": {},
   "outputs": [
    {
     "name": "stdout",
     "output_type": "stream",
     "text": [
      "True\n",
      "True\n"
     ]
    }
   ],
   "source": [
    "print(data_1.choice_dataset == data_2.choice_dataset)\n",
    "print(data_1.choice_dataset == data_4.choice_dataset)"
   ]
  },
  {
   "cell_type": "markdown",
   "metadata": {},
   "source": [
    "For `data_3`, we have `income` and `gender` combined:"
   ]
  },
  {
   "cell_type": "code",
   "execution_count": 27,
   "metadata": {},
   "outputs": [
    {
     "data": {
      "text/plain": [
       "tensor([[True, True],\n",
       "        [True, True],\n",
       "        [True, True],\n",
       "        ...,\n",
       "        [True, True],\n",
       "        [True, True],\n",
       "        [True, True]], device='cuda:0')"
      ]
     },
     "execution_count": 27,
     "metadata": {},
     "output_type": "execute_result"
    }
   ],
   "source": [
    "data_3.choice_dataset.user_gender_and_income == torch.cat([data_1.choice_dataset.user_gender, data_1.choice_dataset.user_income], dim=1)"
   ]
  },
  {
   "cell_type": "markdown",
   "metadata": {},
   "source": [
    "Now let's compare what's inside the data structure and our raw data."
   ]
  },
  {
   "cell_type": "code",
   "execution_count": 28,
   "metadata": {},
   "outputs": [],
   "source": [
    "bought_raw = df[df['purchase'] == 1]['car'].values\n",
    "bought_data = list()\n",
    "encoder = {0: 'American', 1: 'European', 2: 'Japanese', 3: 'Korean'}\n",
    "for b in data_1.choice_dataset.item_index:\n",
    "    bought_data.append(encoder[float(b)])"
   ]
  },
  {
   "cell_type": "code",
   "execution_count": 29,
   "metadata": {},
   "outputs": [
    {
     "data": {
      "text/plain": [
       "True"
      ]
     },
     "execution_count": 29,
     "metadata": {},
     "output_type": "execute_result"
    }
   ],
   "source": [
    "all(bought_raw == bought_data)"
   ]
  },
  {
   "cell_type": "markdown",
   "metadata": {},
   "source": [
    "Then, let's compare the income and gender variable contained in the dataset. "
   ]
  },
  {
   "cell_type": "code",
   "execution_count": 30,
   "metadata": {},
   "outputs": [
    {
     "data": {
      "text/plain": [
       "True"
      ]
     },
     "execution_count": 30,
     "metadata": {},
     "output_type": "execute_result"
    }
   ],
   "source": [
    "X = df.groupby('consumerid')['income'].first().values\n",
    "Y = data_1.choice_dataset.user_income.cpu().numpy().squeeze()\n",
    "all(X == Y)"
   ]
  },
  {
   "cell_type": "code",
   "execution_count": 31,
   "metadata": {},
   "outputs": [],
   "source": [
    "X = df.groupby('consumerid')['gender'].first().values"
   ]
  },
  {
   "cell_type": "code",
   "execution_count": 32,
   "metadata": {},
   "outputs": [
    {
     "data": {
      "text/plain": [
       "True"
      ]
     },
     "execution_count": 32,
     "metadata": {},
     "output_type": "execute_result"
    }
   ],
   "source": [
    "Y = data_1.choice_dataset.user_gender.cpu().numpy().squeeze()\n",
    "all(X == Y)"
   ]
  },
  {
   "cell_type": "markdown",
   "metadata": {},
   "source": [
    "Lastly, let's compare the `price_dealer` variable. Since there are NAN-values in it for unavailable cars, we can't not use `all(X == Y)` to compare them. We will first fill NANs values with `-1` and then compare resulted data-frames."
   ]
  },
  {
   "cell_type": "code",
   "execution_count": 33,
   "metadata": {},
   "outputs": [],
   "source": [
    "# rearrange columns to align it with the internal encoding scheme of the data wrapper.\n",
    "X = df.pivot('consumerid', 'car', 'dealers')[['American', 'European', 'Japanese', 'Korean']]"
   ]
  },
  {
   "cell_type": "code",
   "execution_count": 34,
   "metadata": {},
   "outputs": [
    {
     "data": {
      "text/html": [
       "<div>\n",
       "<style scoped>\n",
       "    .dataframe tbody tr th:only-of-type {\n",
       "        vertical-align: middle;\n",
       "    }\n",
       "\n",
       "    .dataframe tbody tr th {\n",
       "        vertical-align: top;\n",
       "    }\n",
       "\n",
       "    .dataframe thead th {\n",
       "        text-align: right;\n",
       "    }\n",
       "</style>\n",
       "<table border=\"1\" class=\"dataframe\">\n",
       "  <thead>\n",
       "    <tr style=\"text-align: right;\">\n",
       "      <th>car</th>\n",
       "      <th>American</th>\n",
       "      <th>European</th>\n",
       "      <th>Japanese</th>\n",
       "      <th>Korean</th>\n",
       "    </tr>\n",
       "    <tr>\n",
       "      <th>consumerid</th>\n",
       "      <th></th>\n",
       "      <th></th>\n",
       "      <th></th>\n",
       "      <th></th>\n",
       "    </tr>\n",
       "  </thead>\n",
       "  <tbody>\n",
       "    <tr>\n",
       "      <th>1</th>\n",
       "      <td>9.0</td>\n",
       "      <td>5.0</td>\n",
       "      <td>11.0</td>\n",
       "      <td>1.0</td>\n",
       "    </tr>\n",
       "    <tr>\n",
       "      <th>2</th>\n",
       "      <td>10.0</td>\n",
       "      <td>2.0</td>\n",
       "      <td>7.0</td>\n",
       "      <td>1.0</td>\n",
       "    </tr>\n",
       "    <tr>\n",
       "      <th>3</th>\n",
       "      <td>8.0</td>\n",
       "      <td>2.0</td>\n",
       "      <td>6.0</td>\n",
       "      <td>NaN</td>\n",
       "    </tr>\n",
       "    <tr>\n",
       "      <th>4</th>\n",
       "      <td>5.0</td>\n",
       "      <td>3.0</td>\n",
       "      <td>4.0</td>\n",
       "      <td>NaN</td>\n",
       "    </tr>\n",
       "    <tr>\n",
       "      <th>5</th>\n",
       "      <td>8.0</td>\n",
       "      <td>3.0</td>\n",
       "      <td>3.0</td>\n",
       "      <td>NaN</td>\n",
       "    </tr>\n",
       "    <tr>\n",
       "      <th>...</th>\n",
       "      <td>...</td>\n",
       "      <td>...</td>\n",
       "      <td>...</td>\n",
       "      <td>...</td>\n",
       "    </tr>\n",
       "    <tr>\n",
       "      <th>881</th>\n",
       "      <td>8.0</td>\n",
       "      <td>2.0</td>\n",
       "      <td>10.0</td>\n",
       "      <td>NaN</td>\n",
       "    </tr>\n",
       "    <tr>\n",
       "      <th>882</th>\n",
       "      <td>8.0</td>\n",
       "      <td>6.0</td>\n",
       "      <td>8.0</td>\n",
       "      <td>1.0</td>\n",
       "    </tr>\n",
       "    <tr>\n",
       "      <th>883</th>\n",
       "      <td>9.0</td>\n",
       "      <td>5.0</td>\n",
       "      <td>8.0</td>\n",
       "      <td>1.0</td>\n",
       "    </tr>\n",
       "    <tr>\n",
       "      <th>884</th>\n",
       "      <td>12.0</td>\n",
       "      <td>4.0</td>\n",
       "      <td>10.0</td>\n",
       "      <td>NaN</td>\n",
       "    </tr>\n",
       "    <tr>\n",
       "      <th>885</th>\n",
       "      <td>10.0</td>\n",
       "      <td>4.0</td>\n",
       "      <td>5.0</td>\n",
       "      <td>NaN</td>\n",
       "    </tr>\n",
       "  </tbody>\n",
       "</table>\n",
       "<p>885 rows × 4 columns</p>\n",
       "</div>"
      ],
      "text/plain": [
       "car         American  European  Japanese  Korean\n",
       "consumerid                                      \n",
       "1                9.0       5.0      11.0     1.0\n",
       "2               10.0       2.0       7.0     1.0\n",
       "3                8.0       2.0       6.0     NaN\n",
       "4                5.0       3.0       4.0     NaN\n",
       "5                8.0       3.0       3.0     NaN\n",
       "...              ...       ...       ...     ...\n",
       "881              8.0       2.0      10.0     NaN\n",
       "882              8.0       6.0       8.0     1.0\n",
       "883              9.0       5.0       8.0     1.0\n",
       "884             12.0       4.0      10.0     NaN\n",
       "885             10.0       4.0       5.0     NaN\n",
       "\n",
       "[885 rows x 4 columns]"
      ]
     },
     "execution_count": 34,
     "metadata": {},
     "output_type": "execute_result"
    }
   ],
   "source": [
    "X"
   ]
  },
  {
   "cell_type": "code",
   "execution_count": 35,
   "metadata": {},
   "outputs": [],
   "source": [
    "Y = data_1.choice_dataset.price_dealers.squeeze(dim=-1)"
   ]
  },
  {
   "cell_type": "code",
   "execution_count": 36,
   "metadata": {},
   "outputs": [
    {
     "data": {
      "text/plain": [
       "tensor([[ 9.,  5., 11.,  1.],\n",
       "        [10.,  2.,  7.,  1.],\n",
       "        [ 8.,  2.,  6., nan],\n",
       "        ...,\n",
       "        [ 9.,  5.,  8.,  1.],\n",
       "        [12.,  4., 10., nan],\n",
       "        [10.,  4.,  5., nan]], device='cuda:0')"
      ]
     },
     "execution_count": 36,
     "metadata": {},
     "output_type": "execute_result"
    }
   ],
   "source": [
    "Y"
   ]
  },
  {
   "cell_type": "code",
   "execution_count": 37,
   "metadata": {},
   "outputs": [
    {
     "name": "stdout",
     "output_type": "stream",
     "text": [
      "[[ True  True  True  True]\n",
      " [ True  True  True  True]\n",
      " [ True  True  True  True]\n",
      " ...\n",
      " [ True  True  True  True]\n",
      " [ True  True  True  True]\n",
      " [ True  True  True  True]]\n"
     ]
    }
   ],
   "source": [
    "print(X.fillna(-1).values == torch.nan_to_num(Y, -1).cpu().numpy())"
   ]
  },
  {
   "cell_type": "markdown",
   "metadata": {},
   "source": [
    "This concludes our tutorial on building the dataset, if you wish more in-depth understanding of the data structure, please refer to the *Data Management Tutorial*."
   ]
  },
  {
   "cell_type": "markdown",
   "metadata": {},
   "source": []
  }
 ],
 "metadata": {
  "interpreter": {
   "hash": "07dd84f3285103b45d36665747e055dbb0ef78c9d17293fd1b33b99205a40b05"
  },
  "kernelspec": {
   "display_name": "Python 3.8.10 ('ml')",
   "language": "python",
   "name": "python3"
  },
  "language_info": {
   "codemirror_mode": {
    "name": "ipython",
    "version": 3
   },
   "file_extension": ".py",
   "mimetype": "text/x-python",
   "name": "python",
   "nbconvert_exporter": "python",
   "pygments_lexer": "ipython3",
   "version": "3.8.10"
  },
  "orig_nbformat": 4
 },
 "nbformat": 4,
 "nbformat_minor": 2
}
