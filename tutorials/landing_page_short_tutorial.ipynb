{
 "cells": [
  {
   "cell_type": "markdown",
   "metadata": {},
   "source": [
    "# Introduction\n",
    "Welcome to the deep choice documentation site, we will guide you through basics of our package and how to use it.\n",
    "\n",
    "Author: Tianyu Du\n",
    "\n",
    "Date: Jun. 22, 2022\n",
    "\n",
    "Update: Jul. 10, 2022"
   ]
  },
  {
   "cell_type": "code",
   "execution_count": 1,
   "metadata": {},
   "outputs": [],
   "source": [
    "__author__ = 'Tianyu Du'"
   ]
  },
  {
   "cell_type": "markdown",
   "metadata": {},
   "source": [
    "In this demonstration, we will guide you through a minimal example of fitting a conditional logit model using our package. We will be referencing to R code and Stata code as well to deliver a smooth knowledge transfer."
   ]
  },
  {
   "cell_type": "markdown",
   "metadata": {},
   "source": [
    "First thing first, let's import a couple of modules from our package."
   ]
  },
  {
   "cell_type": "markdown",
   "metadata": {},
   "source": [
    "# Step 0: Import Modules"
   ]
  },
  {
   "cell_type": "markdown",
   "metadata": {},
   "source": [
    "## Python"
   ]
  },
  {
   "cell_type": "code",
   "execution_count": 2,
   "metadata": {},
   "outputs": [],
   "source": [
    "import pandas as pd\n",
    "from torch_choice.utils import EasyDatasetWrapper, run_helper\n",
    "from torch_choice.model import ConditionalLogitModel"
   ]
  },
  {
   "cell_type": "markdown",
   "metadata": {},
   "source": [
    "## R\n",
    "```{r}\n",
    "library(\"mlogit\")\n",
    "```"
   ]
  },
  {
   "cell_type": "markdown",
   "metadata": {},
   "source": [
    "# Step 1: Load Data\n",
    "We have include a copy of the `ModeCanada` dataset in our package: `./public_datasets/ModeCanada.csv`, it's a very small dataset and please feel free to investigate it using softwares like Microsoft Excel."
   ]
  },
  {
   "cell_type": "markdown",
   "metadata": {},
   "source": [
    "Let's load the mode canada dataset (TODO: add reference to it)."
   ]
  },
  {
   "cell_type": "markdown",
   "metadata": {},
   "source": [
    "## Python"
   ]
  },
  {
   "cell_type": "code",
   "execution_count": 3,
   "metadata": {},
   "outputs": [],
   "source": [
    "df = pd.read_csv('./public_datasets/ModeCanada.csv').query('noalt == 4').reset_index(drop=True)"
   ]
  },
  {
   "cell_type": "markdown",
   "metadata": {},
   "source": [
    "## R\n",
    "```{r}\n",
    "ModeCanada <- read.csv('./public_datasets/ModeCanada.csv')\n",
    "ModeCanada <- select(ModeCanada, -X)\n",
    "ModeCanada$alt <- as.factor(ModeCanada$alt)\n",
    "```"
   ]
  },
  {
   "cell_type": "markdown",
   "metadata": {},
   "source": [
    "# Step 2: Format Data-Frame\n",
    "TODO: add why we need to do it (every package is doing it).\n",
    "## Python\n",
    "Tell the `EasyDatasetWrapper` about observables\n",
    "\n",
    "1. price observable: cost, freq, ovt, ivt\n",
    "2. session observables: income."
   ]
  },
  {
   "cell_type": "code",
   "execution_count": 4,
   "metadata": {},
   "outputs": [
    {
     "name": "stdout",
     "output_type": "stream",
     "text": [
      "Creating choice dataset from stata format data-frames...\n",
      "Finished Creating Choice Dataset.\n"
     ]
    }
   ],
   "source": [
    "data = EasyDatasetWrapper(\n",
    "    main_data=df,\n",
    "    purchase_record_column='case',\n",
    "    choice_column='choice',\n",
    "    item_name_column='alt',\n",
    "    user_index_column='case',\n",
    "    session_index_column='case',\n",
    "    session_observable_columns=['income'],\n",
    "    price_observable_columns=['cost', 'freq', 'ovt', 'ivt']\n",
    ")\n"
   ]
  },
  {
   "cell_type": "markdown",
   "metadata": {},
   "source": [
    "## R\n",
    "```{r}\n",
    "MC <- dfidx(ModeCanada, subset = noalt == 4)\n",
    "```"
   ]
  },
  {
   "cell_type": "markdown",
   "metadata": {},
   "source": [
    "# Step 3: Define and Fit the Conditional Logit Model\n",
    "## Python"
   ]
  },
  {
   "cell_type": "code",
   "execution_count": 15,
   "metadata": {},
   "outputs": [],
   "source": [
    "model = ConditionalLogitModel(\n",
    "    coef_variation_dict={\n",
    "        'itemsession_cost': 'constant',\n",
    "        'itemsession_freq': 'constant',\n",
    "        'itemsession_ovt': 'constant',\n",
    "        'session_income': 'item',\n",
    "        'itemsession_ivt': 'item-full',\n",
    "        'intercept': 'item'\n",
    "    },\n",
    "    num_items=4\n",
    ")"
   ]
  },
  {
   "cell_type": "code",
   "execution_count": 16,
   "metadata": {},
   "outputs": [
    {
     "name": "stdout",
     "output_type": "stream",
     "text": [
      "==================== received model ====================\n",
      "ConditionalLogitModel(\n",
      "  (coef_dict): ModuleDict(\n",
      "    (itemsession_cost): Coefficient(variation=constant, num_items=4, num_users=None, num_params=1, 1 trainable parameters in total, device=cpu).\n",
      "    (itemsession_freq): Coefficient(variation=constant, num_items=4, num_users=None, num_params=1, 1 trainable parameters in total, device=cpu).\n",
      "    (itemsession_ovt): Coefficient(variation=constant, num_items=4, num_users=None, num_params=1, 1 trainable parameters in total, device=cpu).\n",
      "    (session_income): Coefficient(variation=item, num_items=4, num_users=None, num_params=1, 3 trainable parameters in total, device=cpu).\n",
      "    (itemsession_ivt): Coefficient(variation=item-full, num_items=4, num_users=None, num_params=1, 4 trainable parameters in total, device=cpu).\n",
      "    (intercept): Coefficient(variation=item, num_items=4, num_users=None, num_params=1, 3 trainable parameters in total, device=cpu).\n",
      "  )\n",
      ")\n",
      "Conditional logistic discrete choice model, expects input features:\n",
      "\n",
      "X[itemsession_cost] with 1 parameters, with constant level variation.\n",
      "X[itemsession_freq] with 1 parameters, with constant level variation.\n",
      "X[itemsession_ovt] with 1 parameters, with constant level variation.\n",
      "X[session_income] with 1 parameters, with item level variation.\n",
      "X[itemsession_ivt] with 1 parameters, with item-full level variation.\n",
      "X[intercept] with 1 parameters, with item level variation.\n",
      "device=cpu\n",
      "==================== received dataset ====================\n",
      "ChoiceDataset(label=[], item_index=[2779], provided_num_items=[], user_index=[2779], session_index=[2779], item_availability=[], session_income=[2779, 1], itemsession_cost=[2779, 4, 1], itemsession_freq=[2779, 4, 1], itemsession_ovt=[2779, 4, 1], itemsession_ivt=[2779, 4, 1], device=cpu)\n",
      "==================== training the model ====================\n",
      "Epoch 500: Log-likelihood=-1980.04736328125\n",
      "Epoch 1000: Log-likelihood=-1883.31298828125\n",
      "Epoch 1500: Log-likelihood=-1878.42333984375\n",
      "Epoch 2000: Log-likelihood=-1878.1141357421875\n",
      "Epoch 2500: Log-likelihood=-1879.6005859375\n",
      "Epoch 3000: Log-likelihood=-1881.0731201171875\n",
      "Epoch 3500: Log-likelihood=-1876.06494140625\n",
      "Epoch 4000: Log-likelihood=-1877.595703125\n",
      "Epoch 4500: Log-likelihood=-1875.7891845703125\n",
      "Epoch 5000: Log-likelihood=-1880.450439453125\n",
      "==================== model results ====================\n",
      "Training Epochs: 5000\n",
      "\n",
      "Learning Rate: 0.01\n",
      "\n",
      "Batch Size: 2779 out of 2779 observations in total\n",
      "\n",
      "Final Log-likelihood: -1880.450439453125\n",
      "\n",
      "Coefficients:\n",
      "\n",
      "| Coefficient        |   Estimation |   Std. Err. |\n",
      "|:-------------------|-------------:|------------:|\n",
      "| itemsession_cost_0 | -0.0395517   |  0.00698674 |\n",
      "| itemsession_freq_0 |  0.094687    |  0.00504918 |\n",
      "| itemsession_ovt_0  | -0.0427526   |  0.00314028 |\n",
      "| session_income_0   | -0.0867186   |  0.0174223  |\n",
      "| session_income_1   | -0.0268471   |  0.00385441 |\n",
      "| session_income_2   | -0.0359928   |  0.00396057 |\n",
      "| itemsession_ivt_0  |  0.0597122   |  0.0100132  |\n",
      "| itemsession_ivt_1  | -0.00648056  |  0.00417645 |\n",
      "| itemsession_ivt_2  | -0.00567451  |  0.00187769 |\n",
      "| itemsession_ivt_3  | -0.000954159 |  0.00116984 |\n",
      "| intercept_0        | -0.202089    |  1.22288    |\n",
      "| intercept_1        |  0.95435     |  0.691519   |\n",
      "| intercept_2        |  2.51871     |  0.60307    |\n"
     ]
    },
    {
     "data": {
      "text/plain": [
       "ConditionalLogitModel(\n",
       "  (coef_dict): ModuleDict(\n",
       "    (itemsession_cost): Coefficient(variation=constant, num_items=4, num_users=None, num_params=1, 1 trainable parameters in total, device=cpu).\n",
       "    (itemsession_freq): Coefficient(variation=constant, num_items=4, num_users=None, num_params=1, 1 trainable parameters in total, device=cpu).\n",
       "    (itemsession_ovt): Coefficient(variation=constant, num_items=4, num_users=None, num_params=1, 1 trainable parameters in total, device=cpu).\n",
       "    (session_income): Coefficient(variation=item, num_items=4, num_users=None, num_params=1, 3 trainable parameters in total, device=cpu).\n",
       "    (itemsession_ivt): Coefficient(variation=item-full, num_items=4, num_users=None, num_params=1, 4 trainable parameters in total, device=cpu).\n",
       "    (intercept): Coefficient(variation=item, num_items=4, num_users=None, num_params=1, 3 trainable parameters in total, device=cpu).\n",
       "  )\n",
       ")\n",
       "Conditional logistic discrete choice model, expects input features:\n",
       "\n",
       "X[itemsession_cost] with 1 parameters, with constant level variation.\n",
       "X[itemsession_freq] with 1 parameters, with constant level variation.\n",
       "X[itemsession_ovt] with 1 parameters, with constant level variation.\n",
       "X[session_income] with 1 parameters, with item level variation.\n",
       "X[itemsession_ivt] with 1 parameters, with item-full level variation.\n",
       "X[intercept] with 1 parameters, with item level variation.\n",
       "device=cpu"
      ]
     },
     "execution_count": 16,
     "metadata": {},
     "output_type": "execute_result"
    }
   ],
   "source": [
    "run_helper.run(model, data.choice_dataset, num_epochs=5000, learning_rate=0.01, batch_size=-1)"
   ]
  },
  {
   "cell_type": "markdown",
   "metadata": {},
   "source": [
    "## R\n",
    "```{r}\n",
    "ml.MC1 <- mlogit(choice ~ cost + freq + ovt | income | ivt, MC, reflevel='air')\n",
    "summary(ml.MC1)\n",
    "```\n",
    "\n",
    "R output:\n",
    "```\n",
    "Call:\n",
    "mlogit(formula = choice ~ cost + freq + ovt | income | ivt, data = MC, \n",
    "    reflevel = \"air\", method = \"nr\")\n",
    "\n",
    "Frequencies of alternatives:choice\n",
    "      air       bus       car     train \n",
    "0.3738755 0.0035984 0.4559194 0.1666067 \n",
    "\n",
    "nr method\n",
    "9 iterations, 0h:0m:0s \n",
    "g'(-H)^-1g = 0.00014 \n",
    "successive function values within tolerance limits \n",
    "\n",
    "Coefficients :\n",
    "                    Estimate Std. Error  z-value  Pr(>|z|)    \n",
    "(Intercept):bus    0.6983381  1.2802466   0.5455 0.5854292    \n",
    "(Intercept):car    1.8441129  0.7085089   2.6028 0.0092464 ** \n",
    "(Intercept):train  3.2741952  0.6244152   5.2436 1.575e-07 ***\n",
    "cost              -0.0333389  0.0070955  -4.6986 2.620e-06 ***\n",
    "freq               0.0925297  0.0050976  18.1517 < 2.2e-16 ***\n",
    "ovt               -0.0430036  0.0032247 -13.3356 < 2.2e-16 ***\n",
    "income:bus        -0.0890867  0.0183471  -4.8556 1.200e-06 ***\n",
    "income:car        -0.0279930  0.0038726  -7.2286 4.881e-13 ***\n",
    "income:train      -0.0381466  0.0040831  -9.3426 < 2.2e-16 ***\n",
    "ivt:air            0.0595097  0.0100727   5.9080 3.463e-09 ***\n",
    "ivt:bus           -0.0067835  0.0044334  -1.5301 0.1259938    \n",
    "ivt:car           -0.0064603  0.0018985  -3.4029 0.0006668 ***\n",
    "ivt:train         -0.0014504  0.0011875  -1.2214 0.2219430    \n",
    "---\n",
    "Signif. codes:  0 ‘***’ 0.001 ‘**’ 0.01 ‘*’ 0.05 ‘.’ 0.1 ‘ ’ 1\n",
    "\n",
    "Log-Likelihood: -1874.3\n",
    "McFadden R^2:  0.35443 \n",
    "Likelihood ratio test : chisq = 2058.1 (p.value = < 2.22e-16)\n",
    "```"
   ]
  }
 ],
 "metadata": {
  "kernelspec": {
   "display_name": "notebooks",
   "language": "python",
   "name": "notebooks"
  },
  "language_info": {
   "codemirror_mode": {
    "name": "ipython",
    "version": 3
   },
   "file_extension": ".py",
   "mimetype": "text/x-python",
   "name": "python",
   "nbconvert_exporter": "python",
   "pygments_lexer": "ipython3",
   "version": "3.10.9"
  },
  "orig_nbformat": 4,
  "vscode": {
   "interpreter": {
    "hash": "9fef47ca45a9fa16dfa5177507049ecc2c67fa4929d44df84bb2a0176f4edfa8"
   }
  }
 },
 "nbformat": 4,
 "nbformat_minor": 2
}
