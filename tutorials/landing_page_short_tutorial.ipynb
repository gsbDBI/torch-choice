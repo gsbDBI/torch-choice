{
 "cells": [
  {
   "cell_type": "markdown",
   "metadata": {},
   "source": [
    "# Introduction\n",
    "Welcome to the deep choice documentation site, we will guide you through basics of our package and how to use it.\n",
    "\n",
    "Author: Tianyu Du\n",
    "\n",
    "Date: Jun. 22, 2022\n",
    "\n",
    "Update: Jul. 10, 2022"
   ]
  },
  {
   "cell_type": "code",
   "execution_count": 1,
   "metadata": {},
   "outputs": [],
   "source": [
    "__author__ = 'Tianyu Du'"
   ]
  },
  {
   "cell_type": "markdown",
   "metadata": {},
   "source": [
    "In this demonstration, we will guide you through a minimal example of fitting a conditional logit model using our package. We will be referencing to R code and Stata code as well to deliver a smooth knowledge transfer."
   ]
  },
  {
   "cell_type": "markdown",
   "metadata": {},
   "source": [
    "First thing first, let's import a couple of modules from our package."
   ]
  },
  {
   "cell_type": "markdown",
   "metadata": {},
   "source": [
    "# Step 0: Import Modules"
   ]
  },
  {
   "cell_type": "markdown",
   "metadata": {},
   "source": [
    "## Python"
   ]
  },
  {
   "cell_type": "code",
   "execution_count": 16,
   "metadata": {},
   "outputs": [],
   "source": [
    "import pandas as pd\n",
    "import torch_choice"
   ]
  },
  {
   "cell_type": "markdown",
   "metadata": {},
   "source": [
    "## R\n",
    "```{r}\n",
    "library(\"mlogit\")\n",
    "```"
   ]
  },
  {
   "cell_type": "markdown",
   "metadata": {},
   "source": [
    "# Step 1: Load Data\n",
    "We have include a copy of the `ModeCanada` dataset in our package: `./public_datasets/ModeCanada.csv`, it's a very small dataset and please feel free to investigate it using softwares like Microsoft Excel."
   ]
  },
  {
   "cell_type": "markdown",
   "metadata": {},
   "source": [
    "Let's load the mode canada dataset (TODO: add reference to it)."
   ]
  },
  {
   "cell_type": "markdown",
   "metadata": {},
   "source": [
    "## Python"
   ]
  },
  {
   "cell_type": "code",
   "execution_count": 6,
   "metadata": {},
   "outputs": [],
   "source": [
    "df = pd.read_csv('./public_datasets/ModeCanada.csv').query('noalt == 4').reset_index(drop=True)"
   ]
  },
  {
   "cell_type": "markdown",
   "metadata": {},
   "source": [
    "## R\n",
    "```{r}\n",
    "ModeCanada <- read.csv('./public_datasets/ModeCanada.csv')\n",
    "ModeCanada <- select(ModeCanada, -X)\n",
    "ModeCanada$alt <- as.factor(ModeCanada$alt)\n",
    "```"
   ]
  },
  {
   "cell_type": "markdown",
   "metadata": {},
   "source": [
    "# Step 2: Format Data-Frame\n",
    "TODO: add why we need to do it (every package is doing it).\n",
    "## Python\n",
    "Tell the `EasyDatasetWrapper` about observables\n",
    "\n",
    "1. price observable: cost, freq, ovt, ivt\n",
    "2. session observables: income."
   ]
  },
  {
   "cell_type": "code",
   "execution_count": 13,
   "metadata": {},
   "outputs": [
    {
     "name": "stdout",
     "output_type": "stream",
     "text": [
      "Creating choice dataset from stata format data-frames...\n",
      "Finished Creating Choice Dataset.\n"
     ]
    }
   ],
   "source": [
    "data = torch_choice.utils.easy_data_wrapper.EasyDatasetWrapper(main_data=df,\n",
    "                                                               purchase_record_column='case',\n",
    "                                                               choice_column='choice',\n",
    "                                                               item_name_column='alt',\n",
    "                                                               user_index_column='case',\n",
    "                                                               session_index_column='case',\n",
    "                                                               session_observable_columns=['income'],\n",
    "                                                               price_observable_columns=['cost', 'freq', 'ovt', 'ivt'])\n"
   ]
  },
  {
   "cell_type": "markdown",
   "metadata": {},
   "source": [
    "## R\n",
    "```{r}\n",
    "MC <- dfidx(ModeCanada, subset = noalt == 4)\n",
    "```"
   ]
  },
  {
   "cell_type": "markdown",
   "metadata": {},
   "source": [
    "# Step 3: Define and Fit the Conditional Logit Model\n",
    "## Python"
   ]
  },
  {
   "cell_type": "code",
   "execution_count": 14,
   "metadata": {},
   "outputs": [],
   "source": [
    "model = torch_choice.model.ConditionalLogitModel(coef_variation_dict={'price_cost': 'constant',\n",
    "                                                                      'price_freq': 'constant',\n",
    "                                                                      'price_ovt': 'constant',\n",
    "                                                                      'session_income': 'item',\n",
    "                                                                      'price_ivt': 'item-full',\n",
    "                                                                      'intercept': 'item'},\n",
    "                                                 num_items=4)\n"
   ]
  },
  {
   "cell_type": "code",
   "execution_count": 15,
   "metadata": {},
   "outputs": [
    {
     "name": "stdout",
     "output_type": "stream",
     "text": [
      "==================== received model ====================\n",
      "ConditionalLogitModel(\n",
      "  (coef_dict): ModuleDict(\n",
      "    (price_cost): Coefficient(variation=constant, num_items=4, num_users=None, num_params=1, 1 trainable parameters in total).\n",
      "    (price_freq): Coefficient(variation=constant, num_items=4, num_users=None, num_params=1, 1 trainable parameters in total).\n",
      "    (price_ovt): Coefficient(variation=constant, num_items=4, num_users=None, num_params=1, 1 trainable parameters in total).\n",
      "    (session_income): Coefficient(variation=item, num_items=4, num_users=None, num_params=1, 3 trainable parameters in total).\n",
      "    (price_ivt): Coefficient(variation=item-full, num_items=4, num_users=None, num_params=1, 4 trainable parameters in total).\n",
      "    (intercept): Coefficient(variation=item, num_items=4, num_users=None, num_params=1, 3 trainable parameters in total).\n",
      "  )\n",
      ")\n",
      "Conditional logistic discrete choice model, expects input features:\n",
      "\n",
      "X[price_cost] with 1 parameters, with constant level variation.\n",
      "X[price_freq] with 1 parameters, with constant level variation.\n",
      "X[price_ovt] with 1 parameters, with constant level variation.\n",
      "X[session_income] with 1 parameters, with item level variation.\n",
      "X[price_ivt] with 1 parameters, with item-full level variation.\n",
      "X[intercept] with 1 parameters, with item level variation.\n",
      "==================== received dataset ====================\n",
      "ChoiceDataset(label=[], item_index=[2779], user_index=[2779], session_index=[2779], item_availability=[], session_income=[2779, 1], price_cost=[2779, 4, 1], price_freq=[2779, 4, 1], price_ovt=[2779, 4, 1], price_ivt=[2779, 4, 1], device=cpu)\n",
      "==================== training the model ====================\n",
      "Epoch 500: Log-likelihood=-2160.880859375\n",
      "Epoch 1000: Log-likelihood=-1879.3438720703125\n",
      "Epoch 1500: Log-likelihood=-1877.52392578125\n",
      "Epoch 2000: Log-likelihood=-1876.9451904296875\n",
      "Epoch 2500: Log-likelihood=-1876.404052734375\n",
      "Epoch 3000: Log-likelihood=-1877.202392578125\n",
      "Epoch 3500: Log-likelihood=-1888.3153076171875\n",
      "Epoch 4000: Log-likelihood=-1876.005859375\n",
      "Epoch 4500: Log-likelihood=-1880.1177978515625\n",
      "Epoch 5000: Log-likelihood=-1875.3831787109375\n",
      "==================== model results ====================\n",
      "Training Epochs: 5000\n",
      "\n",
      "Learning Rate: 0.01\n",
      "\n",
      "Batch Size: 2779 out of 2779 observations in total\n",
      "\n",
      "Final Log-likelihood: -1875.3831787109375\n",
      "\n",
      "Coefficients:\n",
      "\n",
      "| Coefficient      |   Estimation |   Std. Err. |\n",
      "|:-----------------|-------------:|------------:|\n",
      "| price_cost_0     |  -0.039181   |  0.00714764 |\n",
      "| price_freq_0     |   0.0938982  |  0.005122   |\n",
      "| price_ovt_0      |  -0.0431652  |  0.00326539 |\n",
      "| session_income_0 |  -0.0875671  |  0.0187265  |\n",
      "| session_income_1 |  -0.0264279  |  0.00383815 |\n",
      "| session_income_2 |  -0.0366822  |  0.00409787 |\n",
      "| price_ivt_0      |   0.0593091  |  0.0101401  |\n",
      "| price_ivt_1      |  -0.00704278 |  0.00448905 |\n",
      "| price_ivt_2      |  -0.00547529 |  0.00190043 |\n",
      "| price_ivt_3      |  -0.00152697 |  0.00119561 |\n",
      "| intercept_0      |  -0.0559065  |  1.29294    |\n",
      "| intercept_1      |   1.09851    |  0.706462   |\n",
      "| intercept_2      |   2.64142    |  0.621027   |\n"
     ]
    },
    {
     "data": {
      "text/plain": [
       "ConditionalLogitModel(\n",
       "  (coef_dict): ModuleDict(\n",
       "    (price_cost): Coefficient(variation=constant, num_items=4, num_users=None, num_params=1, 1 trainable parameters in total).\n",
       "    (price_freq): Coefficient(variation=constant, num_items=4, num_users=None, num_params=1, 1 trainable parameters in total).\n",
       "    (price_ovt): Coefficient(variation=constant, num_items=4, num_users=None, num_params=1, 1 trainable parameters in total).\n",
       "    (session_income): Coefficient(variation=item, num_items=4, num_users=None, num_params=1, 3 trainable parameters in total).\n",
       "    (price_ivt): Coefficient(variation=item-full, num_items=4, num_users=None, num_params=1, 4 trainable parameters in total).\n",
       "    (intercept): Coefficient(variation=item, num_items=4, num_users=None, num_params=1, 3 trainable parameters in total).\n",
       "  )\n",
       ")\n",
       "Conditional logistic discrete choice model, expects input features:\n",
       "\n",
       "X[price_cost] with 1 parameters, with constant level variation.\n",
       "X[price_freq] with 1 parameters, with constant level variation.\n",
       "X[price_ovt] with 1 parameters, with constant level variation.\n",
       "X[session_income] with 1 parameters, with item level variation.\n",
       "X[price_ivt] with 1 parameters, with item-full level variation.\n",
       "X[intercept] with 1 parameters, with item level variation."
      ]
     },
     "execution_count": 15,
     "metadata": {},
     "output_type": "execute_result"
    }
   ],
   "source": [
    "torch_choice.utils.run_helper.run(model, data.choice_dataset, num_epochs=5000, learning_rate=0.01, batch_size=-1)"
   ]
  },
  {
   "cell_type": "markdown",
   "metadata": {},
   "source": [
    "## R\n",
    "```{r}\n",
    "ml.MC1 <- mlogit(choice ~ cost + freq + ovt | income | ivt, MC, reflevel='air')\n",
    "summary(ml.MC1)\n",
    "```\n",
    "\n",
    "R output:\n",
    "```\n",
    "Call:\n",
    "mlogit(formula = choice ~ cost + freq + ovt | income | ivt, data = MC, \n",
    "    reflevel = \"air\", method = \"nr\")\n",
    "\n",
    "Frequencies of alternatives:choice\n",
    "      air       bus       car     train \n",
    "0.3738755 0.0035984 0.4559194 0.1666067 \n",
    "\n",
    "nr method\n",
    "9 iterations, 0h:0m:0s \n",
    "g'(-H)^-1g = 0.00014 \n",
    "successive function values within tolerance limits \n",
    "\n",
    "Coefficients :\n",
    "                    Estimate Std. Error  z-value  Pr(>|z|)    \n",
    "(Intercept):bus    0.6983381  1.2802466   0.5455 0.5854292    \n",
    "(Intercept):car    1.8441129  0.7085089   2.6028 0.0092464 ** \n",
    "(Intercept):train  3.2741952  0.6244152   5.2436 1.575e-07 ***\n",
    "cost              -0.0333389  0.0070955  -4.6986 2.620e-06 ***\n",
    "freq               0.0925297  0.0050976  18.1517 < 2.2e-16 ***\n",
    "ovt               -0.0430036  0.0032247 -13.3356 < 2.2e-16 ***\n",
    "income:bus        -0.0890867  0.0183471  -4.8556 1.200e-06 ***\n",
    "income:car        -0.0279930  0.0038726  -7.2286 4.881e-13 ***\n",
    "income:train      -0.0381466  0.0040831  -9.3426 < 2.2e-16 ***\n",
    "ivt:air            0.0595097  0.0100727   5.9080 3.463e-09 ***\n",
    "ivt:bus           -0.0067835  0.0044334  -1.5301 0.1259938    \n",
    "ivt:car           -0.0064603  0.0018985  -3.4029 0.0006668 ***\n",
    "ivt:train         -0.0014504  0.0011875  -1.2214 0.2219430    \n",
    "---\n",
    "Signif. codes:  0 ‘***’ 0.001 ‘**’ 0.01 ‘*’ 0.05 ‘.’ 0.1 ‘ ’ 1\n",
    "\n",
    "Log-Likelihood: -1874.3\n",
    "McFadden R^2:  0.35443 \n",
    "Likelihood ratio test : chisq = 2058.1 (p.value = < 2.22e-16)\n",
    "```"
   ]
  }
 ],
 "metadata": {
  "kernelspec": {
   "display_name": "Python 3.8.10 ('ml')",
   "language": "python",
   "name": "python3"
  },
  "language_info": {
   "codemirror_mode": {
    "name": "ipython",
    "version": 3
   },
   "file_extension": ".py",
   "mimetype": "text/x-python",
   "name": "python",
   "nbconvert_exporter": "python",
   "pygments_lexer": "ipython3",
   "version": "3.8.10"
  },
  "orig_nbformat": 4,
  "vscode": {
   "interpreter": {
    "hash": "07dd84f3285103b45d36665747e055dbb0ef78c9d17293fd1b33b99205a40b05"
   }
  }
 },
 "nbformat": 4,
 "nbformat_minor": 2
}
