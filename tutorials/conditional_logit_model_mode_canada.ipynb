{
 "cells": [
  {
   "cell_type": "markdown",
   "metadata": {},
   "source": [
    "# Example of the Conditional Logit Model on ModeCanada Dataset\n",
    "This tutorial is modified from the [Random utility model and the multinomial logit model](https://cran.r-project.org/web/packages/mlogit/vignettes/c3.rum.html) in th documentation of `mlogit` package in R. Please note that the dataset involved in this example is fairly small (2,779 choice records), so we don't expect the performance to be faster than the R implementation. We provide this tutorial mainly to check the correctness of our prediction. The fully potential of PyTorch is better exploited on much larger dataset."
   ]
  },
  {
   "cell_type": "code",
   "execution_count": 1,
   "metadata": {},
   "outputs": [],
   "source": [
    "import argparse\n",
    "\n",
    "from time import time\n",
    "import numpy as np\n",
    "import pandas as pd\n",
    "import torch\n",
    "import torch.nn.functional as F\n",
    "\n",
    "from torch_choice.data import ChoiceDataset, utils\n",
    "from torch_choice.model import ConditionalLogitModel\n",
    "\n",
    "from torch_choice.utils.run_helper import run"
   ]
  },
  {
   "cell_type": "code",
   "execution_count": 2,
   "metadata": {},
   "outputs": [
    {
     "name": "stdout",
     "output_type": "stream",
     "text": [
      "CUDA device used: NVIDIA GeForce RTX 3090\n"
     ]
    }
   ],
   "source": [
    "if torch.cuda.is_available():\n",
    "    print(f'CUDA device used: {torch.cuda.get_device_name()}')"
   ]
  },
  {
   "cell_type": "code",
   "execution_count": 3,
   "metadata": {},
   "outputs": [],
   "source": [
    "args = argparse.Namespace(data_path='./',\n",
    "                          batch_size=-1,  # full-batch.\n",
    "                          shuffle=False,\n",
    "                          num_epochs=5000,\n",
    "                          device='cuda' if torch.cuda.is_available() else 'cpu')"
   ]
  },
  {
   "cell_type": "markdown",
   "metadata": {},
   "source": [
    "## Load Dataset\n",
    "We have included the `ModeCanada` dataset in our package. The `ModeCanada` dataset contains individuals' choice on traveling methods. The raw dataset is in a long-format, in which the `case` variable identifies each choice. For example, the first four row (with `case == 109`) corresponds to the first choice, the `alt` column lists all alternatives/items available. The `choice` column identifies which alternative/item is chosen. In this example with `choice == 1` on `air` alternative, the decision maker chose to travel by `air` among four available alternatives/items/traveling modes.\n",
    "\n",
    "Now we convert the raw dataset into the format compatible with our model."
   ]
  },
  {
   "cell_type": "code",
   "execution_count": 4,
   "metadata": {},
   "outputs": [
    {
     "data": {
      "text/html": [
       "<div>\n",
       "<style scoped>\n",
       "    .dataframe tbody tr th:only-of-type {\n",
       "        vertical-align: middle;\n",
       "    }\n",
       "\n",
       "    .dataframe tbody tr th {\n",
       "        vertical-align: top;\n",
       "    }\n",
       "\n",
       "    .dataframe thead th {\n",
       "        text-align: right;\n",
       "    }\n",
       "</style>\n",
       "<table border=\"1\" class=\"dataframe\">\n",
       "  <thead>\n",
       "    <tr style=\"text-align: right;\">\n",
       "      <th></th>\n",
       "      <th>Unnamed: 0</th>\n",
       "      <th>case</th>\n",
       "      <th>alt</th>\n",
       "      <th>choice</th>\n",
       "      <th>dist</th>\n",
       "      <th>cost</th>\n",
       "      <th>ivt</th>\n",
       "      <th>ovt</th>\n",
       "      <th>freq</th>\n",
       "      <th>income</th>\n",
       "      <th>urban</th>\n",
       "      <th>noalt</th>\n",
       "    </tr>\n",
       "  </thead>\n",
       "  <tbody>\n",
       "    <tr>\n",
       "      <th>0</th>\n",
       "      <td>304</td>\n",
       "      <td>109</td>\n",
       "      <td>train</td>\n",
       "      <td>0</td>\n",
       "      <td>377</td>\n",
       "      <td>58.25</td>\n",
       "      <td>215</td>\n",
       "      <td>74</td>\n",
       "      <td>4</td>\n",
       "      <td>45</td>\n",
       "      <td>0</td>\n",
       "      <td>4</td>\n",
       "    </tr>\n",
       "    <tr>\n",
       "      <th>1</th>\n",
       "      <td>305</td>\n",
       "      <td>109</td>\n",
       "      <td>air</td>\n",
       "      <td>1</td>\n",
       "      <td>377</td>\n",
       "      <td>142.80</td>\n",
       "      <td>56</td>\n",
       "      <td>85</td>\n",
       "      <td>9</td>\n",
       "      <td>45</td>\n",
       "      <td>0</td>\n",
       "      <td>4</td>\n",
       "    </tr>\n",
       "    <tr>\n",
       "      <th>2</th>\n",
       "      <td>306</td>\n",
       "      <td>109</td>\n",
       "      <td>bus</td>\n",
       "      <td>0</td>\n",
       "      <td>377</td>\n",
       "      <td>27.52</td>\n",
       "      <td>301</td>\n",
       "      <td>63</td>\n",
       "      <td>8</td>\n",
       "      <td>45</td>\n",
       "      <td>0</td>\n",
       "      <td>4</td>\n",
       "    </tr>\n",
       "    <tr>\n",
       "      <th>3</th>\n",
       "      <td>307</td>\n",
       "      <td>109</td>\n",
       "      <td>car</td>\n",
       "      <td>0</td>\n",
       "      <td>377</td>\n",
       "      <td>71.63</td>\n",
       "      <td>262</td>\n",
       "      <td>0</td>\n",
       "      <td>0</td>\n",
       "      <td>45</td>\n",
       "      <td>0</td>\n",
       "      <td>4</td>\n",
       "    </tr>\n",
       "    <tr>\n",
       "      <th>4</th>\n",
       "      <td>308</td>\n",
       "      <td>110</td>\n",
       "      <td>train</td>\n",
       "      <td>0</td>\n",
       "      <td>377</td>\n",
       "      <td>58.25</td>\n",
       "      <td>215</td>\n",
       "      <td>74</td>\n",
       "      <td>4</td>\n",
       "      <td>70</td>\n",
       "      <td>0</td>\n",
       "      <td>4</td>\n",
       "    </tr>\n",
       "  </tbody>\n",
       "</table>\n",
       "</div>"
      ],
      "text/plain": [
       "   Unnamed: 0  case    alt  choice  dist    cost  ivt  ovt  freq  income  \\\n",
       "0         304   109  train       0   377   58.25  215   74     4      45   \n",
       "1         305   109    air       1   377  142.80   56   85     9      45   \n",
       "2         306   109    bus       0   377   27.52  301   63     8      45   \n",
       "3         307   109    car       0   377   71.63  262    0     0      45   \n",
       "4         308   110  train       0   377   58.25  215   74     4      70   \n",
       "\n",
       "   urban  noalt  \n",
       "0      0      4  \n",
       "1      0      4  \n",
       "2      0      4  \n",
       "3      0      4  \n",
       "4      0      4  "
      ]
     },
     "execution_count": 4,
     "metadata": {},
     "output_type": "execute_result"
    }
   ],
   "source": [
    "df = pd.read_csv('./public_datasets/ModeCanada.csv')\n",
    "df = df.query('noalt == 4').reset_index(drop=True)\n",
    "df.sort_values(by='case', inplace=True)\n",
    "df.head()"
   ]
  },
  {
   "cell_type": "code",
   "execution_count": 5,
   "metadata": {},
   "outputs": [
    {
     "data": {
      "text/plain": [
       "(11116, 12)"
      ]
     },
     "execution_count": 5,
     "metadata": {},
     "output_type": "execute_result"
    }
   ],
   "source": [
    "df.shape"
   ]
  },
  {
   "cell_type": "code",
   "execution_count": 6,
   "metadata": {},
   "outputs": [
    {
     "name": "stdout",
     "output_type": "stream",
     "text": [
      "0       air\n",
      "1       air\n",
      "2       air\n",
      "3       air\n",
      "4       air\n",
      "       ... \n",
      "2774    car\n",
      "2775    car\n",
      "2776    car\n",
      "2777    car\n",
      "2778    car\n",
      "Name: alt, Length: 2779, dtype: object\n"
     ]
    }
   ],
   "source": [
    "item_index = df[df['choice'] == 1].sort_values(by='case')['alt'].reset_index(drop=True)\n",
    "print(item_index)"
   ]
  },
  {
   "cell_type": "code",
   "execution_count": 7,
   "metadata": {},
   "outputs": [
    {
     "name": "stdout",
     "output_type": "stream",
     "text": [
      "encoder={'air': 0, 'bus': 1, 'car': 2, 'train': 3}\n",
      "item_index=tensor([0, 0, 0,  ..., 2, 2, 2])\n"
     ]
    }
   ],
   "source": [
    "item_names = ['air', 'bus', 'car', 'train']\n",
    "num_items = 4\n",
    "encoder = dict(zip(item_names, range(num_items)))\n",
    "print(f\"{encoder=:}\")\n",
    "item_index = item_index.map(lambda x: encoder[x])\n",
    "item_index = torch.LongTensor(item_index)\n",
    "print(f\"{item_index=:}\")"
   ]
  },
  {
   "cell_type": "code",
   "execution_count": 8,
   "metadata": {},
   "outputs": [],
   "source": [
    "price_cost_freq_ovt = utils.pivot3d(df, dim0='case', dim1='alt',\n",
    "                                    values=['cost', 'freq', 'ovt'])\n",
    "# session_income = torch.Tensor(df[['income']].values).view(-1, 1)\n",
    "session_income = df.groupby('case')['income'].first()\n",
    "session_income = torch.Tensor(session_income.values).view(-1, 1)\n",
    "price_ivt = utils.pivot3d(df, dim0='case', dim1='alt', values='ivt')"
   ]
  },
  {
   "cell_type": "markdown",
   "metadata": {},
   "source": [
    "The `ChoiceDataset` constructed contains 2779 choice records. Since the original dataset did not reveal the identity of each decision maker, we consider all 2779 choices were made by a single user but in 2779 different sessions to handle variations.\n",
    "\n",
    "In this case, the `cost`, `freq` and `ovt` are observables depending on both sessions and items, we created a `price_cost_freq_ovt` tensor with shape `(num_sessions, num_items, 3) = (2779, 4, 3)` to contain these variables.\n",
    "In contrast, the `income` information depends only on session but not on items, hence we create the `session_income` tensor to store it.\n",
    "\n",
    "Because we wish to fit item-specific coefficients for the `ivt` variable, which varies by both sessions and items as well, we create another `price_ivt` tensor in addition to the `price_cost_freq_ovt` tensor."
   ]
  },
  {
   "cell_type": "code",
   "execution_count": 9,
   "metadata": {},
   "outputs": [],
   "source": [
    "dataset= ChoiceDataset(item_index=item_index,\n",
    "                       price_cost_freq_ovt=price_cost_freq_ovt,\n",
    "                       session_income=session_income,\n",
    "                       price_ivt=price_ivt\n",
    "                       ).to(args.device)\n",
    "# data_loader = utils.create_data_loader(dataset, batch_size=-1, shuffle=True)"
   ]
  },
  {
   "cell_type": "code",
   "execution_count": 10,
   "metadata": {},
   "outputs": [
    {
     "data": {
      "text/plain": [
       "ChoiceDataset(label=[], item_index=[2779], user_index=[], session_index=[2779], item_availability=[], price_cost_freq_ovt=[2779, 4, 3], session_income=[2779, 1], price_ivt=[2779, 4, 1], device=cuda:0)"
      ]
     },
     "execution_count": 10,
     "metadata": {},
     "output_type": "execute_result"
    }
   ],
   "source": [
    "dataset"
   ]
  },
  {
   "cell_type": "markdown",
   "metadata": {},
   "source": [
    "## Create the Model\n",
    "We aim to estimate the following model formulation:\n",
    "$$\n",
    "U_{uit} = \\beta^0_i + \\beta^{1\\top} X^{price: (cost, freq, ovt)}_{it} + \\beta^2_i X^{session:income}_t + \\beta^3_i X_{it}^{price:ivt} + \\epsilon_{uit}\n",
    "$$\n",
    "\n",
    "We now initialize the `ConditionalLogitModel` to predict choices from the dataset. Please see the documentation [here](./torch_choice.model.conditional_logit_model.md) for a complete description of the `ConditionalLogitModel` class.\n",
    "\n",
    "The `ConditionalLogitModel` constructor requires four components:\n",
    "1. `coef_variation_dict` is a dictionary with variable names (defined above while constructing the dataset) as keys and values from `{constant, user, item, item-full}`. For instance, since we wish to have constant coefficients for `cost`, `freq` and `ovt` observables, and these three observables are stored in the `price_cost_freq_ovt` tensor of the choice dataset, we set `coef_variation_dict['price_cost_freq_ovt'] = 'constant'`.\n",
    "  The models allows for the option of enforcing coefficient for one item to be zero, the variation of $\\beta^3$ is specified as `item-full` which indicates 4 values of $\\beta^3$ is learned (one for each item). In contrast, $\\beta^0, \\beta^2$ are specified to have variation `item` instead of `item-full`. In this case, the $\\beta$ correspond to the first item (i.e., the baseline item, which is encoded as 0 in the label tensor) is force to be zero.\n",
    "   The researcher needs to declare `intercept` (as shown below) manually for the model to fit an intercept as well, otherwise the model assumes zero intercept term.\n",
    "2. `num_param_dict` is a dictionary with keys exactly the same as the `coef_variation_dict`. Each of dictionary values tells the dimension of the corresponding observables (hence the dimension of the coefficient). For example, the `price_cost_freq_ovt` consists of three observables and we set the corresponding to three.\n",
    "   Even the model can infer `num_param_dict['intercept'] = 1`, but we recommend the research to include it for completeness.\n",
    "3. `num_items` informs the model how many alternatives users are choosing from.\n",
    "4. `num_users` is an optional integer informing the model how many users there are in the dataset. However, in this example we implicitly assume there is only one user making all the decisions and we do not have any `user_obs` involved, hence `num_users` argument is not supplied.\n"
   ]
  },
  {
   "cell_type": "code",
   "execution_count": 11,
   "metadata": {},
   "outputs": [],
   "source": [
    "model = ConditionalLogitModel(coef_variation_dict={'price_cost_freq_ovt': 'constant',\n",
    "                                                   'session_income': 'item',\n",
    "                                                   'price_ivt': 'item-full',\n",
    "                                                   'intercept': 'item'},\n",
    "                              num_param_dict={'price_cost_freq_ovt': 3,\n",
    "                                              'session_income': 1,\n",
    "                                              'price_ivt': 1,\n",
    "                                              'intercept': 1},\n",
    "                              num_items=4)\n",
    "\n",
    "model = model.to(args.device)"
   ]
  },
  {
   "cell_type": "markdown",
   "metadata": {},
   "source": [
    "## Train the Model\n",
    "The model takes in a `ChoiceDataset` object in and return predicted potentials for each alternatives. The shape of output would be `len(dataset) X num_items`.\n",
    "We provide an easy-to-use model runner for both `ConditionalLogitModel` and `NestedLogitModel` instances."
   ]
  },
  {
   "cell_type": "code",
   "execution_count": 12,
   "metadata": {},
   "outputs": [
    {
     "name": "stdout",
     "output_type": "stream",
     "text": [
      "==================== received model ====================\n",
      "ConditionalLogitModel(\n",
      "  (coef_dict): ModuleDict(\n",
      "    (price_cost_freq_ovt): Coefficient(variation=constant, num_items=4, num_users=None, num_params=3, 3 trainable parameters in total).\n",
      "    (session_income): Coefficient(variation=item, num_items=4, num_users=None, num_params=1, 3 trainable parameters in total).\n",
      "    (price_ivt): Coefficient(variation=item-full, num_items=4, num_users=None, num_params=1, 4 trainable parameters in total).\n",
      "    (intercept): Coefficient(variation=item, num_items=4, num_users=None, num_params=1, 3 trainable parameters in total).\n",
      "  )\n",
      ")\n",
      "Conditional logistic discrete choice model, expects input features:\n",
      "\n",
      "X[price_cost_freq_ovt] with 3 parameters, with constant level variation.\n",
      "X[session_income] with 1 parameters, with item level variation.\n",
      "X[price_ivt] with 1 parameters, with item-full level variation.\n",
      "X[intercept] with 1 parameters, with item level variation.\n",
      "==================== received dataset ====================\n",
      "ChoiceDataset(label=[], item_index=[2779], user_index=[], session_index=[2779], item_availability=[], price_cost_freq_ovt=[2779, 4, 3], session_income=[2779, 1], price_ivt=[2779, 4, 1], device=cuda:0)\n",
      "==================== training the model ====================\n",
      "Epoch 5000: Log-likelihood=-1892.477783203125\n",
      "Epoch 10000: Log-likelihood=-1876.111328125\n",
      "Epoch 15000: Log-likelihood=-1887.440673828125\n",
      "Epoch 20000: Log-likelihood=-1874.94873046875\n",
      "Epoch 25000: Log-likelihood=-1880.418701171875\n",
      "Epoch 30000: Log-likelihood=-1875.380126953125\n",
      "Epoch 35000: Log-likelihood=-1874.6539306640625\n",
      "Epoch 40000: Log-likelihood=-1875.77490234375\n",
      "Epoch 45000: Log-likelihood=-1884.27294921875\n",
      "Epoch 50000: Log-likelihood=-1881.9267578125\n",
      "==================== model results ====================\n",
      "Training Epochs: 50000\n",
      "\n",
      "Learning Rate: 0.01\n",
      "\n",
      "Batch Size: 2779 out of 2779 observations in total\n",
      "\n",
      "Final Log-likelihood: -1881.9267578125\n",
      "\n",
      "Coefficients:\n",
      "\n",
      "| Coefficient           |   Estimation |   Std. Err. |\n",
      "|:----------------------|-------------:|------------:|\n",
      "| price_cost_freq_ovt_0 |  -0.0335848  |  0.00724175 |\n",
      "| price_cost_freq_ovt_1 |   0.0926003  |  0.00516289 |\n",
      "| price_cost_freq_ovt_2 |  -0.0435459  |  0.00333631 |\n",
      "| session_income_0      |  -0.0895265  |  0.0193202  |\n",
      "| session_income_1      |  -0.0277154  |  0.00385749 |\n",
      "| session_income_2      |  -0.0385979  |  0.00419459 |\n",
      "| price_ivt_0           |   0.0594864  |  0.0102088  |\n",
      "| price_ivt_1           |  -0.00710538 |  0.0046677  |\n",
      "| price_ivt_2           |  -0.00623221 |  0.00192296 |\n",
      "| price_ivt_3           |  -0.00182246 |  0.00121445 |\n",
      "| intercept_0           |   0.700629   |  1.33349    |\n",
      "| intercept_1           |   1.8497     |  0.720506   |\n",
      "| intercept_2           |   3.27867    |  0.6386     |\n",
      "Time taken: 74.3606629371643\n"
     ]
    }
   ],
   "source": [
    "start_time = time()\n",
    "run(model, dataset, num_epochs=50000, learning_rate=0.01, batch_size=-1)\n",
    "print('Time taken:', time() - start_time)"
   ]
  },
  {
   "cell_type": "markdown",
   "metadata": {},
   "source": [
    "## Parameter Estimation\n",
    "The following is the R-output from the `mlogit` implementation, the estimation, standard error, and log-likelihood from our `torch_choice` implementation is the same as the result from `mlogit` implementation."
   ]
  },
  {
   "cell_type": "markdown",
   "metadata": {},
   "source": [
    "### R Output\n",
    "```r\n",
    "install.packages(\"mlogit\")\n",
    "library(\"mlogit\")\n",
    "data(\"ModeCanada\", package = \"mlogit\")\n",
    "MC <- dfidx(ModeCanada, subset = noalt == 4)\n",
    "ml.MC1 <- mlogit(choice ~ cost + freq + ovt | income | ivt, MC, reflevel='air')\n",
    "\n",
    "summary(ml.MC1)\n",
    "```\n",
    "```\n",
    "Call:\n",
    "mlogit(formula = choice ~ cost + freq + ovt | income | ivt, data = MC, \n",
    "    reflevel = \"air\", method = \"nr\")\n",
    "\n",
    "Frequencies of alternatives:choice\n",
    "      air     train       bus       car \n",
    "0.3738755 0.1666067 0.0035984 0.4559194 \n",
    "\n",
    "nr method\n",
    "9 iterations, 0h:0m:0s \n",
    "g'(-H)^-1g = 0.00014 \n",
    "successive function values within tolerance limits \n",
    "\n",
    "Coefficients :\n",
    "                    Estimate Std. Error  z-value  Pr(>|z|)    \n",
    "(Intercept):train  3.2741952  0.6244152   5.2436 1.575e-07 ***\n",
    "(Intercept):bus    0.6983381  1.2802466   0.5455 0.5854292    \n",
    "(Intercept):car    1.8441129  0.7085089   2.6028 0.0092464 ** \n",
    "cost              -0.0333389  0.0070955  -4.6986 2.620e-06 ***\n",
    "freq               0.0925297  0.0050976  18.1517 < 2.2e-16 ***\n",
    "ovt               -0.0430036  0.0032247 -13.3356 < 2.2e-16 ***\n",
    "income:train      -0.0381466  0.0040831  -9.3426 < 2.2e-16 ***\n",
    "income:bus        -0.0890867  0.0183471  -4.8556 1.200e-06 ***\n",
    "income:car        -0.0279930  0.0038726  -7.2286 4.881e-13 ***\n",
    "ivt:air            0.0595097  0.0100727   5.9080 3.463e-09 ***\n",
    "ivt:train         -0.0014504  0.0011875  -1.2214 0.2219430    \n",
    "ivt:bus           -0.0067835  0.0044334  -1.5301 0.1259938    \n",
    "ivt:car           -0.0064603  0.0018985  -3.4029 0.0006668 ***\n",
    "---\n",
    "Signif. codes:  0 ‘***’ 0.001 ‘**’ 0.01 ‘*’ 0.05 ‘.’ 0.1 ‘ ’ 1\n",
    "\n",
    "Log-Likelihood: -1874.3\n",
    "McFadden R^2:  0.35443 \n",
    "Likelihood ratio test : chisq = 2058.1 (p.value = < 2.22e-16)\n",
    "```"
   ]
  }
 ],
 "metadata": {
  "interpreter": {
   "hash": "07dd84f3285103b45d36665747e055dbb0ef78c9d17293fd1b33b99205a40b05"
  },
  "kernelspec": {
   "display_name": "Python 3",
   "language": "python",
   "name": "python3"
  },
  "language_info": {
   "codemirror_mode": {
    "name": "ipython",
    "version": 3
   },
   "file_extension": ".py",
   "mimetype": "text/x-python",
   "name": "python",
   "nbconvert_exporter": "python",
   "pygments_lexer": "ipython3",
   "version": "3.8.10"
  },
  "toc": {
   "base_numbering": 1,
   "nav_menu": {},
   "number_sections": true,
   "sideBar": true,
   "skip_h1_title": false,
   "title_cell": "Table of Contents",
   "title_sidebar": "Contents",
   "toc_cell": false,
   "toc_position": {},
   "toc_section_display": true,
   "toc_window_display": true
  }
 },
 "nbformat": 4,
 "nbformat_minor": 2
}
